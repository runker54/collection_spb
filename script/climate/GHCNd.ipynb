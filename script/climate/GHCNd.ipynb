{
 "cells": [
  {
   "cell_type": "code",
   "execution_count": 3,
   "metadata": {},
   "outputs": [],
   "source": [
    "import os\n",
    "import json\n",
    "import time\n",
    "import pandas as pd\n",
    "import requests\n",
    "from bs4 import BeautifulSoup\n",
    "import datetime\n",
    "import re"
   ]
  },
  {
   "cell_type": "code",
   "execution_count": 4,
   "metadata": {},
   "outputs": [],
   "source": [
    "# save path\n",
    "save_path = r'F:\\collection_spb_info\\CLIMATE'"
   ]
  },
  {
   "cell_type": "code",
   "execution_count": 5,
   "metadata": {},
   "outputs": [],
   "source": [
    "# define headers\n",
    "headers = {\n",
    "    'Accept': 'text/html,application/xhtml+xml,application/xml;q=0.9,image/avif,image/webp,image/apng,*/*;q=0.8,application/signed-exchange;v=b3;q=0.7',\n",
    "    'Accept-Encoding': 'gzip, deflate, br, zstd',\n",
    "    'Accept-Language': 'zh-CN,zh;q=0.9,en;q=0.8',\n",
    "    'Cache-Control': 'max-age=0',\n",
    "    'Connection': 'keep-alive',\n",
    "    'Host': 'www.ncei.noaa.gov',\n",
    "    'Referer': 'https://www.ncei.noaa.gov/data/global-historical-climatology-network-daily/',\n",
    "    'Sec-Ch-Ua': '\"Not/A)Brand\";v=\"8\", \"Chromium\";v=\"126\", \"Google Chrome\";v=\"126\"',\n",
    "    'Sec-Ch-Ua-Mobile': '?0',\n",
    "    'Sec-Ch-Ua-Platform': '\"Windows\"',\n",
    "    'Sec-Fetch-Dest': 'document',\n",
    "    'Sec-Fetch-Mode': 'navigate',\n",
    "    'Sec-Fetch-Site': 'same-origin',\n",
    "    'Sec-Fetch-User': '?1',\n",
    "    'Upgrade-Insecure-Requests': '1',\n",
    "    'User-Agent': 'Mozilla/5.0 (Windows NT 10.0; Win64; x64) AppleWebKit/537.36 (KHTML, like Gecko) Chrome/126.0.0.0 Safari/537.36'\n",
    "}\n"
   ]
  },
  {
   "cell_type": "code",
   "execution_count": 6,
   "metadata": {},
   "outputs": [],
   "source": [
    "# url \n",
    "host_url = 'https://www.ncei.noaa.gov/data/global-historical-climatology-network-daily/access/'"
   ]
  },
  {
   "cell_type": "code",
   "execution_count": 18,
   "metadata": {},
   "outputs": [],
   "source": [
    "response = requests.get(host_url,headers=headers)"
   ]
  },
  {
   "cell_type": "code",
   "execution_count": 19,
   "metadata": {},
   "outputs": [],
   "source": [
    "\n",
    "soup = BeautifulSoup(response.content, 'html.parser')\n",
    "\n",
    "# 找到所有链接\n",
    "links = soup.find_all('a', href=True)\n",
    "\n",
    "# 正则表达式匹配以CHM和CHW开头的CSV文件\n",
    "pattern = re.compile(r'^(CHM|CHW).+\\.csv$')\n",
    "\n"
   ]
  },
  {
   "cell_type": "code",
   "execution_count": 20,
   "metadata": {},
   "outputs": [],
   "source": [
    "# url list\n",
    "url_list = []\n",
    "for link in links:\n",
    "    href = link['href']\n",
    "    if pattern.match(href):\n",
    "        file_url = host_url + href\n",
    "        url_list.append(file_url)"
   ]
  },
  {
   "cell_type": "code",
   "execution_count": null,
   "metadata": {},
   "outputs": [],
   "source": [
    "# download save\n",
    "def download_file(file_url, headers, save_path, retries=3):\n",
    "    for attempt in range(retries):\n",
    "        try:\n",
    "            file_response = requests.get(file_url, headers=headers, stream=True)\n",
    "            file_name = os.path.join(save_path, os.path.basename(file_url))\n",
    "            with open(file_name, 'wb') as file:\n",
    "                for chunk in file_response.iter_content(chunk_size=512):\n",
    "                    if chunk:\n",
    "                        file.write(chunk)\n",
    "            print(f'Saved {file_name}')\n",
    "            return\n",
    "        except (requests.exceptions.ChunkedEncodingError, requests.exceptions.ConnectionError) as e:\n",
    "            print(f'Error downloading {file_name}: {e}. Retrying {attempt + 1}/{retries}...')\n",
    "            time.sleep(2 ** attempt)  # 指数退避\n",
    "    print(f'Failed to download {file_url} after {retries} attempts.')\n",
    "\n",
    "# 下载所有文件\n",
    "for file_url in url_list:\n",
    "    print(f'Downloading {file_url}')\n",
    "    download_file(file_url, headers, save_path)"
   ]
  }
 ],
 "metadata": {
  "kernelspec": {
   "display_name": "spiderenv",
   "language": "python",
   "name": "python3"
  },
  "language_info": {
   "codemirror_mode": {
    "name": "ipython",
    "version": 3
   },
   "file_extension": ".py",
   "mimetype": "text/x-python",
   "name": "python",
   "nbconvert_exporter": "python",
   "pygments_lexer": "ipython3",
   "version": "3.10.11"
  }
 },
 "nbformat": 4,
 "nbformat_minor": 2
}
