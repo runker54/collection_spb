{
 "cells": [
  {
   "cell_type": "code",
   "execution_count": null,
   "metadata": {},
   "outputs": [],
   "source": [
    "import time\n",
    "import requests"
   ]
  },
  {
   "cell_type": "code",
   "execution_count": null,
   "metadata": {},
   "outputs": [],
   "source": [
    "# 配置\n",
    "courseid = \"c3469555f6fe4185b59763588d3babfd\"\n",
    "coursewareid = \"4e84a336123b4ce1ba4c3b2bc759a05b\"\n",
    "base_url = \"http://guizhou.zxjxjy.com\"\n",
    "headers = {\n",
    "    'User-Agent': 'Mozilla/5.0 (Windows NT 10.0; Win64; x64) AppleWebKit/537.36 (KHTML, like Gecko) Chrome/126.0.0.0 Safari/537.36',\n",
    "    'Accept': 'application/json, text/plain, */*',\n",
    "    'Accept-Encoding': 'gzip, deflate',\n",
    "    'Accept-Language': 'zh-CN,zh;q=0.9,en;q=0.8',\n",
    "    'Connection': 'keep-alive',\n",
    "    'Content-Type': 'application/json',\n",
    "    'Referer': f'{base_url}/p/classroom/simple?courseid={courseid}&coursewareid={coursewareid}',\n",
    "    'Origin': base_url,\n",
    "    'X-Requested-With': 'XMLHttpRequest',\n",
    "}\n",
    "cookies = {\n",
    "    'edu-s': '3f7392ab3e7846dc9284cfb4cb06c96f',\n",
    "    'Hm_lvt_b21659b538990a950b60a32e93668ae4': '1721613496',\n",
    "    'HMACCOUNT': '04CE47A58451A36E',\n",
    "    'Hm_lpvt_b21659b538990a950b60a32e93668ae4': '1721624371',\n",
    "}\n",
    "\n",
    "lesson_location = 2672.190211  # 初始位置，可以根据实际情况调整"
   ]
  },
  {
   "cell_type": "code",
   "execution_count": null,
   "metadata": {},
   "outputs": [],
   "source": [
    "def get_action():\n",
    "    url = f\"{base_url}/p/action/get\"\n",
    "    payload = {\n",
    "        \"courseid\": courseid,\n",
    "        \"coursewareid\": coursewareid,\n",
    "        \"lessonlocation\": lesson_location,\n",
    "    }\n",
    "    response = requests.post(url, headers=headers, cookies=cookies, data=payload)\n",
    "    print(f\"GET Action Response: {response.status_code} - {response.text}\")\n",
    "\n",
    "def check_limit():\n",
    "    url = f\"{base_url}/play/checklimit?courseid={courseid}&cwid={coursewareid}\"\n",
    "    response = requests.get(url, headers=headers, cookies=cookies)\n",
    "    print(f\"Check Limit Response: {response.status_code} - {response.text}\")\n",
    "\n",
    "def submit_process():\n",
    "    url = f\"{base_url}/p/play/submitProcess\"\n",
    "    payload = {\n",
    "        \"courseId\": courseid,\n",
    "        \"coursewareId\": coursewareid,\n",
    "        \"lessonLocation\": lesson_location,\n",
    "    }\n",
    "    response = requests.post(url, headers=headers, cookies=cookies, json=payload)\n",
    "    print(f\"Submit Process Response: {response.status_code} - {response.text}\")\n",
    "\n",
    "last_get_check_time = time.time()\n",
    "last_submit_time = time.time()"
   ]
  },
  {
   "cell_type": "code",
   "execution_count": null,
   "metadata": {},
   "outputs": [],
   "source": [
    "while True:\n",
    "    current_time = time.time()\n",
    "\n",
    "    # 每15秒发送GET和checklimit请求\n",
    "    if current_time - last_get_check_time >= 15:\n",
    "        get_action()\n",
    "        check_limit()\n",
    "        check_limit()\n",
    "        last_get_check_time = current_time\n",
    "\n",
    "    # 每30秒发送submitProcess请求\n",
    "    if current_time - last_submit_time >= 30:\n",
    "        lesson_location += 30  # 假设每次播放进度增加30秒\n",
    "        submit_process()\n",
    "        last_submit_time = current_time\n",
    "\n",
    "    time.sleep(1)  # 每秒钟检查一次"
   ]
  }
 ],
 "metadata": {
  "kernelspec": {
   "display_name": "spiderenv",
   "language": "python",
   "name": "python3"
  },
  "language_info": {
   "codemirror_mode": {
    "name": "ipython",
    "version": 3
   },
   "file_extension": ".py",
   "mimetype": "text/x-python",
   "name": "python",
   "nbconvert_exporter": "python",
   "pygments_lexer": "ipython3",
   "version": "3.10.11"
  }
 },
 "nbformat": 4,
 "nbformat_minor": 2
}
