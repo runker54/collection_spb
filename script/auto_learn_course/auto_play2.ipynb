{
 "cells": [
  {
   "cell_type": "code",
   "execution_count": null,
   "metadata": {},
   "outputs": [],
   "source": [
    "import time\n",
    "import requests\n"
   ]
  },
  {
   "cell_type": "code",
   "execution_count": null,
   "metadata": {},
   "outputs": [],
   "source": [
    "\n",
    "# 配置\n",
    "videos = [\n",
    "    {\"courseid\": \"c3469555f6fe4185b59763588d3babfd\", \"coursewareid\": \"4e84a336123b4ce1ba4c3b2bc759a05b\", \"duration\": 300},  # 视频1，时长300秒\n",
    "    {\"courseid\": \"next_courseid\", \"coursewareid\": \"next_coursewareid\", \"duration\": 400},  # 视频2，时长400秒\n",
    "    # 添加更多视频\n",
    "]"
   ]
  },
  {
   "cell_type": "code",
   "execution_count": null,
   "metadata": {},
   "outputs": [],
   "source": [
    "\n",
    "base_url = \"http://guizhou.zxjxjy.com\"\n",
    "headers = {\n",
    "    'User-Agent': 'Mozilla/5.0 (Windows NT 10.0; Win64; x64) AppleWebKit/537.36 (KHTML, like Gecko) Chrome/126.0.0.0 Safari/537.36',\n",
    "    'Accept': 'application/json, text/plain, */*',\n",
    "    'Accept-Encoding': 'gzip, deflate',\n",
    "    'Accept-Language': 'zh-CN,zh;q=0.9,en;q=0.8',\n",
    "    'Connection': 'keep-alive',\n",
    "    'Content-Type': 'application/json',\n",
    "    'X-Requested-With': 'XMLHttpRequest',\n",
    "}\n",
    "cookies = {\n",
    "    'edu-s': '3f7392ab3e7846dc9284cfb4cb06c96f',\n",
    "    'Hm_lvt_b21659b538990a950b60a32e93668ae4': '1721613496',\n",
    "    'HMACCOUNT': '04CE47A58451A36E',\n",
    "    'Hm_lpvt_b21659b538990a950b60a32e93668ae4': '1721624371',\n",
    "}\n",
    "\n",
    "def get_action(courseid, coursewareid, lesson_location):\n",
    "    url = f\"{base_url}/p/action/get\"\n",
    "    payload = {\n",
    "        \"courseid\": courseid,\n",
    "        \"coursewareid\": coursewareid,\n",
    "        \"lessonlocation\": lesson_location,\n",
    "    }\n",
    "    response = requests.post(url, headers=headers, cookies=cookies, data=payload)\n",
    "    print(f\"GET Action Response: {response.status_code} - {response.text}\")\n",
    "\n",
    "def check_limit(courseid, coursewareid):\n",
    "    url = f\"{base_url}/play/checklimit?courseid={courseid}&cwid={coursewareid}\"\n",
    "    response = requests.get(url, headers=headers, cookies=cookies)\n",
    "    print(f\"Check Limit Response: {response.status_code} - {response.text}\")\n",
    "\n",
    "def submit_process(courseid, coursewareid, lesson_location):\n",
    "    url = f\"{base_url}/p/play/submitProcess\"\n",
    "    payload = {\n",
    "        \"courseId\": courseid,\n",
    "        \"coursewareId\": coursewareid,\n",
    "        \"lessonLocation\": lesson_location,\n",
    "    }\n",
    "    response = requests.post(url, headers=headers, cookies=cookies, json=payload)\n",
    "    print(f\"Submit Process Response: {response.status_code} - {response.text}\")\n",
    "\n",
    "def watch_video(video):\n",
    "    courseid = video[\"courseid\"]\n",
    "    coursewareid = video[\"coursewareid\"]\n",
    "    duration = video[\"duration\"]\n",
    "    \n",
    "    lesson_location = 0\n",
    "    last_get_check_time = time.time()\n",
    "    last_submit_time = time.time()\n",
    "    start_time = time.time()\n",
    "\n",
    "    while lesson_location < duration:\n",
    "        current_time = time.time()\n",
    "\n",
    "        # 每15秒发送GET和checklimit请求\n",
    "        if current_time - last_get_check_time >= 15:\n",
    "            get_action(courseid, coursewareid, lesson_location)\n",
    "            check_limit(courseid, coursewareid)\n",
    "            check_limit(courseid, coursewareid)\n",
    "            last_get_check_time = current_time\n",
    "\n",
    "        # 每30秒发送submitProcess请求\n",
    "        if current_time - last_submit_time >= 30:\n",
    "            lesson_location += 30  # 假设每次播放进度增加30秒\n",
    "            submit_process(courseid, coursewareid, lesson_location)\n",
    "            last_submit_time = current_time\n",
    "\n",
    "        time.sleep(1)  # 每秒钟检查一次\n",
    "\n",
    "\n"
   ]
  },
  {
   "cell_type": "code",
   "execution_count": null,
   "metadata": {},
   "outputs": [],
   "source": [
    "for video in videos:\n",
    "    watch_video(video)"
   ]
  }
 ],
 "metadata": {
  "kernelspec": {
   "display_name": "spiderenv",
   "language": "python",
   "name": "python3"
  },
  "language_info": {
   "name": "python",
   "version": "3.10.11"
  }
 },
 "nbformat": 4,
 "nbformat_minor": 2
}
