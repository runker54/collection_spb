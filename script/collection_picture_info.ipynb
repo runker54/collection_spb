{
 "cells": [
  {
   "cell_type": "code",
   "execution_count": 3,
   "metadata": {},
   "outputs": [],
   "source": [
    "import os\n",
    "import re\n",
    "import time\n",
    "from bs4 import BeautifulSoup\n",
    "import requests\n",
    "import json\n",
    "import datetime\n",
    "from selenium import webdriver\n",
    "from selenium.webdriver.chrome.options import Options\n",
    "from selenium.webdriver.common.by import By\n",
    "from selenium.webdriver.chrome.service import Service\n",
    "from selenium.webdriver.support.ui import WebDriverWait\n",
    "from selenium.webdriver.support import expected_conditions as EC\n",
    "from selenium.webdriver.support.ui import Select\n",
    "from selenium.common.exceptions import NoSuchElementException\n",
    "from selenium.webdriver.common.action_chains import ActionChains\n",
    "import random\n",
    "import pandas as pd"
   ]
  },
  {
   "cell_type": "code",
   "execution_count": 4,
   "metadata": {},
   "outputs": [],
   "source": [
    "### 辅助函数\n",
    "# 获取主页详情页链接\n",
    "def get_detail_page_url(driver):\n",
    "    \"\"\"获取详情页链接\"\"\"\n",
    "   # 定位包含详情按钮的所有<tr>元素\n",
    "    rows = driver.find_elements(By.CSS_SELECTOR, \"tr.ant-table-row\")\n",
    "    return rows\n",
    "# 跳转到下一页\n",
    "def step_next_page(driver):\n",
    "    \"\"\"跳转下一页\"\"\"\n",
    "    # 使用类名和属性选择器\n",
    "    next_page_button = driver.find_element(By.CSS_SELECTOR, \"li.ant-pagination-next[title='下一页']\")\n",
    "    next_page_button.click()\n",
    "    # # 使用XPath\n",
    "    # next_page_button = driver.find_element(By.XPATH, \"//li[@class='ant-pagination-next' and @title='下一页']\")\n",
    "    # next_page_button.click()\n",
    "    # # 使用类名\n",
    "    # next_page_button = driver.find_element(By.CLASS_NAME, \"ant-pagination-next\")\n",
    "    # next_page_button.click()\n",
    "\n",
    "# 从详情页返回到主页\n",
    "def step_back_to_home(driver):\n",
    "    button = driver.find_element(By.XPATH,\"//button[span='返回']\")\n",
    "    button.click()\n"
   ]
  },
  {
   "cell_type": "code",
   "execution_count": 5,
   "metadata": {},
   "outputs": [],
   "source": [
    "# 配置浏览器\n",
    "# chrome.exe --remote-debugging-port=9999 --user-data-dir=\"D:\\Selenium\\AutomationProfile\"\n",
    "# chrome.exe --remote-debugging-port=9999 --user-data-dir=\"D:\\Program Files\\ChromeDir\"\n",
    "options = webdriver.ChromeOptions()\n",
    "options.add_experimental_option(\"debuggerAddress\", \"localhost:9999\")\n",
    "driver = webdriver.Chrome(options=options)\n",
    "driver.implicitly_wait(20)"
   ]
  },
  {
   "cell_type": "code",
   "execution_count": 6,
   "metadata": {},
   "outputs": [
    {
     "ename": "KeyboardInterrupt",
     "evalue": "",
     "output_type": "error",
     "traceback": [
      "\u001b[1;31m---------------------------------------------------------------------------\u001b[0m",
      "\u001b[1;31mKeyboardInterrupt\u001b[0m                         Traceback (most recent call last)",
      "Cell \u001b[1;32mIn[6], line 16\u001b[0m\n\u001b[0;32m     13\u001b[0m detail_button\u001b[38;5;241m.\u001b[39mclick()\n\u001b[0;32m     15\u001b[0m \u001b[38;5;66;03m# 处理详情页内容，可能需要等待内容加载\u001b[39;00m\n\u001b[1;32m---> 16\u001b[0m \u001b[43mtime\u001b[49m\u001b[38;5;241;43m.\u001b[39;49m\u001b[43msleep\u001b[49m\u001b[43m(\u001b[49m\u001b[38;5;241;43m2\u001b[39;49m\u001b[43m)\u001b[49m  \u001b[38;5;66;03m# 根据实际情况调整等待时间\u001b[39;00m\n\u001b[0;32m     18\u001b[0m \u001b[38;5;66;03m# 从详情页返回\u001b[39;00m\n\u001b[0;32m     19\u001b[0m step_back_to_home(driver)\n",
      "\u001b[1;31mKeyboardInterrupt\u001b[0m: "
     ]
    }
   ],
   "source": [
    "# 遍历每一页\n",
    "\n",
    "for one_page in range(106):\n",
    "    # 遍历每个<tr>元素\n",
    "    # 定位包含详情按钮的所有<tr>元素\n",
    "    time.sleep(5)\n",
    "    rows = get_detail_page_url(driver)\n",
    "    for row in rows:\n",
    "        # 在每个<tr>元素中定位详情按钮\n",
    "        detail_button = row.find_element(By.CSS_SELECTOR, \"button.ant-btn.ant-btn-link.ant-btn-lg\")\n",
    "        \n",
    "        # 点击详情按钮\n",
    "        detail_button.click()\n",
    "        \n",
    "        # 处理详情页内容，可能需要等待内容加载\n",
    "        time.sleep(2)  # 根据实际情况调整等待时间\n",
    "\n",
    "        # 从详情页返回\n",
    "        step_back_to_home(driver)\n",
    "    step_next_page(driver)"
   ]
  },
  {
   "cell_type": "code",
   "execution_count": 7,
   "metadata": {},
   "outputs": [],
   "source": [
    "image_elements = driver.find_elements(By.TAG_NAME, \"img\")"
   ]
  },
  {
   "cell_type": "code",
   "execution_count": 8,
   "metadata": {},
   "outputs": [
    {
     "data": {
      "text/plain": [
       "([<selenium.webdriver.remote.webelement.WebElement (session=\"54dfb293bce75de51d0f563db7988d19\", element=\"f.A67430C999C711B37BB16FE9758374E2.d.E59E69927EA883EFBA1A699C33687D6F.e.3725\")>,\n",
       "  <selenium.webdriver.remote.webelement.WebElement (session=\"54dfb293bce75de51d0f563db7988d19\", element=\"f.A67430C999C711B37BB16FE9758374E2.d.E59E69927EA883EFBA1A699C33687D6F.e.3756\")>,\n",
       "  <selenium.webdriver.remote.webelement.WebElement (session=\"54dfb293bce75de51d0f563db7988d19\", element=\"f.A67430C999C711B37BB16FE9758374E2.d.E59E69927EA883EFBA1A699C33687D6F.e.3758\")>,\n",
       "  <selenium.webdriver.remote.webelement.WebElement (session=\"54dfb293bce75de51d0f563db7988d19\", element=\"f.A67430C999C711B37BB16FE9758374E2.d.E59E69927EA883EFBA1A699C33687D6F.e.3782\")>,\n",
       "  <selenium.webdriver.remote.webelement.WebElement (session=\"54dfb293bce75de51d0f563db7988d19\", element=\"f.A67430C999C711B37BB16FE9758374E2.d.E59E69927EA883EFBA1A699C33687D6F.e.3788\")>,\n",
       "  <selenium.webdriver.remote.webelement.WebElement (session=\"54dfb293bce75de51d0f563db7988d19\", element=\"f.A67430C999C711B37BB16FE9758374E2.d.E59E69927EA883EFBA1A699C33687D6F.e.3806\")>,\n",
       "  <selenium.webdriver.remote.webelement.WebElement (session=\"54dfb293bce75de51d0f563db7988d19\", element=\"f.A67430C999C711B37BB16FE9758374E2.d.E59E69927EA883EFBA1A699C33687D6F.e.5552\")>,\n",
       "  <selenium.webdriver.remote.webelement.WebElement (session=\"54dfb293bce75de51d0f563db7988d19\", element=\"f.A67430C999C711B37BB16FE9758374E2.d.E59E69927EA883EFBA1A699C33687D6F.e.5616\")>,\n",
       "  <selenium.webdriver.remote.webelement.WebElement (session=\"54dfb293bce75de51d0f563db7988d19\", element=\"f.A67430C999C711B37BB16FE9758374E2.d.E59E69927EA883EFBA1A699C33687D6F.e.5553\")>,\n",
       "  <selenium.webdriver.remote.webelement.WebElement (session=\"54dfb293bce75de51d0f563db7988d19\", element=\"f.A67430C999C711B37BB16FE9758374E2.d.E59E69927EA883EFBA1A699C33687D6F.e.5617\")>,\n",
       "  <selenium.webdriver.remote.webelement.WebElement (session=\"54dfb293bce75de51d0f563db7988d19\", element=\"f.A67430C999C711B37BB16FE9758374E2.d.E59E69927EA883EFBA1A699C33687D6F.e.5619\")>,\n",
       "  <selenium.webdriver.remote.webelement.WebElement (session=\"54dfb293bce75de51d0f563db7988d19\", element=\"f.A67430C999C711B37BB16FE9758374E2.d.E59E69927EA883EFBA1A699C33687D6F.e.5621\")>,\n",
       "  <selenium.webdriver.remote.webelement.WebElement (session=\"54dfb293bce75de51d0f563db7988d19\", element=\"f.A67430C999C711B37BB16FE9758374E2.d.E59E69927EA883EFBA1A699C33687D6F.e.5623\")>,\n",
       "  <selenium.webdriver.remote.webelement.WebElement (session=\"54dfb293bce75de51d0f563db7988d19\", element=\"f.A67430C999C711B37BB16FE9758374E2.d.E59E69927EA883EFBA1A699C33687D6F.e.5625\")>,\n",
       "  <selenium.webdriver.remote.webelement.WebElement (session=\"54dfb293bce75de51d0f563db7988d19\", element=\"f.A67430C999C711B37BB16FE9758374E2.d.E59E69927EA883EFBA1A699C33687D6F.e.5627\")>,\n",
       "  <selenium.webdriver.remote.webelement.WebElement (session=\"54dfb293bce75de51d0f563db7988d19\", element=\"f.A67430C999C711B37BB16FE9758374E2.d.E59E69927EA883EFBA1A699C33687D6F.e.5629\")>,\n",
       "  <selenium.webdriver.remote.webelement.WebElement (session=\"54dfb293bce75de51d0f563db7988d19\", element=\"f.A67430C999C711B37BB16FE9758374E2.d.E59E69927EA883EFBA1A699C33687D6F.e.5631\")>,\n",
       "  <selenium.webdriver.remote.webelement.WebElement (session=\"54dfb293bce75de51d0f563db7988d19\", element=\"f.A67430C999C711B37BB16FE9758374E2.d.E59E69927EA883EFBA1A699C33687D6F.e.5633\")>,\n",
       "  <selenium.webdriver.remote.webelement.WebElement (session=\"54dfb293bce75de51d0f563db7988d19\", element=\"f.A67430C999C711B37BB16FE9758374E2.d.E59E69927EA883EFBA1A699C33687D6F.e.5635\")>,\n",
       "  <selenium.webdriver.remote.webelement.WebElement (session=\"54dfb293bce75de51d0f563db7988d19\", element=\"f.A67430C999C711B37BB16FE9758374E2.d.E59E69927EA883EFBA1A699C33687D6F.e.5554\")>,\n",
       "  <selenium.webdriver.remote.webelement.WebElement (session=\"54dfb293bce75de51d0f563db7988d19\", element=\"f.A67430C999C711B37BB16FE9758374E2.d.E59E69927EA883EFBA1A699C33687D6F.e.5555\")>,\n",
       "  <selenium.webdriver.remote.webelement.WebElement (session=\"54dfb293bce75de51d0f563db7988d19\", element=\"f.A67430C999C711B37BB16FE9758374E2.d.E59E69927EA883EFBA1A699C33687D6F.e.5614\")>,\n",
       "  <selenium.webdriver.remote.webelement.WebElement (session=\"54dfb293bce75de51d0f563db7988d19\", element=\"f.A67430C999C711B37BB16FE9758374E2.d.E59E69927EA883EFBA1A699C33687D6F.e.5638\")>,\n",
       "  <selenium.webdriver.remote.webelement.WebElement (session=\"54dfb293bce75de51d0f563db7988d19\", element=\"f.A67430C999C711B37BB16FE9758374E2.d.E59E69927EA883EFBA1A699C33687D6F.e.5640\")>,\n",
       "  <selenium.webdriver.remote.webelement.WebElement (session=\"54dfb293bce75de51d0f563db7988d19\", element=\"f.A67430C999C711B37BB16FE9758374E2.d.E59E69927EA883EFBA1A699C33687D6F.e.5642\")>,\n",
       "  <selenium.webdriver.remote.webelement.WebElement (session=\"54dfb293bce75de51d0f563db7988d19\", element=\"f.A67430C999C711B37BB16FE9758374E2.d.E59E69927EA883EFBA1A699C33687D6F.e.5644\")>,\n",
       "  <selenium.webdriver.remote.webelement.WebElement (session=\"54dfb293bce75de51d0f563db7988d19\", element=\"f.A67430C999C711B37BB16FE9758374E2.d.E59E69927EA883EFBA1A699C33687D6F.e.5556\")>,\n",
       "  <selenium.webdriver.remote.webelement.WebElement (session=\"54dfb293bce75de51d0f563db7988d19\", element=\"f.A67430C999C711B37BB16FE9758374E2.d.E59E69927EA883EFBA1A699C33687D6F.e.5557\")>,\n",
       "  <selenium.webdriver.remote.webelement.WebElement (session=\"54dfb293bce75de51d0f563db7988d19\", element=\"f.A67430C999C711B37BB16FE9758374E2.d.E59E69927EA883EFBA1A699C33687D6F.e.5559\")>,\n",
       "  <selenium.webdriver.remote.webelement.WebElement (session=\"54dfb293bce75de51d0f563db7988d19\", element=\"f.A67430C999C711B37BB16FE9758374E2.d.E59E69927EA883EFBA1A699C33687D6F.e.5561\")>,\n",
       "  <selenium.webdriver.remote.webelement.WebElement (session=\"54dfb293bce75de51d0f563db7988d19\", element=\"f.A67430C999C711B37BB16FE9758374E2.d.E59E69927EA883EFBA1A699C33687D6F.e.5563\")>,\n",
       "  <selenium.webdriver.remote.webelement.WebElement (session=\"54dfb293bce75de51d0f563db7988d19\", element=\"f.A67430C999C711B37BB16FE9758374E2.d.E59E69927EA883EFBA1A699C33687D6F.e.5646\")>],\n",
       " 32)"
      ]
     },
     "execution_count": 8,
     "metadata": {},
     "output_type": "execute_result"
    }
   ],
   "source": [
    "image_elements,len(image_elements)"
   ]
  },
  {
   "cell_type": "code",
   "execution_count": 9,
   "metadata": {},
   "outputs": [
    {
     "name": "stdout",
     "output_type": "stream",
     "text": [
      "https://sanpu.iarrp.cn/assets/logo.8c5debb3.svg\n",
      "https://sanpu.iarrp.cn/images/home/pending-work.png\n",
      "https://sanpu.iarrp.cn/images/home/quality.png\n",
      "https://sanpu.iarrp.cn/images/workpanel/btn-auditing.png\n",
      "https://sanpu.iarrp.cn/images/workpanel/btn-audit2.png\n",
      "data:image/png;base64,iVBORw0KGgoAAAANSUhEUgAAACAAAAAgCAMAAABEpIrGAAAAAXNSR0IArs4c6QAAAVlQTFRFAAAA////qqqqv7+/mZmZqqqqkpKSn5+fjo6OmZmZi4uilZWViYmdkpKSj4+Pjo6OjIyMhoaSioqVhYWPhISOiYmShISNg4OTiIiOhYWRhYWQiIiNhYWPhYWPhISOhISOhISNhISNhISMhoaOhISQg4OPg4OPg4OOhoaNhoaNhoaPhISNhISNhYWOhISMhISPhYWNhYWNg4OOhYWMhYWMhISOhISOhYWMhISNhYWOhISNhISNhISMhYWNhISOg4ONhISMg4ONg4ONg4ONg4ONg4OOhISNhYWNhISMhYWNhISMhISNhISNhISNhISMhISMhISNhISMhISNhISMhISMg4ONg4OMg4OMhISNg4OMg4OMg4ONhISMhISNhISNhISMg4ONg4OMhISNg4OMg4OMhISNg4OMhISMg4ONhISMhISNg4OMhISNg4OMhISNg4OMg4OMhISNg4OMLx53FQAAAHJ0Uk5TAAEDBAUGBwgJCgsMDQ4QEhQVGBkbHB0hKywuLzAyNDY4Ojw9PkBESEpMVFVXWltdYGJjZGZqbG9wcXJ0dnd+gIGChIaIkJGUl5iZmpucnqCmvb6/wcTGyMnKzM7c3d/g4ePk5efo6fDz9Pb3+Pn6+/3+J9rfuQAAAUNJREFUOMudk2dTwkAQhlcRe8eCDWMhNhRRURS72DsqqICgMdgQ5P3/H0xOM2QgizM+X+42+2T2TW6OKKiA5WmZaA5l8VECqc0Nhi0FCVJxXU0MNVGodAjcdlj3u+6BY2oKA+qwVX8kDdw0E9l2gay/tO/PAgdVYuv9AM6KgthPgM95oxpIAXed5r4jAihSoW67AtKjhVrSfl7EYX5DD5JbNCpfBjiyF2XyvgOrP9slbfxCaWotyFeLmJfD85DVd8uArK/jgJu6JYGr0iS4gAl9nQR6PPnfwwozwqxxmlFGoP4xgVzLCVaYhYZASLDdxwhBI0OcEQaTGcHbzn8z/Ck4o0lBfIUR1oyQD4zQGjoXnLpNQi/gKZvB9oLHmYoyAgW0mTGZpgAnc5Om9Xt8GUO+kbtrdeuvevQL4mnfS6j79aYH35c+kYTYtspRAAAAAElFTkSuQmCC\n",
      "https://sanpu.iarrp.cn/images/workpanel/place.svg\n",
      "https://sanpu.iarrp.cn/ssp-dccy/2024-01-12/522722/085ef536-eaa7-4084-9a65-c4cce316d030.jpg\n",
      "https://sanpu.iarrp.cn/images/workpanel/photo.svg\n",
      "https://sanpu.iarrp.cn/ssp-dccy/2024-01-12/522722/4c4b1ebb-1ccf-40cd-a293-2febd7ec561b.jpg?AccessKeyId=3KTIFO8GC5N6LWASE8DQ&Expires=1710321371&x-image-process=image%2Fresize%2Cm_lfit%2Ch_500%2Cw_500&Signature=e8TbRDFP1sE%2BbWoPTsrullVirtg%3D\n",
      "https://sanpu.iarrp.cn/ssp-dccy/2024-01-12/522722/8db52f6a-6ebe-4815-8771-fa342a7886d9.jpg?AccessKeyId=3KTIFO8GC5N6LWASE8DQ&Expires=1710321371&x-image-process=image%2Fresize%2Cm_lfit%2Ch_500%2Cw_500&Signature=lZKhAASymTetWGzVF0CfOMzuQaQ%3D\n",
      "https://sanpu.iarrp.cn/ssp-dccy/2024-01-12/522722/71365ac4-4e7c-47fb-8a7e-b50925949579.jpg?AccessKeyId=3KTIFO8GC5N6LWASE8DQ&Expires=1710321371&x-image-process=image%2Fresize%2Cm_lfit%2Ch_500%2Cw_500&Signature=EWgzNw6iiFnnYcNvUqKiGNX130s%3D\n",
      "https://sanpu.iarrp.cn/ssp-dccy/2024-01-12/522722/f8568982-25b9-4939-b4b8-b3f02c8bfbbc.jpg?AccessKeyId=3KTIFO8GC5N6LWASE8DQ&Expires=1710321371&x-image-process=image%2Fresize%2Cm_lfit%2Ch_500%2Cw_500&Signature=QfnTLVfn7KRFAqDb9T9KofJxCxk%3D\n",
      "https://sanpu.iarrp.cn/ssp-dccy/2024-01-12/522722/9e81b986-e27e-46ff-9a7d-192d7c64bda0.jpg?AccessKeyId=3KTIFO8GC5N6LWASE8DQ&Expires=1710321371&x-image-process=image%2Fresize%2Cm_lfit%2Ch_500%2Cw_500&Signature=9PkDnu1qT9vDeTLknEh%2FOkTAoyU%3D\n",
      "https://sanpu.iarrp.cn/ssp-dccy/2024-01-12/522722/9fedd290-5726-41fa-bdda-2d221c61b9b6.jpg?AccessKeyId=3KTIFO8GC5N6LWASE8DQ&Expires=1710321371&x-image-process=image%2Fresize%2Cm_lfit%2Ch_500%2Cw_500&Signature=dip%2BcKRkxetFDWwnAZrVAtEQUyU%3D\n",
      "https://sanpu.iarrp.cn/ssp-dccy/2024-01-12/522722/eeeba45d-444b-493a-a99c-e860c92997ae.jpg?AccessKeyId=3KTIFO8GC5N6LWASE8DQ&Expires=1710321371&x-image-process=image%2Fresize%2Cm_lfit%2Ch_500%2Cw_500&Signature=bxMO5atVGvVXvjGc6Ep9u%2FE%2FndA%3D\n",
      "https://sanpu.iarrp.cn/ssp-dccy/2024-01-12/522722/ce72fb6b-df16-4919-9976-c13f483c6649.jpg?AccessKeyId=3KTIFO8GC5N6LWASE8DQ&Expires=1710321371&x-image-process=image%2Fresize%2Cm_lfit%2Ch_500%2Cw_500&Signature=neV7sl9QCrPtKvuDszExbKMzUqs%3D\n",
      "https://sanpu.iarrp.cn/ssp-dccy/2024-01-12/522722/8352d894-275b-4fd1-96c5-486ee7a9d077.jpg?AccessKeyId=3KTIFO8GC5N6LWASE8DQ&Expires=1710321371&x-image-process=image%2Fresize%2Cm_lfit%2Ch_500%2Cw_500&Signature=N5WwNoY6dfSx12R8dgXDSCMw%2Bds%3D\n",
      "https://sanpu.iarrp.cn/ssp-dccy/2024-01-12/522722/45d406e1-6f36-49b8-9f3c-746f3b35584e.jpg?AccessKeyId=3KTIFO8GC5N6LWASE8DQ&Expires=1710321371&x-image-process=image%2Fresize%2Cm_lfit%2Ch_500%2Cw_500&Signature=wkk1yOA1UYpvG5jal7cXau1dhhk%3D\n",
      "https://sanpu.iarrp.cn/images/workpanel/message.svg\n",
      "https://sanpu.iarrp.cn/images/workpanel/photo.svg\n",
      "https://sanpu.iarrp.cn/ssp-dccy/2024-01-12/522722/f8568982-25b9-4939-b4b8-b3f02c8bfbbc.jpg?AccessKeyId=3KTIFO8GC5N6LWASE8DQ&Expires=1710321371&x-image-process=image%2Fresize%2Cm_lfit%2Ch_500%2Cw_500&Signature=QfnTLVfn7KRFAqDb9T9KofJxCxk%3D\n",
      "https://sanpu.iarrp.cn/ssp-dccy/2024-01-12/522722/4c4b1ebb-1ccf-40cd-a293-2febd7ec561b.jpg?AccessKeyId=3KTIFO8GC5N6LWASE8DQ&Expires=1710321371&x-image-process=image%2Fresize%2Cm_lfit%2Ch_500%2Cw_500&Signature=e8TbRDFP1sE%2BbWoPTsrullVirtg%3D\n",
      "https://sanpu.iarrp.cn/ssp-dccy/2024-01-12/522722/8db52f6a-6ebe-4815-8771-fa342a7886d9.jpg?AccessKeyId=3KTIFO8GC5N6LWASE8DQ&Expires=1710321371&x-image-process=image%2Fresize%2Cm_lfit%2Ch_500%2Cw_500&Signature=lZKhAASymTetWGzVF0CfOMzuQaQ%3D\n",
      "https://sanpu.iarrp.cn/ssp-dccy/2024-01-12/522722/9e81b986-e27e-46ff-9a7d-192d7c64bda0.jpg?AccessKeyId=3KTIFO8GC5N6LWASE8DQ&Expires=1710321371&x-image-process=image%2Fresize%2Cm_lfit%2Ch_500%2Cw_500&Signature=9PkDnu1qT9vDeTLknEh%2FOkTAoyU%3D\n",
      "https://sanpu.iarrp.cn/ssp-dccy/2024-01-12/522722/71365ac4-4e7c-47fb-8a7e-b50925949579.jpg?AccessKeyId=3KTIFO8GC5N6LWASE8DQ&Expires=1710321371&x-image-process=image%2Fresize%2Cm_lfit%2Ch_500%2Cw_500&Signature=EWgzNw6iiFnnYcNvUqKiGNX130s%3D\n",
      "https://sanpu.iarrp.cn/images/workpanel/location.svg\n",
      "https://sanpu.iarrp.cn/images/workpanel/pictPosition.png\n",
      "https://sanpu.iarrp.cn/images/workpanel/position4.png\n",
      "https://sanpu.iarrp.cn/images/workpanel/position3.png\n",
      "https://sanpu.iarrp.cn/images/workpanel/position2.png\n",
      "https://sanpu.iarrp.cn/images/workpanel/dataCheck.svg\n"
     ]
    }
   ],
   "source": [
    "# 提取所有图片的src属性，即它们的链接\n",
    "image_urls = [image.get_attribute('src') for image in image_elements]\n",
    "\n",
    "# 输出图片链接\n",
    "for url in image_urls:\n",
    "    print(url)"
   ]
  },
  {
   "cell_type": "code",
   "execution_count": 10,
   "metadata": {},
   "outputs": [
    {
     "name": "stdout",
     "output_type": "stream",
     "text": [
      "{'label': '预览', 'url': 'https://sanpu.iarrp.cn/ssp-dccy/2024-01-12/522722/4c4b1ebb-1ccf-40cd-a293-2febd7ec561b.jpg?AccessKeyId=3KTIFO8GC5N6LWASE8DQ&Expires=1710321371&x-image-process=image%2Fresize%2Cm_lfit%2Ch_500%2Cw_500&Signature=e8TbRDFP1sE%2BbWoPTsrullVirtg%3D'}\n",
      "{'label': '预览', 'url': 'https://sanpu.iarrp.cn/ssp-dccy/2024-01-12/522722/8db52f6a-6ebe-4815-8771-fa342a7886d9.jpg?AccessKeyId=3KTIFO8GC5N6LWASE8DQ&Expires=1710321371&x-image-process=image%2Fresize%2Cm_lfit%2Ch_500%2Cw_500&Signature=lZKhAASymTetWGzVF0CfOMzuQaQ%3D'}\n",
      "{'label': '预览', 'url': 'https://sanpu.iarrp.cn/ssp-dccy/2024-01-12/522722/71365ac4-4e7c-47fb-8a7e-b50925949579.jpg?AccessKeyId=3KTIFO8GC5N6LWASE8DQ&Expires=1710321371&x-image-process=image%2Fresize%2Cm_lfit%2Ch_500%2Cw_500&Signature=EWgzNw6iiFnnYcNvUqKiGNX130s%3D'}\n",
      "{'label': '预览', 'url': 'https://sanpu.iarrp.cn/ssp-dccy/2024-01-12/522722/f8568982-25b9-4939-b4b8-b3f02c8bfbbc.jpg?AccessKeyId=3KTIFO8GC5N6LWASE8DQ&Expires=1710321371&x-image-process=image%2Fresize%2Cm_lfit%2Ch_500%2Cw_500&Signature=QfnTLVfn7KRFAqDb9T9KofJxCxk%3D'}\n",
      "{'label': '预览', 'url': 'https://sanpu.iarrp.cn/ssp-dccy/2024-01-12/522722/9e81b986-e27e-46ff-9a7d-192d7c64bda0.jpg?AccessKeyId=3KTIFO8GC5N6LWASE8DQ&Expires=1710321371&x-image-process=image%2Fresize%2Cm_lfit%2Ch_500%2Cw_500&Signature=9PkDnu1qT9vDeTLknEh%2FOkTAoyU%3D'}\n",
      "{'label': '预览', 'url': 'https://sanpu.iarrp.cn/ssp-dccy/2024-01-12/522722/9fedd290-5726-41fa-bdda-2d221c61b9b6.jpg?AccessKeyId=3KTIFO8GC5N6LWASE8DQ&Expires=1710321371&x-image-process=image%2Fresize%2Cm_lfit%2Ch_500%2Cw_500&Signature=dip%2BcKRkxetFDWwnAZrVAtEQUyU%3D'}\n",
      "{'label': '预览', 'url': 'https://sanpu.iarrp.cn/ssp-dccy/2024-01-12/522722/eeeba45d-444b-493a-a99c-e860c92997ae.jpg?AccessKeyId=3KTIFO8GC5N6LWASE8DQ&Expires=1710321371&x-image-process=image%2Fresize%2Cm_lfit%2Ch_500%2Cw_500&Signature=bxMO5atVGvVXvjGc6Ep9u%2FE%2FndA%3D'}\n",
      "{'label': '预览', 'url': 'https://sanpu.iarrp.cn/ssp-dccy/2024-01-12/522722/ce72fb6b-df16-4919-9976-c13f483c6649.jpg?AccessKeyId=3KTIFO8GC5N6LWASE8DQ&Expires=1710321371&x-image-process=image%2Fresize%2Cm_lfit%2Ch_500%2Cw_500&Signature=neV7sl9QCrPtKvuDszExbKMzUqs%3D'}\n",
      "{'label': '预览', 'url': 'https://sanpu.iarrp.cn/ssp-dccy/2024-01-12/522722/8352d894-275b-4fd1-96c5-486ee7a9d077.jpg?AccessKeyId=3KTIFO8GC5N6LWASE8DQ&Expires=1710321371&x-image-process=image%2Fresize%2Cm_lfit%2Ch_500%2Cw_500&Signature=N5WwNoY6dfSx12R8dgXDSCMw%2Bds%3D'}\n",
      "{'label': '预览', 'url': 'https://sanpu.iarrp.cn/ssp-dccy/2024-01-12/522722/45d406e1-6f36-49b8-9f3c-746f3b35584e.jpg?AccessKeyId=3KTIFO8GC5N6LWASE8DQ&Expires=1710321371&x-image-process=image%2Fresize%2Cm_lfit%2Ch_500%2Cw_500&Signature=wkk1yOA1UYpvG5jal7cXau1dhhk%3D'}\n",
      "{'label': '预览', 'url': 'https://sanpu.iarrp.cn/ssp-dccy/2024-01-12/522722/f8568982-25b9-4939-b4b8-b3f02c8bfbbc.jpg?AccessKeyId=3KTIFO8GC5N6LWASE8DQ&Expires=1710321371&x-image-process=image%2Fresize%2Cm_lfit%2Ch_500%2Cw_500&Signature=QfnTLVfn7KRFAqDb9T9KofJxCxk%3D'}\n",
      "{'label': '预览', 'url': 'https://sanpu.iarrp.cn/ssp-dccy/2024-01-12/522722/4c4b1ebb-1ccf-40cd-a293-2febd7ec561b.jpg?AccessKeyId=3KTIFO8GC5N6LWASE8DQ&Expires=1710321371&x-image-process=image%2Fresize%2Cm_lfit%2Ch_500%2Cw_500&Signature=e8TbRDFP1sE%2BbWoPTsrullVirtg%3D'}\n",
      "{'label': '预览', 'url': 'https://sanpu.iarrp.cn/ssp-dccy/2024-01-12/522722/8db52f6a-6ebe-4815-8771-fa342a7886d9.jpg?AccessKeyId=3KTIFO8GC5N6LWASE8DQ&Expires=1710321371&x-image-process=image%2Fresize%2Cm_lfit%2Ch_500%2Cw_500&Signature=lZKhAASymTetWGzVF0CfOMzuQaQ%3D'}\n",
      "{'label': '预览', 'url': 'https://sanpu.iarrp.cn/ssp-dccy/2024-01-12/522722/9e81b986-e27e-46ff-9a7d-192d7c64bda0.jpg?AccessKeyId=3KTIFO8GC5N6LWASE8DQ&Expires=1710321371&x-image-process=image%2Fresize%2Cm_lfit%2Ch_500%2Cw_500&Signature=9PkDnu1qT9vDeTLknEh%2FOkTAoyU%3D'}\n",
      "{'label': '预览', 'url': 'https://sanpu.iarrp.cn/ssp-dccy/2024-01-12/522722/71365ac4-4e7c-47fb-8a7e-b50925949579.jpg?AccessKeyId=3KTIFO8GC5N6LWASE8DQ&Expires=1710321371&x-image-process=image%2Fresize%2Cm_lfit%2Ch_500%2Cw_500&Signature=EWgzNw6iiFnnYcNvUqKiGNX130s%3D'}\n"
     ]
    }
   ],
   "source": [
    "images_info = driver.execute_script(\"\"\"\n",
    "    var images = [];\n",
    "    var imageElements = document.querySelectorAll('div.card-box div.ant-image img');\n",
    "    imageElements.forEach(function(img) {\n",
    "        var labelElement = img.nextElementSibling;\n",
    "        var label = labelElement ? labelElement.innerText : '';\n",
    "        images.push({'url': img.src, 'label': label});\n",
    "    });\n",
    "    return images;\n",
    "\"\"\")\n",
    "for info in images_info:\n",
    "    print(info)\n"
   ]
  },
  {
   "cell_type": "code",
   "execution_count": 12,
   "metadata": {},
   "outputs": [
    {
     "data": {
      "text/plain": [
       "[{'label': '预览',\n",
       "  'url': 'https://sanpu.iarrp.cn/ssp-dccy/2023-12-13/522722/648b7f36-4fd3-4437-8690-446015bb6d7e.jpg?AccessKeyId=3KTIFO8GC5N6LWASE8DQ&Expires=1709179794&x-image-process=image%2Fresize%2Cm_lfit%2Ch_500%2Cw_500&Signature=fCr7eoQvptikL8YS01Ve2RSRyFk%3D'},\n",
       " {'label': '预览',\n",
       "  'url': 'https://sanpu.iarrp.cn/ssp-dccy/2023-12-13/522722/9c4f7803-f397-4912-b54d-fab7c1ce325b.jpg?AccessKeyId=3KTIFO8GC5N6LWASE8DQ&Expires=1709179794&x-image-process=image%2Fresize%2Cm_lfit%2Ch_500%2Cw_500&Signature=iAQs0DPwd4ILnhdBaQK5GeR3XaQ%3D'},\n",
       " {'label': '预览',\n",
       "  'url': 'https://sanpu.iarrp.cn/ssp-dccy/2023-12-13/522722/e482b11c-aecc-4eea-b3cc-d8834de39dfe.jpg?AccessKeyId=3KTIFO8GC5N6LWASE8DQ&Expires=1709179794&x-image-process=image%2Fresize%2Cm_lfit%2Ch_500%2Cw_500&Signature=1nulR9nBjU%2FCLD3xYmbzeVxS7B0%3D'},\n",
       " {'label': '预览',\n",
       "  'url': 'https://sanpu.iarrp.cn/ssp-dccy/2023-12-13/522722/2efd71c0-6825-4eb1-8c9b-e5ae8a3ef853.jpg?AccessKeyId=3KTIFO8GC5N6LWASE8DQ&Expires=1709179794&x-image-process=image%2Fresize%2Cm_lfit%2Ch_500%2Cw_500&Signature=37lP%2B%2B3QzLvvFP7ltC6%2FllfUeOE%3D'},\n",
       " {'label': '预览',\n",
       "  'url': 'https://sanpu.iarrp.cn/ssp-dccy/2023-12-13/522722/755e1f6d-c4e4-47d4-98ab-6a760f61deb0.jpg?AccessKeyId=3KTIFO8GC5N6LWASE8DQ&Expires=1709179794&x-image-process=image%2Fresize%2Cm_lfit%2Ch_500%2Cw_500&Signature=Ork8P%2B%2FASZ6f6tNrBRF7hErOQ2U%3D'},\n",
       " {'label': '预览',\n",
       "  'url': 'https://sanpu.iarrp.cn/ssp-dccy/2023-12-13/522722/6109807c-e498-4564-a665-6e68c6a94536.jpg?AccessKeyId=3KTIFO8GC5N6LWASE8DQ&Expires=1709179794&x-image-process=image%2Fresize%2Cm_lfit%2Ch_500%2Cw_500&Signature=FazrA4xsFWslT7u8AUonQ2GiMWU%3D'},\n",
       " {'label': '预览',\n",
       "  'url': 'https://sanpu.iarrp.cn/ssp-dccy/2023-12-13/522722/19e196e7-a619-4d4e-9045-b8fec8aa5c90.jpg?AccessKeyId=3KTIFO8GC5N6LWASE8DQ&Expires=1709179794&x-image-process=image%2Fresize%2Cm_lfit%2Ch_500%2Cw_500&Signature=t7cGG3Hig4gEF9vgkcM92fC89hw%3D'},\n",
       " {'label': '预览',\n",
       "  'url': 'https://sanpu.iarrp.cn/ssp-dccy/2023-12-13/522722/e9397c1e-ef47-40ac-8ce5-33d5195d53e5.jpg?AccessKeyId=3KTIFO8GC5N6LWASE8DQ&Expires=1709179794&x-image-process=image%2Fresize%2Cm_lfit%2Ch_500%2Cw_500&Signature=t8MO0XTuHocuISDJOySwHH9sa7Q%3D'},\n",
       " {'label': '预览',\n",
       "  'url': 'https://sanpu.iarrp.cn/ssp-dccy/2023-12-13/522722/c6dfae99-fe0f-4a4f-be2d-19e34f6ce718.jpg?AccessKeyId=3KTIFO8GC5N6LWASE8DQ&Expires=1709179794&x-image-process=image%2Fresize%2Cm_lfit%2Ch_500%2Cw_500&Signature=4NERJrzqjP99qfAC%2BCXNLKCMDqw%3D'},\n",
       " {'label': '预览',\n",
       "  'url': 'https://sanpu.iarrp.cn/ssp-dccy/2023-12-13/522722/ddb90f8d-e971-4426-bec7-07b187dd72f3.jpg?AccessKeyId=3KTIFO8GC5N6LWASE8DQ&Expires=1709179794&x-image-process=image%2Fresize%2Cm_lfit%2Ch_500%2Cw_500&Signature=5P0HTCLAi1mtBMzY6WC498kPdG8%3D'},\n",
       " {'label': '预览',\n",
       "  'url': 'https://sanpu.iarrp.cn/ssp-dccy/2023-12-13/522722/3c6750b1-72ae-4b93-a2cd-29d73452249e.jpg?AccessKeyId=3KTIFO8GC5N6LWASE8DQ&Expires=1709179794&x-image-process=image%2Fresize%2Cm_lfit%2Ch_500%2Cw_500&Signature=ozlPL5loitppxEbrWGRWLwmSau8%3D'},\n",
       " {'label': '预览',\n",
       "  'url': 'https://sanpu.iarrp.cn/ssp-dccy/2023-12-13/522722/e605e022-3d93-4747-bdba-5663ccf5052e.jpg?AccessKeyId=3KTIFO8GC5N6LWASE8DQ&Expires=1709179794&x-image-process=image%2Fresize%2Cm_lfit%2Ch_500%2Cw_500&Signature=Oxes5slq%2BPMRm5vslDS195mHZe4%3D'},\n",
       " {'label': '预览',\n",
       "  'url': 'https://sanpu.iarrp.cn/ssp-dccy/2023-12-13/522722/2efd71c0-6825-4eb1-8c9b-e5ae8a3ef853.jpg?AccessKeyId=3KTIFO8GC5N6LWASE8DQ&Expires=1709180535&x-image-process=image%2Fresize%2Cm_lfit%2Ch_500%2Cw_500&Signature=fSG6hNLQPQ4OS97pyv2bYoH1W48%3D'},\n",
       " {'label': '预览',\n",
       "  'url': 'https://sanpu.iarrp.cn/ssp-dccy/2023-12-13/522722/648b7f36-4fd3-4437-8690-446015bb6d7e.jpg?AccessKeyId=3KTIFO8GC5N6LWASE8DQ&Expires=1709180535&x-image-process=image%2Fresize%2Cm_lfit%2Ch_500%2Cw_500&Signature=yICPFAim%2Bsls66%2BU5mDqDMjFqjg%3D'},\n",
       " {'label': '预览',\n",
       "  'url': 'https://sanpu.iarrp.cn/ssp-dccy/2023-12-13/522722/9c4f7803-f397-4912-b54d-fab7c1ce325b.jpg?AccessKeyId=3KTIFO8GC5N6LWASE8DQ&Expires=1709180535&x-image-process=image%2Fresize%2Cm_lfit%2Ch_500%2Cw_500&Signature=3u3aDcqAkI%2FNeNkP0AzIwGHljzc%3D'},\n",
       " {'label': '预览',\n",
       "  'url': 'https://sanpu.iarrp.cn/ssp-dccy/2023-12-13/522722/755e1f6d-c4e4-47d4-98ab-6a760f61deb0.jpg?AccessKeyId=3KTIFO8GC5N6LWASE8DQ&Expires=1709180535&x-image-process=image%2Fresize%2Cm_lfit%2Ch_500%2Cw_500&Signature=iep%2FgNAjGWvOOaDVDzoGDqcB2YA%3D'},\n",
       " {'label': '预览',\n",
       "  'url': 'https://sanpu.iarrp.cn/ssp-dccy/2023-12-13/522722/6109807c-e498-4564-a665-6e68c6a94536.jpg?AccessKeyId=3KTIFO8GC5N6LWASE8DQ&Expires=1709180535&x-image-process=image%2Fresize%2Cm_lfit%2Ch_500%2Cw_500&Signature=Nxvx8K%2Bqk0Z%2BFvGTeHiHQOZdgyE%3D'},\n",
       " {'label': '预览',\n",
       "  'url': 'https://sanpu.iarrp.cn/ssp-dccy/2023-12-13/522722/19e196e7-a619-4d4e-9045-b8fec8aa5c90.jpg?AccessKeyId=3KTIFO8GC5N6LWASE8DQ&Expires=1709180535&x-image-process=image%2Fresize%2Cm_lfit%2Ch_500%2Cw_500&Signature=eUrEXqfGhJXn8sd4RkqaIkAQq3s%3D'},\n",
       " {'label': '预览',\n",
       "  'url': 'https://sanpu.iarrp.cn/ssp-dccy/2023-12-13/522722/e482b11c-aecc-4eea-b3cc-d8834de39dfe.jpg?AccessKeyId=3KTIFO8GC5N6LWASE8DQ&Expires=1709180535&x-image-process=image%2Fresize%2Cm_lfit%2Ch_500%2Cw_500&Signature=vkFh7eceaS5Jj8ZBQKE21bctdFQ%3D'}]"
      ]
     },
     "execution_count": 12,
     "metadata": {},
     "output_type": "execute_result"
    }
   ],
   "source": [
    "images_info"
   ]
  },
  {
   "cell_type": "code",
   "execution_count": 11,
   "metadata": {},
   "outputs": [
    {
     "name": "stdout",
     "output_type": "stream",
     "text": [
      "{'url': 'https://sanpu.iarrp.cn:443/ssp-dccy/2024-01-12/522722/4c4b1ebb-1ccf-40cd-a293-2febd7ec561b.jpg?AccessKeyId=3KTIFO8GC5N6LWASE8DQ&amp;Expires=1710321371&amp;x-image-process=image%2Fresize%2Cm_lfit%2Ch_500%2Cw_500&amp;Signature=e8TbRDFP1sE%2BbWoPTsrullVirtg%3D', 'label': '景观照片-东'}\n",
      "{'url': 'https://sanpu.iarrp.cn:443/ssp-dccy/2024-01-12/522722/8db52f6a-6ebe-4815-8771-fa342a7886d9.jpg?AccessKeyId=3KTIFO8GC5N6LWASE8DQ&amp;Expires=1710321371&amp;x-image-process=image%2Fresize%2Cm_lfit%2Ch_500%2Cw_500&amp;Signature=lZKhAASymTetWGzVF0CfOMzuQaQ%3D', 'label': '景观照片-南'}\n",
      "{'url': 'https://sanpu.iarrp.cn:443/ssp-dccy/2024-01-12/522722/71365ac4-4e7c-47fb-8a7e-b50925949579.jpg?AccessKeyId=3KTIFO8GC5N6LWASE8DQ&amp;Expires=1710321371&amp;x-image-process=image%2Fresize%2Cm_lfit%2Ch_500%2Cw_500&amp;Signature=EWgzNw6iiFnnYcNvUqKiGNX130s%3D', 'label': '景观照片-西'}\n",
      "{'url': 'https://sanpu.iarrp.cn:443/ssp-dccy/2024-01-12/522722/f8568982-25b9-4939-b4b8-b3f02c8bfbbc.jpg?AccessKeyId=3KTIFO8GC5N6LWASE8DQ&amp;Expires=1710321371&amp;x-image-process=image%2Fresize%2Cm_lfit%2Ch_500%2Cw_500&amp;Signature=QfnTLVfn7KRFAqDb9T9KofJxCxk%3D', 'label': '景观照片-北'}\n",
      "{'url': 'https://sanpu.iarrp.cn:443/ssp-dccy/2024-01-12/522722/9e81b986-e27e-46ff-9a7d-192d7c64bda0.jpg?AccessKeyId=3KTIFO8GC5N6LWASE8DQ&amp;Expires=1710321371&amp;x-image-process=image%2Fresize%2Cm_lfit%2Ch_500%2Cw_500&amp;Signature=9PkDnu1qT9vDeTLknEh%2FOkTAoyU%3D', 'label': '景观照片-其他'}\n"
     ]
    }
   ],
   "source": [
    "import re\n",
    "html_source = driver.page_source\n",
    "pattern = re.compile(r'<div class=\"ant-image\"[^>]*><img[^>]+src=\"([^\"]+)\"[^>]*>.*?<div class=\"img-text\"[^>]*>([^<]+)</div>', re.DOTALL)\n",
    "matches = pattern.findall(html_source)\n",
    "for match in matches:\n",
    "    print({'url': match[0], 'label': match[1]})\n"
   ]
  },
  {
   "cell_type": "code",
   "execution_count": 10,
   "metadata": {},
   "outputs": [
    {
     "name": "stdout",
     "output_type": "stream",
     "text": [
      "{'url': 'https://sanpu.iarrp.cn/ssp-dccy/2023-12-13/522722/648b7f36-4fd3-4437-8690-446015bb6d7e.jpg?AccessKeyId=3KTIFO8GC5N6LWASE8DQ&Expires=1709179794&x-image-process=image%2Fresize%2Cm_lfit%2Ch_500%2Cw_500&Signature=fCr7eoQvptikL8YS01Ve2RSRyFk%3D', 'label': {'type': '景观照片-北', 'angle': '358°（北）', 'time': '2023-12-13 11:43:17'}}\n",
      "{'url': 'https://sanpu.iarrp.cn/ssp-dccy/2023-12-13/522722/648b7f36-4fd3-4437-8690-446015bb6d7e.jpg?AccessKeyId=3KTIFO8GC5N6LWASE8DQ&Expires=1709179794&x-image-process=image%2Fresize%2Cm_lfit%2Ch_500%2Cw_500&Signature=fCr7eoQvptikL8YS01Ve2RSRyFk%3D', 'label': {'type': '景观照片-东', 'angle': '92°（东）', 'time': '2023-12-13 11:45:56'}}\n",
      "{'url': 'https://sanpu.iarrp.cn/ssp-dccy/2023-12-13/522722/648b7f36-4fd3-4437-8690-446015bb6d7e.jpg?AccessKeyId=3KTIFO8GC5N6LWASE8DQ&Expires=1709179794&x-image-process=image%2Fresize%2Cm_lfit%2Ch_500%2Cw_500&Signature=fCr7eoQvptikL8YS01Ve2RSRyFk%3D', 'label': {'type': '景观照片-南', 'angle': '183°（南）', 'time': '2023-12-13 11:44:36'}}\n",
      "{'url': 'https://sanpu.iarrp.cn/ssp-dccy/2023-12-13/522722/648b7f36-4fd3-4437-8690-446015bb6d7e.jpg?AccessKeyId=3KTIFO8GC5N6LWASE8DQ&Expires=1709179794&x-image-process=image%2Fresize%2Cm_lfit%2Ch_500%2Cw_500&Signature=fCr7eoQvptikL8YS01Ve2RSRyFk%3D', 'label': {'type': '景观照片-其他', 'angle': '228°（西南）', 'time': '2023-12-13 11:45:08'}}\n",
      "{'url': 'https://sanpu.iarrp.cn/ssp-dccy/2023-12-13/522722/648b7f36-4fd3-4437-8690-446015bb6d7e.jpg?AccessKeyId=3KTIFO8GC5N6LWASE8DQ&Expires=1709179794&x-image-process=image%2Fresize%2Cm_lfit%2Ch_500%2Cw_500&Signature=fCr7eoQvptikL8YS01Ve2RSRyFk%3D', 'label': {'type': '景观照片-其他', 'angle': '42°（东北）', 'time': '2023-12-13 11:46:32'}}\n",
      "{'url': 'https://sanpu.iarrp.cn/ssp-dccy/2023-12-13/522722/648b7f36-4fd3-4437-8690-446015bb6d7e.jpg?AccessKeyId=3KTIFO8GC5N6LWASE8DQ&Expires=1709179794&x-image-process=image%2Fresize%2Cm_lfit%2Ch_500%2Cw_500&Signature=fCr7eoQvptikL8YS01Ve2RSRyFk%3D', 'label': {'type': '景观照片-其他', 'angle': '23°（东北）', 'time': '2023-12-13 11:49:57'}}\n",
      "{'url': 'https://sanpu.iarrp.cn/ssp-dccy/2023-12-13/522722/648b7f36-4fd3-4437-8690-446015bb6d7e.jpg?AccessKeyId=3KTIFO8GC5N6LWASE8DQ&Expires=1709179794&x-image-process=image%2Fresize%2Cm_lfit%2Ch_500%2Cw_500&Signature=fCr7eoQvptikL8YS01Ve2RSRyFk%3D', 'label': {'type': '景观照片-西', 'angle': '273°（西）', 'time': '2023-12-13 11:43:45'}}\n",
      "{'url': 'https://sanpu.iarrp.cn/ssp-dccy/2023-12-13/522722/648b7f36-4fd3-4437-8690-446015bb6d7e.jpg?AccessKeyId=3KTIFO8GC5N6LWASE8DQ&Expires=1709179794&x-image-process=image%2Fresize%2Cm_lfit%2Ch_500%2Cw_500&Signature=fCr7eoQvptikL8YS01Ve2RSRyFk%3D', 'label': {'type': '景观照片-西', 'angle': '273°（西）', 'time': '2023-12-13 11:43:45'}}\n",
      "{'url': 'https://sanpu.iarrp.cn/ssp-dccy/2023-12-13/522722/648b7f36-4fd3-4437-8690-446015bb6d7e.jpg?AccessKeyId=3KTIFO8GC5N6LWASE8DQ&Expires=1709179794&x-image-process=image%2Fresize%2Cm_lfit%2Ch_500%2Cw_500&Signature=fCr7eoQvptikL8YS01Ve2RSRyFk%3D', 'label': {'type': '景观照片-西', 'angle': '273°（西）', 'time': '2023-12-13 11:43:45'}}\n",
      "{'url': 'https://sanpu.iarrp.cn/ssp-dccy/2023-12-13/522722/648b7f36-4fd3-4437-8690-446015bb6d7e.jpg?AccessKeyId=3KTIFO8GC5N6LWASE8DQ&Expires=1709179794&x-image-process=image%2Fresize%2Cm_lfit%2Ch_500%2Cw_500&Signature=fCr7eoQvptikL8YS01Ve2RSRyFk%3D', 'label': {'type': '景观照片-西', 'angle': '273°（西）', 'time': '2023-12-13 11:43:45'}}\n",
      "{'url': 'https://sanpu.iarrp.cn/ssp-dccy/2023-12-13/522722/648b7f36-4fd3-4437-8690-446015bb6d7e.jpg?AccessKeyId=3KTIFO8GC5N6LWASE8DQ&Expires=1709179794&x-image-process=image%2Fresize%2Cm_lfit%2Ch_500%2Cw_500&Signature=fCr7eoQvptikL8YS01Ve2RSRyFk%3D', 'label': {'type': '景观照片-西', 'angle': '273°（西）', 'time': '2023-12-13 11:43:45'}}\n",
      "{'url': 'https://sanpu.iarrp.cn/ssp-dccy/2023-12-13/522722/648b7f36-4fd3-4437-8690-446015bb6d7e.jpg?AccessKeyId=3KTIFO8GC5N6LWASE8DQ&Expires=1709179794&x-image-process=image%2Fresize%2Cm_lfit%2Ch_500%2Cw_500&Signature=fCr7eoQvptikL8YS01Ve2RSRyFk%3D', 'label': {'type': '景观照片-西', 'angle': '273°（西）', 'time': '2023-12-13 11:43:45'}}\n",
      "{'url': 'https://sanpu.iarrp.cn/ssp-dccy/2023-12-13/522722/648b7f36-4fd3-4437-8690-446015bb6d7e.jpg?AccessKeyId=3KTIFO8GC5N6LWASE8DQ&Expires=1709179794&x-image-process=image%2Fresize%2Cm_lfit%2Ch_500%2Cw_500&Signature=fCr7eoQvptikL8YS01Ve2RSRyFk%3D', 'label': {'type': '景观照片-西', 'angle': '273°（西）', 'time': '2023-12-13 11:43:45'}}\n",
      "{'url': 'https://sanpu.iarrp.cn/ssp-dccy/2023-12-13/522722/648b7f36-4fd3-4437-8690-446015bb6d7e.jpg?AccessKeyId=3KTIFO8GC5N6LWASE8DQ&Expires=1709179794&x-image-process=image%2Fresize%2Cm_lfit%2Ch_500%2Cw_500&Signature=fCr7eoQvptikL8YS01Ve2RSRyFk%3D', 'label': {'type': '景观照片-西', 'angle': '273°（西）', 'time': '2023-12-13 11:43:45'}}\n",
      "{'url': 'https://sanpu.iarrp.cn/ssp-dccy/2023-12-13/522722/648b7f36-4fd3-4437-8690-446015bb6d7e.jpg?AccessKeyId=3KTIFO8GC5N6LWASE8DQ&Expires=1709179794&x-image-process=image%2Fresize%2Cm_lfit%2Ch_500%2Cw_500&Signature=fCr7eoQvptikL8YS01Ve2RSRyFk%3D', 'label': {'type': '景观照片-西', 'angle': '273°（西）', 'time': '2023-12-13 11:43:45'}}\n",
      "{'url': 'https://sanpu.iarrp.cn/ssp-dccy/2023-12-13/522722/648b7f36-4fd3-4437-8690-446015bb6d7e.jpg?AccessKeyId=3KTIFO8GC5N6LWASE8DQ&Expires=1709179794&x-image-process=image%2Fresize%2Cm_lfit%2Ch_500%2Cw_500&Signature=fCr7eoQvptikL8YS01Ve2RSRyFk%3D', 'label': {'type': '景观照片-西', 'angle': '273°（西）', 'time': '2023-12-13 11:43:45'}}\n",
      "{'url': 'https://sanpu.iarrp.cn/ssp-dccy/2023-12-13/522722/648b7f36-4fd3-4437-8690-446015bb6d7e.jpg?AccessKeyId=3KTIFO8GC5N6LWASE8DQ&Expires=1709179794&x-image-process=image%2Fresize%2Cm_lfit%2Ch_500%2Cw_500&Signature=fCr7eoQvptikL8YS01Ve2RSRyFk%3D', 'label': {'type': '景观照片-西', 'angle': '273°（西）', 'time': '2023-12-13 11:43:45'}}\n",
      "{'url': 'https://sanpu.iarrp.cn/ssp-dccy/2023-12-13/522722/648b7f36-4fd3-4437-8690-446015bb6d7e.jpg?AccessKeyId=3KTIFO8GC5N6LWASE8DQ&Expires=1709179794&x-image-process=image%2Fresize%2Cm_lfit%2Ch_500%2Cw_500&Signature=fCr7eoQvptikL8YS01Ve2RSRyFk%3D', 'label': {'type': '景观照片-西', 'angle': '273°（西）', 'time': '2023-12-13 11:43:45'}}\n",
      "{'url': 'https://sanpu.iarrp.cn/ssp-dccy/2023-12-13/522722/648b7f36-4fd3-4437-8690-446015bb6d7e.jpg?AccessKeyId=3KTIFO8GC5N6LWASE8DQ&Expires=1709179794&x-image-process=image%2Fresize%2Cm_lfit%2Ch_500%2Cw_500&Signature=fCr7eoQvptikL8YS01Ve2RSRyFk%3D', 'label': {'type': '景观照片-西', 'angle': '273°（西）', 'time': '2023-12-13 11:43:45'}}\n"
     ]
    }
   ],
   "source": [
    "\n",
    "# 获取“下一张”按钮\n",
    "next_button = driver.find_element(By.CSS_SELECTOR, 'div.swiper-button-next')\n",
    "\n",
    "images_info = []\n",
    "num_images = len(driver.find_elements(By.CSS_SELECTOR, 'div.card-box div.ant-image img'))\n",
    "\n",
    "# 遍历图片集合\n",
    "for _ in range(num_images):\n",
    "    # 等待图片和标签信息更新\n",
    "    # time.sleep(1)  # 根据实际情况调整等待时间\n",
    "\n",
    "    # 获取当前显示的图片URL和标签信息\n",
    "    img = driver.find_element(By.CSS_SELECTOR, 'div.card-box div.ant-image img')\n",
    "    labelDiv = driver.find_element(By.CSS_SELECTOR, \"div.green-area\")\n",
    "    labelType = labelDiv.find_element(By.CSS_SELECTOR, \"div.photo > div:first-child\").text.replace('照片类型: ', '').strip()\n",
    "    labelAngle = labelDiv.find_element(By.CSS_SELECTOR, \"div.photo > div:last-child\").text.replace('拍摄角度: ', '').strip()\n",
    "    labelTime = labelDiv.find_element(By.CSS_SELECTOR, \".time-area\").text.replace('拍摄时间: ', '').strip()\n",
    "\n",
    "    images_info.append({\n",
    "        'url': img.get_attribute('src'),\n",
    "        'label': {'type': labelType, 'angle': labelAngle, 'time': labelTime}\n",
    "    })\n",
    "\n",
    "    # 点击“下一张”按钮\n",
    "    try:\n",
    "        next_button.click()\n",
    "    except:\n",
    "        pass\n",
    "\n",
    "# 输出获取到的图片信息\n",
    "for info in images_info:\n",
    "    print(info)"
   ]
  },
  {
   "cell_type": "code",
   "execution_count": 72,
   "metadata": {},
   "outputs": [],
   "source": [
    "images_info = []\n",
    "num_images = driver.find_elements(By.CSS_SELECTOR, 'div.card-box div.ant-image img')"
   ]
  },
  {
   "cell_type": "code",
   "execution_count": 73,
   "metadata": {},
   "outputs": [
    {
     "data": {
      "text/plain": [
       "[<selenium.webdriver.remote.webelement.WebElement (session=\"9897702d556fa23ea601795f50d257c3\", element=\"f.77AB10D290551153FEA3F1C9C4B9B3A5.d.352B1B3355F25C745E5B21702E11EDFA.e.13209\")>,\n",
       " <selenium.webdriver.remote.webelement.WebElement (session=\"9897702d556fa23ea601795f50d257c3\", element=\"f.77AB10D290551153FEA3F1C9C4B9B3A5.d.352B1B3355F25C745E5B21702E11EDFA.e.13210\")>,\n",
       " <selenium.webdriver.remote.webelement.WebElement (session=\"9897702d556fa23ea601795f50d257c3\", element=\"f.77AB10D290551153FEA3F1C9C4B9B3A5.d.352B1B3355F25C745E5B21702E11EDFA.e.13211\")>,\n",
       " <selenium.webdriver.remote.webelement.WebElement (session=\"9897702d556fa23ea601795f50d257c3\", element=\"f.77AB10D290551153FEA3F1C9C4B9B3A5.d.352B1B3355F25C745E5B21702E11EDFA.e.13212\")>,\n",
       " <selenium.webdriver.remote.webelement.WebElement (session=\"9897702d556fa23ea601795f50d257c3\", element=\"f.77AB10D290551153FEA3F1C9C4B9B3A5.d.352B1B3355F25C745E5B21702E11EDFA.e.13213\")>,\n",
       " <selenium.webdriver.remote.webelement.WebElement (session=\"9897702d556fa23ea601795f50d257c3\", element=\"f.77AB10D290551153FEA3F1C9C4B9B3A5.d.352B1B3355F25C745E5B21702E11EDFA.e.13214\")>,\n",
       " <selenium.webdriver.remote.webelement.WebElement (session=\"9897702d556fa23ea601795f50d257c3\", element=\"f.77AB10D290551153FEA3F1C9C4B9B3A5.d.352B1B3355F25C745E5B21702E11EDFA.e.13215\")>,\n",
       " <selenium.webdriver.remote.webelement.WebElement (session=\"9897702d556fa23ea601795f50d257c3\", element=\"f.77AB10D290551153FEA3F1C9C4B9B3A5.d.352B1B3355F25C745E5B21702E11EDFA.e.13216\")>,\n",
       " <selenium.webdriver.remote.webelement.WebElement (session=\"9897702d556fa23ea601795f50d257c3\", element=\"f.77AB10D290551153FEA3F1C9C4B9B3A5.d.352B1B3355F25C745E5B21702E11EDFA.e.13217\")>,\n",
       " <selenium.webdriver.remote.webelement.WebElement (session=\"9897702d556fa23ea601795f50d257c3\", element=\"f.77AB10D290551153FEA3F1C9C4B9B3A5.d.352B1B3355F25C745E5B21702E11EDFA.e.13218\")>,\n",
       " <selenium.webdriver.remote.webelement.WebElement (session=\"9897702d556fa23ea601795f50d257c3\", element=\"f.77AB10D290551153FEA3F1C9C4B9B3A5.d.352B1B3355F25C745E5B21702E11EDFA.e.13219\")>,\n",
       " <selenium.webdriver.remote.webelement.WebElement (session=\"9897702d556fa23ea601795f50d257c3\", element=\"f.77AB10D290551153FEA3F1C9C4B9B3A5.d.352B1B3355F25C745E5B21702E11EDFA.e.13267\")>,\n",
       " <selenium.webdriver.remote.webelement.WebElement (session=\"9897702d556fa23ea601795f50d257c3\", element=\"f.77AB10D290551153FEA3F1C9C4B9B3A5.d.352B1B3355F25C745E5B21702E11EDFA.e.13298\")>,\n",
       " <selenium.webdriver.remote.webelement.WebElement (session=\"9897702d556fa23ea601795f50d257c3\", element=\"f.77AB10D290551153FEA3F1C9C4B9B3A5.d.352B1B3355F25C745E5B21702E11EDFA.e.13301\")>,\n",
       " <selenium.webdriver.remote.webelement.WebElement (session=\"9897702d556fa23ea601795f50d257c3\", element=\"f.77AB10D290551153FEA3F1C9C4B9B3A5.d.352B1B3355F25C745E5B21702E11EDFA.e.13303\")>,\n",
       " <selenium.webdriver.remote.webelement.WebElement (session=\"9897702d556fa23ea601795f50d257c3\", element=\"f.77AB10D290551153FEA3F1C9C4B9B3A5.d.352B1B3355F25C745E5B21702E11EDFA.e.13305\")>,\n",
       " <selenium.webdriver.remote.webelement.WebElement (session=\"9897702d556fa23ea601795f50d257c3\", element=\"f.77AB10D290551153FEA3F1C9C4B9B3A5.d.352B1B3355F25C745E5B21702E11EDFA.e.13307\")>,\n",
       " <selenium.webdriver.remote.webelement.WebElement (session=\"9897702d556fa23ea601795f50d257c3\", element=\"f.77AB10D290551153FEA3F1C9C4B9B3A5.d.352B1B3355F25C745E5B21702E11EDFA.e.13309\")>]"
      ]
     },
     "execution_count": 73,
     "metadata": {},
     "output_type": "execute_result"
    }
   ],
   "source": [
    "num_images"
   ]
  },
  {
   "cell_type": "code",
   "execution_count": 23,
   "metadata": {},
   "outputs": [
    {
     "ename": "TimeoutException",
     "evalue": "Message: \n",
     "output_type": "error",
     "traceback": [
      "\u001b[1;31m---------------------------------------------------------------------------\u001b[0m",
      "\u001b[1;31mTimeoutException\u001b[0m                          Traceback (most recent call last)",
      "Cell \u001b[1;32mIn[23], line 2\u001b[0m\n\u001b[0;32m      1\u001b[0m \u001b[38;5;66;03m# 等待并点击下拉选择的触发器以展开选项列表\u001b[39;00m\n\u001b[1;32m----> 2\u001b[0m dropdown_trigger \u001b[38;5;241m=\u001b[39m \u001b[43mWebDriverWait\u001b[49m\u001b[43m(\u001b[49m\u001b[43mdriver\u001b[49m\u001b[43m,\u001b[49m\u001b[43m \u001b[49m\u001b[38;5;241;43m10\u001b[39;49m\u001b[43m)\u001b[49m\u001b[38;5;241;43m.\u001b[39;49m\u001b[43muntil\u001b[49m\u001b[43m(\u001b[49m\n\u001b[0;32m      3\u001b[0m \u001b[43m    \u001b[49m\u001b[43mEC\u001b[49m\u001b[38;5;241;43m.\u001b[39;49m\u001b[43melement_to_be_clickable\u001b[49m\u001b[43m(\u001b[49m\u001b[43m(\u001b[49m\u001b[43mBy\u001b[49m\u001b[38;5;241;43m.\u001b[39;49m\u001b[43mCSS_SELECTOR\u001b[49m\u001b[43m,\u001b[49m\u001b[43m \u001b[49m\u001b[38;5;124;43m'\u001b[39;49m\u001b[38;5;124;43mdiv.ant-select-selector\u001b[39;49m\u001b[38;5;124;43m'\u001b[39;49m\u001b[43m)\u001b[49m\u001b[43m)\u001b[49m\n\u001b[0;32m      4\u001b[0m \u001b[43m)\u001b[49m\n\u001b[0;32m      5\u001b[0m dropdown_trigger\u001b[38;5;241m.\u001b[39mclick()\n\u001b[0;32m      7\u001b[0m \u001b[38;5;66;03m# 增加一些等待时间，确保下拉列表的选项加载完成\u001b[39;00m\n\u001b[0;32m      8\u001b[0m \n\u001b[0;32m      9\u001b[0m \u001b[38;5;66;03m# 等待并定位到特定的选项（例如“混合点照片”）\u001b[39;00m\n",
      "File \u001b[1;32md:\\worker_code\\spiderdir\\spiderenv\\lib\\site-packages\\selenium\\webdriver\\support\\wait.py:105\u001b[0m, in \u001b[0;36mWebDriverWait.until\u001b[1;34m(self, method, message)\u001b[0m\n\u001b[0;32m    103\u001b[0m     \u001b[38;5;28;01mif\u001b[39;00m time\u001b[38;5;241m.\u001b[39mmonotonic() \u001b[38;5;241m>\u001b[39m end_time:\n\u001b[0;32m    104\u001b[0m         \u001b[38;5;28;01mbreak\u001b[39;00m\n\u001b[1;32m--> 105\u001b[0m \u001b[38;5;28;01mraise\u001b[39;00m TimeoutException(message, screen, stacktrace)\n",
      "\u001b[1;31mTimeoutException\u001b[0m: Message: \n"
     ]
    }
   ],
   "source": [
    "\n",
    "# 等待并点击下拉选择的触发器以展开选项列表\n",
    "dropdown_trigger = WebDriverWait(driver, 10).until(\n",
    "    EC.element_to_be_clickable((By.CSS_SELECTOR, 'div.ant-select-selector'))\n",
    ")\n",
    "dropdown_trigger.click()\n",
    "\n",
    "# 增加一些等待时间，确保下拉列表的选项加载完成\n",
    "\n",
    "# 等待并定位到特定的选项（例如“混合点照片”）\n",
    "option_to_select = WebDriverWait(driver, 10).until(\n",
    "    EC.visibility_of_element_located((By.XPATH, \"//div[contains(@class, 'ant-select-item-option-content') and contains(text(), '混样点照片')]\"))\n",
    ")\n",
    "option_to_select.click()\n"
   ]
  },
  {
   "cell_type": "code",
   "execution_count": null,
   "metadata": {},
   "outputs": [],
   "source": [
    "\n",
    "# 定位所有包含文本的元素\n",
    "text_elements = driver.find_elements(By.XPATH, '//*[text()]')\n",
    "\n",
    "# # 提取并打印每个元素的文本\n",
    "for element in text_elements:\n",
    "    print(element.text)"
   ]
  },
  {
   "cell_type": "code",
   "execution_count": null,
   "metadata": {},
   "outputs": [],
   "source": [
    "sections = driver.find_elements(By.CSS_SELECTOR, '.ldtj-content')\n",
    "\n",
    "for section in sections:\n",
    "    # 获取当前部分的所有子元素，这些子元素包含了我们需要的信息\n",
    "    items = section.find_elements(By.XPATH, './*')\n",
    "    for item in items:\n",
    "        # 假设键（例如“天气:”）在<span class=\"gray-color\">里，而值紧跟在<span>后面\n",
    "        key = item.find_element(By.CSS_SELECTOR, 'span.gray-color').text\n",
    "        # 获取整个item的文本，这将包含键和值\n",
    "        full_text = item.text\n",
    "        # 值是全文本去掉键的部分\n",
    "        value = full_text.replace(key, '').strip()\n",
    "        print(f'{key} {value}')"
   ]
  },
  {
   "cell_type": "code",
   "execution_count": 104,
   "metadata": {},
   "outputs": [],
   "source": [
    "# 下拉选择对应元素图片\n",
    "def select_element_image(driver, element_name):\n",
    "\n",
    "    # 定位\n",
    "    span_element = driver.find_element(By.XPATH, \"//div[@class='ant-select select-width ant-select-single ant-select-allow-clear ant-select-show-arrow']\")\n",
    "    span_element.click()\n",
    "    # 选择对应标签\n",
    "    option = driver.find_element(By.XPATH,f'//div[@title=\"{element_name}\"]')\n",
    "    option.click()\n",
    "        # 点击清空\n",
    "    body = driver.find_element(By.TAG_NAME, 'body')\n",
    "    body.click()\n",
    "    body.click()\n"
   ]
  },
  {
   "cell_type": "code",
   "execution_count": 105,
   "metadata": {},
   "outputs": [],
   "source": [
    "select_element_image(driver, \"景观照片\")"
   ]
  },
  {
   "cell_type": "code",
   "execution_count": 65,
   "metadata": {},
   "outputs": [],
   "source": [
    "\n",
    "\n",
    "# 创建ActionChains对象\n",
    "actions = ActionChains(driver)\n",
    "\n",
    "# 移动到一个相对安全的位置并点击\n",
    "# actions.move_by_offset(10, 10).click().perform()\n",
    "actions.click().perform()\n"
   ]
  },
  {
   "cell_type": "code",
   "execution_count": 81,
   "metadata": {},
   "outputs": [
    {
     "name": "stdout",
     "output_type": "stream",
     "text": [
      "Image SRC: https://sanpu.iarrp.cn/images/workpanel/photo.svg, ALT: \n",
      "Image SRC: https://sanpu.iarrp.cn/ssp-dccy/2023-12-13/522722/2efd71c0-6825-4eb1-8c9b-e5ae8a3ef853.jpg?AccessKeyId=3KTIFO8GC5N6LWASE8DQ&Expires=1709116646&x-image-process=image%2Fresize%2Cm_lfit%2Ch_500%2Cw_500&Signature=a5%2BjB%2B8jcJ6z7bciIk7PsKpn8Lc%3D, ALT: \n",
      "Image SRC: https://sanpu.iarrp.cn/ssp-dccy/2023-12-13/522722/648b7f36-4fd3-4437-8690-446015bb6d7e.jpg?AccessKeyId=3KTIFO8GC5N6LWASE8DQ&Expires=1709116646&x-image-process=image%2Fresize%2Cm_lfit%2Ch_500%2Cw_500&Signature=HMQT9%2BK1WsAUuo%2B90lvd9CWfjmg%3D, ALT: \n",
      "Image SRC: https://sanpu.iarrp.cn/ssp-dccy/2023-12-13/522722/9c4f7803-f397-4912-b54d-fab7c1ce325b.jpg?AccessKeyId=3KTIFO8GC5N6LWASE8DQ&Expires=1709116646&x-image-process=image%2Fresize%2Cm_lfit%2Ch_500%2Cw_500&Signature=096lzdordDsmAi9WTasFYuigZn0%3D, ALT: \n",
      "Image SRC: https://sanpu.iarrp.cn/ssp-dccy/2023-12-13/522722/755e1f6d-c4e4-47d4-98ab-6a760f61deb0.jpg?AccessKeyId=3KTIFO8GC5N6LWASE8DQ&Expires=1709116646&x-image-process=image%2Fresize%2Cm_lfit%2Ch_500%2Cw_500&Signature=HwDQmSwf8a9DyxUANEpkeqMJ4LE%3D, ALT: \n",
      "Image SRC: https://sanpu.iarrp.cn/ssp-dccy/2023-12-13/522722/6109807c-e498-4564-a665-6e68c6a94536.jpg?AccessKeyId=3KTIFO8GC5N6LWASE8DQ&Expires=1709116646&x-image-process=image%2Fresize%2Cm_lfit%2Ch_500%2Cw_500&Signature=ab9LVJGETl5M2MyhuhUHVWwxlUQ%3D, ALT: \n",
      "Image SRC: https://sanpu.iarrp.cn/ssp-dccy/2023-12-13/522722/19e196e7-a619-4d4e-9045-b8fec8aa5c90.jpg?AccessKeyId=3KTIFO8GC5N6LWASE8DQ&Expires=1709116646&x-image-process=image%2Fresize%2Cm_lfit%2Ch_500%2Cw_500&Signature=wdg9nhT17d6hwf0ow39zIIsg%2Buw%3D, ALT: \n",
      "Image SRC: https://sanpu.iarrp.cn/ssp-dccy/2023-12-13/522722/e482b11c-aecc-4eea-b3cc-d8834de39dfe.jpg?AccessKeyId=3KTIFO8GC5N6LWASE8DQ&Expires=1709116646&x-image-process=image%2Fresize%2Cm_lfit%2Ch_500%2Cw_500&Signature=kxSLvI7pYdwVZr9iVUxQ5VjyLi4%3D, ALT: \n",
      "Image SRC: https://sanpu.iarrp.cn/images/workpanel/location.svg, ALT: \n",
      "Image SRC: https://sanpu.iarrp.cn/images/workpanel/pictPosition.png, ALT: \n",
      "Image SRC: https://sanpu.iarrp.cn/images/workpanel/position4.png, ALT: \n",
      "Image SRC: https://sanpu.iarrp.cn/images/workpanel/position3.png, ALT: \n",
      "Image SRC: https://sanpu.iarrp.cn/images/workpanel/position2.png, ALT: \n"
     ]
    }
   ],
   "source": [
    "\n",
    "\n",
    "# 定位到包含图片的div\n",
    "container_div = driver.find_element(By.CSS_SELECTOR, 'div.scroll-xxxx.h-full[data-v-b41b232c]')\n",
    "\n",
    "# 找到所有的img标签\n",
    "images = container_div.find_elements(By.TAG_NAME, 'img')\n",
    "\n",
    "# 遍历每一个img标签\n",
    "for img in images:\n",
    "    # 获取图片的src属性（图片链接）\n",
    "    src = img.get_attribute('src')\n",
    "    \n",
    "    # 获取其他你感兴趣的属性，例如alt\n",
    "    alt = img.get_attribute('alt')\n",
    "    \n",
    "    # 打印信息\n",
    "    print(f'Image SRC: {src}, ALT: {alt}')"
   ]
  }
 ],
 "metadata": {
  "kernelspec": {
   "display_name": ".spidervenv",
   "language": "python",
   "name": "python3"
  },
  "language_info": {
   "codemirror_mode": {
    "name": "ipython",
    "version": 3
   },
   "file_extension": ".py",
   "mimetype": "text/x-python",
   "name": "python",
   "nbconvert_exporter": "python",
   "pygments_lexer": "ipython3",
   "version": "3.10.11"
  }
 },
 "nbformat": 4,
 "nbformat_minor": 2
}
