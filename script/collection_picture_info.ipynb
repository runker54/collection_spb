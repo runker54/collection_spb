{
 "cells": [
  {
   "cell_type": "code",
   "execution_count": 62,
   "metadata": {},
   "outputs": [],
   "source": [
    "import os\n",
    "import re\n",
    "import time\n",
    "from bs4 import BeautifulSoup\n",
    "import requests\n",
    "import json\n",
    "import datetime\n",
    "from selenium import webdriver\n",
    "from selenium.webdriver.chrome.options import Options\n",
    "from selenium.webdriver.common.by import By\n",
    "from selenium.webdriver.chrome.service import Service\n",
    "from selenium.webdriver.support.ui import WebDriverWait\n",
    "from selenium.webdriver.support import expected_conditions as EC\n",
    "from selenium.webdriver.support.ui import Select\n",
    "from selenium.common.exceptions import NoSuchElementException\n",
    "from selenium.webdriver.common.action_chains import ActionChains\n",
    "import random\n",
    "import pandas as pd"
   ]
  },
  {
   "cell_type": "code",
   "execution_count": 14,
   "metadata": {},
   "outputs": [],
   "source": [
    "### 辅助函数\n",
    "# 获取主页详情页链接\n",
    "def get_detail_page_url(driver):\n",
    "    \"\"\"获取详情页链接\"\"\"\n",
    "   # 定位包含详情按钮的所有<tr>元素\n",
    "    rows = driver.find_elements(By.CSS_SELECTOR, \"tr.ant-table-row\")\n",
    "    return rows\n",
    "# 跳转到下一页\n",
    "def step_next_page(driver):\n",
    "    \"\"\"跳转下一页\"\"\"\n",
    "    # 使用类名和属性选择器\n",
    "    next_page_button = driver.find_element(By.CSS_SELECTOR, \"li.ant-pagination-next[title='下一页']\")\n",
    "    next_page_button.click()\n",
    "    # # 使用XPath\n",
    "    # next_page_button = driver.find_element(By.XPATH, \"//li[@class='ant-pagination-next' and @title='下一页']\")\n",
    "    # next_page_button.click()\n",
    "    # # 使用类名\n",
    "    # next_page_button = driver.find_element(By.CLASS_NAME, \"ant-pagination-next\")\n",
    "    # next_page_button.click()\n",
    "\n",
    "# 从详情页返回到主页\n",
    "def step_back_to_home(driver):\n",
    "    button = driver.find_element(By.XPATH,\"//button[span='返回']\")\n",
    "    button.click()\n"
   ]
  },
  {
   "cell_type": "code",
   "execution_count": 4,
   "metadata": {},
   "outputs": [],
   "source": [
    "# 配置浏览器\n",
    "# chrome.exe --remote-debugging-port=9999 --user-data-dir=\"D:\\Selenium\\AutomationProfile\"\n",
    "# chrome.exe --remote-debugging-port=9999 --user-data-dir=\"D:\\Program Files\\ChromeDir\"\n",
    "options = webdriver.ChromeOptions()\n",
    "options.add_experimental_option(\"debuggerAddress\", \"localhost:9999\")\n",
    "driver = webdriver.Chrome(options=options)\n",
    "driver.implicitly_wait(20)"
   ]
  },
  {
   "cell_type": "code",
   "execution_count": 11,
   "metadata": {},
   "outputs": [],
   "source": [
    "# 定位包含详情按钮的所有<tr>元素\n",
    "rows = driver.find_elements(By.CSS_SELECTOR, \"tr.ant-table-row\")"
   ]
  },
  {
   "cell_type": "code",
   "execution_count": 12,
   "metadata": {},
   "outputs": [
    {
     "data": {
      "text/plain": [
       "[<selenium.webdriver.remote.webelement.WebElement (session=\"9897702d556fa23ea601795f50d257c3\", element=\"f.77AB10D290551153FEA3F1C9C4B9B3A5.d.D369FC30245943D45A58A3FAC470EA38.e.158\")>,\n",
       " <selenium.webdriver.remote.webelement.WebElement (session=\"9897702d556fa23ea601795f50d257c3\", element=\"f.77AB10D290551153FEA3F1C9C4B9B3A5.d.D369FC30245943D45A58A3FAC470EA38.e.159\")>,\n",
       " <selenium.webdriver.remote.webelement.WebElement (session=\"9897702d556fa23ea601795f50d257c3\", element=\"f.77AB10D290551153FEA3F1C9C4B9B3A5.d.D369FC30245943D45A58A3FAC470EA38.e.160\")>,\n",
       " <selenium.webdriver.remote.webelement.WebElement (session=\"9897702d556fa23ea601795f50d257c3\", element=\"f.77AB10D290551153FEA3F1C9C4B9B3A5.d.D369FC30245943D45A58A3FAC470EA38.e.161\")>,\n",
       " <selenium.webdriver.remote.webelement.WebElement (session=\"9897702d556fa23ea601795f50d257c3\", element=\"f.77AB10D290551153FEA3F1C9C4B9B3A5.d.D369FC30245943D45A58A3FAC470EA38.e.162\")>,\n",
       " <selenium.webdriver.remote.webelement.WebElement (session=\"9897702d556fa23ea601795f50d257c3\", element=\"f.77AB10D290551153FEA3F1C9C4B9B3A5.d.D369FC30245943D45A58A3FAC470EA38.e.163\")>,\n",
       " <selenium.webdriver.remote.webelement.WebElement (session=\"9897702d556fa23ea601795f50d257c3\", element=\"f.77AB10D290551153FEA3F1C9C4B9B3A5.d.D369FC30245943D45A58A3FAC470EA38.e.164\")>,\n",
       " <selenium.webdriver.remote.webelement.WebElement (session=\"9897702d556fa23ea601795f50d257c3\", element=\"f.77AB10D290551153FEA3F1C9C4B9B3A5.d.D369FC30245943D45A58A3FAC470EA38.e.165\")>,\n",
       " <selenium.webdriver.remote.webelement.WebElement (session=\"9897702d556fa23ea601795f50d257c3\", element=\"f.77AB10D290551153FEA3F1C9C4B9B3A5.d.D369FC30245943D45A58A3FAC470EA38.e.166\")>,\n",
       " <selenium.webdriver.remote.webelement.WebElement (session=\"9897702d556fa23ea601795f50d257c3\", element=\"f.77AB10D290551153FEA3F1C9C4B9B3A5.d.D369FC30245943D45A58A3FAC470EA38.e.167\")>]"
      ]
     },
     "execution_count": 12,
     "metadata": {},
     "output_type": "execute_result"
    }
   ],
   "source": [
    "rows"
   ]
  },
  {
   "cell_type": "code",
   "execution_count": 15,
   "metadata": {},
   "outputs": [],
   "source": [
    "# 遍历每个<tr>元素\n",
    "for row in rows:\n",
    "    # 在每个<tr>元素中定位详情按钮\n",
    "    detail_button = row.find_element(By.CSS_SELECTOR, \"button.ant-btn.ant-btn-link.ant-btn-lg\")\n",
    "    \n",
    "    # 点击详情按钮\n",
    "    detail_button.click()\n",
    "    \n",
    "    # 处理详情页内容，可能需要等待内容加载\n",
    "    time.sleep(2)  # 根据实际情况调整等待时间\n",
    "\n",
    "    # 从详情页返回\n",
    "    step_back_to_home(driver)\n"
   ]
  },
  {
   "cell_type": "code",
   "execution_count": 16,
   "metadata": {},
   "outputs": [],
   "source": [
    "image_elements = driver.find_elements(By.TAG_NAME, \"img\")"
   ]
  },
  {
   "cell_type": "code",
   "execution_count": 74,
   "metadata": {},
   "outputs": [
    {
     "data": {
      "text/plain": [
       "([<selenium.webdriver.remote.webelement.WebElement (session=\"9897702d556fa23ea601795f50d257c3\", element=\"f.77AB10D290551153FEA3F1C9C4B9B3A5.d.D369FC30245943D45A58A3FAC470EA38.e.61\")>,\n",
       "  <selenium.webdriver.remote.webelement.WebElement (session=\"9897702d556fa23ea601795f50d257c3\", element=\"f.77AB10D290551153FEA3F1C9C4B9B3A5.d.D369FC30245943D45A58A3FAC470EA38.e.62\")>,\n",
       "  <selenium.webdriver.remote.webelement.WebElement (session=\"9897702d556fa23ea601795f50d257c3\", element=\"f.77AB10D290551153FEA3F1C9C4B9B3A5.d.D369FC30245943D45A58A3FAC470EA38.e.63\")>,\n",
       "  <selenium.webdriver.remote.webelement.WebElement (session=\"9897702d556fa23ea601795f50d257c3\", element=\"f.77AB10D290551153FEA3F1C9C4B9B3A5.d.D369FC30245943D45A58A3FAC470EA38.e.129\")>,\n",
       "  <selenium.webdriver.remote.webelement.WebElement (session=\"9897702d556fa23ea601795f50d257c3\", element=\"f.77AB10D290551153FEA3F1C9C4B9B3A5.d.D369FC30245943D45A58A3FAC470EA38.e.130\")>,\n",
       "  <selenium.webdriver.remote.webelement.WebElement (session=\"9897702d556fa23ea601795f50d257c3\", element=\"f.77AB10D290551153FEA3F1C9C4B9B3A5.d.D369FC30245943D45A58A3FAC470EA38.e.220\")>,\n",
       "  <selenium.webdriver.remote.webelement.WebElement (session=\"9897702d556fa23ea601795f50d257c3\", element=\"f.77AB10D290551153FEA3F1C9C4B9B3A5.d.D369FC30245943D45A58A3FAC470EA38.e.5021\")>,\n",
       "  <selenium.webdriver.remote.webelement.WebElement (session=\"9897702d556fa23ea601795f50d257c3\", element=\"f.77AB10D290551153FEA3F1C9C4B9B3A5.d.D369FC30245943D45A58A3FAC470EA38.e.5106\")>,\n",
       "  <selenium.webdriver.remote.webelement.WebElement (session=\"9897702d556fa23ea601795f50d257c3\", element=\"f.77AB10D290551153FEA3F1C9C4B9B3A5.d.D369FC30245943D45A58A3FAC470EA38.e.5022\")>,\n",
       "  <selenium.webdriver.remote.webelement.WebElement (session=\"9897702d556fa23ea601795f50d257c3\", element=\"f.77AB10D290551153FEA3F1C9C4B9B3A5.d.D369FC30245943D45A58A3FAC470EA38.e.5107\")>,\n",
       "  <selenium.webdriver.remote.webelement.WebElement (session=\"9897702d556fa23ea601795f50d257c3\", element=\"f.77AB10D290551153FEA3F1C9C4B9B3A5.d.D369FC30245943D45A58A3FAC470EA38.e.5109\")>,\n",
       "  <selenium.webdriver.remote.webelement.WebElement (session=\"9897702d556fa23ea601795f50d257c3\", element=\"f.77AB10D290551153FEA3F1C9C4B9B3A5.d.D369FC30245943D45A58A3FAC470EA38.e.5111\")>,\n",
       "  <selenium.webdriver.remote.webelement.WebElement (session=\"9897702d556fa23ea601795f50d257c3\", element=\"f.77AB10D290551153FEA3F1C9C4B9B3A5.d.D369FC30245943D45A58A3FAC470EA38.e.5113\")>,\n",
       "  <selenium.webdriver.remote.webelement.WebElement (session=\"9897702d556fa23ea601795f50d257c3\", element=\"f.77AB10D290551153FEA3F1C9C4B9B3A5.d.D369FC30245943D45A58A3FAC470EA38.e.5115\")>,\n",
       "  <selenium.webdriver.remote.webelement.WebElement (session=\"9897702d556fa23ea601795f50d257c3\", element=\"f.77AB10D290551153FEA3F1C9C4B9B3A5.d.D369FC30245943D45A58A3FAC470EA38.e.5117\")>,\n",
       "  <selenium.webdriver.remote.webelement.WebElement (session=\"9897702d556fa23ea601795f50d257c3\", element=\"f.77AB10D290551153FEA3F1C9C4B9B3A5.d.D369FC30245943D45A58A3FAC470EA38.e.5119\")>,\n",
       "  <selenium.webdriver.remote.webelement.WebElement (session=\"9897702d556fa23ea601795f50d257c3\", element=\"f.77AB10D290551153FEA3F1C9C4B9B3A5.d.D369FC30245943D45A58A3FAC470EA38.e.5121\")>,\n",
       "  <selenium.webdriver.remote.webelement.WebElement (session=\"9897702d556fa23ea601795f50d257c3\", element=\"f.77AB10D290551153FEA3F1C9C4B9B3A5.d.D369FC30245943D45A58A3FAC470EA38.e.5123\")>,\n",
       "  <selenium.webdriver.remote.webelement.WebElement (session=\"9897702d556fa23ea601795f50d257c3\", element=\"f.77AB10D290551153FEA3F1C9C4B9B3A5.d.D369FC30245943D45A58A3FAC470EA38.e.5125\")>,\n",
       "  <selenium.webdriver.remote.webelement.WebElement (session=\"9897702d556fa23ea601795f50d257c3\", element=\"f.77AB10D290551153FEA3F1C9C4B9B3A5.d.D369FC30245943D45A58A3FAC470EA38.e.5127\")>,\n",
       "  <selenium.webdriver.remote.webelement.WebElement (session=\"9897702d556fa23ea601795f50d257c3\", element=\"f.77AB10D290551153FEA3F1C9C4B9B3A5.d.D369FC30245943D45A58A3FAC470EA38.e.5129\")>,\n",
       "  <selenium.webdriver.remote.webelement.WebElement (session=\"9897702d556fa23ea601795f50d257c3\", element=\"f.77AB10D290551153FEA3F1C9C4B9B3A5.d.D369FC30245943D45A58A3FAC470EA38.e.5023\")>,\n",
       "  <selenium.webdriver.remote.webelement.WebElement (session=\"9897702d556fa23ea601795f50d257c3\", element=\"f.77AB10D290551153FEA3F1C9C4B9B3A5.d.D369FC30245943D45A58A3FAC470EA38.e.5024\")>,\n",
       "  <selenium.webdriver.remote.webelement.WebElement (session=\"9897702d556fa23ea601795f50d257c3\", element=\"f.77AB10D290551153FEA3F1C9C4B9B3A5.d.D369FC30245943D45A58A3FAC470EA38.e.5104\")>,\n",
       "  <selenium.webdriver.remote.webelement.WebElement (session=\"9897702d556fa23ea601795f50d257c3\", element=\"f.77AB10D290551153FEA3F1C9C4B9B3A5.d.D369FC30245943D45A58A3FAC470EA38.e.5132\")>,\n",
       "  <selenium.webdriver.remote.webelement.WebElement (session=\"9897702d556fa23ea601795f50d257c3\", element=\"f.77AB10D290551153FEA3F1C9C4B9B3A5.d.D369FC30245943D45A58A3FAC470EA38.e.5134\")>,\n",
       "  <selenium.webdriver.remote.webelement.WebElement (session=\"9897702d556fa23ea601795f50d257c3\", element=\"f.77AB10D290551153FEA3F1C9C4B9B3A5.d.D369FC30245943D45A58A3FAC470EA38.e.5136\")>,\n",
       "  <selenium.webdriver.remote.webelement.WebElement (session=\"9897702d556fa23ea601795f50d257c3\", element=\"f.77AB10D290551153FEA3F1C9C4B9B3A5.d.D369FC30245943D45A58A3FAC470EA38.e.5138\")>,\n",
       "  <selenium.webdriver.remote.webelement.WebElement (session=\"9897702d556fa23ea601795f50d257c3\", element=\"f.77AB10D290551153FEA3F1C9C4B9B3A5.d.D369FC30245943D45A58A3FAC470EA38.e.5140\")>,\n",
       "  <selenium.webdriver.remote.webelement.WebElement (session=\"9897702d556fa23ea601795f50d257c3\", element=\"f.77AB10D290551153FEA3F1C9C4B9B3A5.d.D369FC30245943D45A58A3FAC470EA38.e.5142\")>,\n",
       "  <selenium.webdriver.remote.webelement.WebElement (session=\"9897702d556fa23ea601795f50d257c3\", element=\"f.77AB10D290551153FEA3F1C9C4B9B3A5.d.D369FC30245943D45A58A3FAC470EA38.e.5025\")>,\n",
       "  <selenium.webdriver.remote.webelement.WebElement (session=\"9897702d556fa23ea601795f50d257c3\", element=\"f.77AB10D290551153FEA3F1C9C4B9B3A5.d.D369FC30245943D45A58A3FAC470EA38.e.5026\")>,\n",
       "  <selenium.webdriver.remote.webelement.WebElement (session=\"9897702d556fa23ea601795f50d257c3\", element=\"f.77AB10D290551153FEA3F1C9C4B9B3A5.d.D369FC30245943D45A58A3FAC470EA38.e.5028\")>,\n",
       "  <selenium.webdriver.remote.webelement.WebElement (session=\"9897702d556fa23ea601795f50d257c3\", element=\"f.77AB10D290551153FEA3F1C9C4B9B3A5.d.D369FC30245943D45A58A3FAC470EA38.e.5030\")>,\n",
       "  <selenium.webdriver.remote.webelement.WebElement (session=\"9897702d556fa23ea601795f50d257c3\", element=\"f.77AB10D290551153FEA3F1C9C4B9B3A5.d.D369FC30245943D45A58A3FAC470EA38.e.5032\")>,\n",
       "  <selenium.webdriver.remote.webelement.WebElement (session=\"9897702d556fa23ea601795f50d257c3\", element=\"f.77AB10D290551153FEA3F1C9C4B9B3A5.d.D369FC30245943D45A58A3FAC470EA38.e.5144\")>,\n",
       "  <selenium.webdriver.remote.webelement.WebElement (session=\"9897702d556fa23ea601795f50d257c3\", element=\"f.77AB10D290551153FEA3F1C9C4B9B3A5.d.D369FC30245943D45A58A3FAC470EA38.e.77\")>],\n",
       " 37)"
      ]
     },
     "execution_count": 74,
     "metadata": {},
     "output_type": "execute_result"
    }
   ],
   "source": [
    "image_elements,len(image_elements)"
   ]
  },
  {
   "cell_type": "code",
   "execution_count": 18,
   "metadata": {},
   "outputs": [
    {
     "name": "stdout",
     "output_type": "stream",
     "text": [
      "https://sanpu.iarrp.cn/assets/logo.8c5debb3.svg\n",
      "https://sanpu.iarrp.cn/images/home/pending-work.png\n",
      "https://sanpu.iarrp.cn/images/home/quality.png\n",
      "https://sanpu.iarrp.cn/images/workpanel/btn-auditing2.png\n",
      "https://sanpu.iarrp.cn/images/workpanel/btn-audit.png\n",
      "data:image/png;base64,iVBORw0KGgoAAAANSUhEUgAAACAAAAAgCAMAAABEpIrGAAAAAXNSR0IArs4c6QAAAVlQTFRFAAAA////qqqqv7+/mZmZqqqqkpKSn5+fjo6OmZmZi4uilZWViYmdkpKSj4+Pjo6OjIyMhoaSioqVhYWPhISOiYmShISNg4OTiIiOhYWRhYWQiIiNhYWPhYWPhISOhISOhISNhISNhISMhoaOhISQg4OPg4OPg4OOhoaNhoaNhoaPhISNhISNhYWOhISMhISPhYWNhYWNg4OOhYWMhYWMhISOhISOhYWMhISNhYWOhISNhISNhISMhYWNhISOg4ONhISMg4ONg4ONg4ONg4ONg4OOhISNhYWNhISMhYWNhISMhISNhISNhISNhISMhISMhISNhISMhISNhISMhISMg4ONg4OMg4OMhISNg4OMg4OMg4ONhISMhISNhISNhISMg4ONg4OMhISNg4OMg4OMhISNg4OMhISMg4ONhISMhISNg4OMhISNg4OMhISNg4OMg4OMhISNg4OMLx53FQAAAHJ0Uk5TAAEDBAUGBwgJCgsMDQ4QEhQVGBkbHB0hKywuLzAyNDY4Ojw9PkBESEpMVFVXWltdYGJjZGZqbG9wcXJ0dnd+gIGChIaIkJGUl5iZmpucnqCmvb6/wcTGyMnKzM7c3d/g4ePk5efo6fDz9Pb3+Pn6+/3+J9rfuQAAAUNJREFUOMudk2dTwkAQhlcRe8eCDWMhNhRRURS72DsqqICgMdgQ5P3/H0xOM2QgizM+X+42+2T2TW6OKKiA5WmZaA5l8VECqc0Nhi0FCVJxXU0MNVGodAjcdlj3u+6BY2oKA+qwVX8kDdw0E9l2gay/tO/PAgdVYuv9AM6KgthPgM95oxpIAXed5r4jAihSoW67AtKjhVrSfl7EYX5DD5JbNCpfBjiyF2XyvgOrP9slbfxCaWotyFeLmJfD85DVd8uArK/jgJu6JYGr0iS4gAl9nQR6PPnfwwozwqxxmlFGoP4xgVzLCVaYhYZASLDdxwhBI0OcEQaTGcHbzn8z/Ck4o0lBfIUR1oyQD4zQGjoXnLpNQi/gKZvB9oLHmYoyAgW0mTGZpgAnc5Om9Xt8GUO+kbtrdeuvevQL4mnfS6j79aYH35c+kYTYtspRAAAAAElFTkSuQmCC\n",
      "https://sanpu.iarrp.cn/images/workpanel/place.svg\n",
      "https://sanpu.iarrp.cn/ssp-dccy/2023-12-13/522722/123f45ef-be7f-4f19-a7bd-cf27aea799ac.jpg\n",
      "https://sanpu.iarrp.cn/images/workpanel/photo.svg\n",
      "https://sanpu.iarrp.cn/ssp-dccy/2023-12-13/522722/648b7f36-4fd3-4437-8690-446015bb6d7e.jpg?AccessKeyId=3KTIFO8GC5N6LWASE8DQ&Expires=1709111332&x-image-process=image%2Fresize%2Cm_lfit%2Ch_500%2Cw_500&Signature=S1zTvNbsVlEBix4r3lqPonUHujk%3D\n",
      "https://sanpu.iarrp.cn/ssp-dccy/2023-12-13/522722/9c4f7803-f397-4912-b54d-fab7c1ce325b.jpg?AccessKeyId=3KTIFO8GC5N6LWASE8DQ&Expires=1709111332&x-image-process=image%2Fresize%2Cm_lfit%2Ch_500%2Cw_500&Signature=h1MyvrFFPAdGaAhNsVOaO0j6lL4%3D\n",
      "https://sanpu.iarrp.cn/ssp-dccy/2023-12-13/522722/e482b11c-aecc-4eea-b3cc-d8834de39dfe.jpg?AccessKeyId=3KTIFO8GC5N6LWASE8DQ&Expires=1709111332&x-image-process=image%2Fresize%2Cm_lfit%2Ch_500%2Cw_500&Signature=TFKshJjA6iwmtFXAapJjDCxoDl4%3D\n",
      "https://sanpu.iarrp.cn/ssp-dccy/2023-12-13/522722/2efd71c0-6825-4eb1-8c9b-e5ae8a3ef853.jpg?AccessKeyId=3KTIFO8GC5N6LWASE8DQ&Expires=1709111332&x-image-process=image%2Fresize%2Cm_lfit%2Ch_500%2Cw_500&Signature=moQFxLDcH0Kkc6oVp9v4sUEoJGk%3D\n",
      "https://sanpu.iarrp.cn/ssp-dccy/2023-12-13/522722/755e1f6d-c4e4-47d4-98ab-6a760f61deb0.jpg?AccessKeyId=3KTIFO8GC5N6LWASE8DQ&Expires=1709111332&x-image-process=image%2Fresize%2Cm_lfit%2Ch_500%2Cw_500&Signature=RpB09L7znWLqmPEvqGsKbEELzNg%3D\n",
      "https://sanpu.iarrp.cn/ssp-dccy/2023-12-13/522722/6109807c-e498-4564-a665-6e68c6a94536.jpg?AccessKeyId=3KTIFO8GC5N6LWASE8DQ&Expires=1709111332&x-image-process=image%2Fresize%2Cm_lfit%2Ch_500%2Cw_500&Signature=uLCbuse%2FCqMdFQgXm151sv19aQQ%3D\n",
      "https://sanpu.iarrp.cn/ssp-dccy/2023-12-13/522722/19e196e7-a619-4d4e-9045-b8fec8aa5c90.jpg?AccessKeyId=3KTIFO8GC5N6LWASE8DQ&Expires=1709111332&x-image-process=image%2Fresize%2Cm_lfit%2Ch_500%2Cw_500&Signature=4KccpiO%2BsUPvkdm7T81vqo684Jk%3D\n",
      "https://sanpu.iarrp.cn/ssp-dccy/2023-12-13/522722/e9397c1e-ef47-40ac-8ce5-33d5195d53e5.jpg?AccessKeyId=3KTIFO8GC5N6LWASE8DQ&Expires=1709111332&x-image-process=image%2Fresize%2Cm_lfit%2Ch_500%2Cw_500&Signature=uASIZT9iCMqxPKyA5uHe%2Fw%2FzVw8%3D\n",
      "https://sanpu.iarrp.cn/ssp-dccy/2023-12-13/522722/c6dfae99-fe0f-4a4f-be2d-19e34f6ce718.jpg?AccessKeyId=3KTIFO8GC5N6LWASE8DQ&Expires=1709111332&x-image-process=image%2Fresize%2Cm_lfit%2Ch_500%2Cw_500&Signature=wPL5WN8jNO9dbHWe4nxP5YV69gM%3D\n",
      "https://sanpu.iarrp.cn/ssp-dccy/2023-12-13/522722/ddb90f8d-e971-4426-bec7-07b187dd72f3.jpg?AccessKeyId=3KTIFO8GC5N6LWASE8DQ&Expires=1709111332&x-image-process=image%2Fresize%2Cm_lfit%2Ch_500%2Cw_500&Signature=cpQO4vdAcD5q8KB1fvNhXo2j1yo%3D\n",
      "https://sanpu.iarrp.cn/ssp-dccy/2023-12-13/522722/3c6750b1-72ae-4b93-a2cd-29d73452249e.jpg?AccessKeyId=3KTIFO8GC5N6LWASE8DQ&Expires=1709111332&x-image-process=image%2Fresize%2Cm_lfit%2Ch_500%2Cw_500&Signature=Mmhc7LcpzONEgi%2FDMIeopKy2aSQ%3D\n",
      "https://sanpu.iarrp.cn/ssp-dccy/2023-12-13/522722/e605e022-3d93-4747-bdba-5663ccf5052e.jpg?AccessKeyId=3KTIFO8GC5N6LWASE8DQ&Expires=1709111332&x-image-process=image%2Fresize%2Cm_lfit%2Ch_500%2Cw_500&Signature=Q9dZ%2BJQxJAaGIVerGj7PKhUhAYk%3D\n",
      "https://sanpu.iarrp.cn/images/workpanel/message.svg\n",
      "https://sanpu.iarrp.cn/images/workpanel/photo.svg\n",
      "https://sanpu.iarrp.cn/ssp-dccy/2023-12-13/522722/2efd71c0-6825-4eb1-8c9b-e5ae8a3ef853.jpg?AccessKeyId=3KTIFO8GC5N6LWASE8DQ&Expires=1709111332&x-image-process=image%2Fresize%2Cm_lfit%2Ch_500%2Cw_500&Signature=moQFxLDcH0Kkc6oVp9v4sUEoJGk%3D\n",
      "https://sanpu.iarrp.cn/ssp-dccy/2023-12-13/522722/648b7f36-4fd3-4437-8690-446015bb6d7e.jpg?AccessKeyId=3KTIFO8GC5N6LWASE8DQ&Expires=1709111332&x-image-process=image%2Fresize%2Cm_lfit%2Ch_500%2Cw_500&Signature=S1zTvNbsVlEBix4r3lqPonUHujk%3D\n",
      "https://sanpu.iarrp.cn/ssp-dccy/2023-12-13/522722/9c4f7803-f397-4912-b54d-fab7c1ce325b.jpg?AccessKeyId=3KTIFO8GC5N6LWASE8DQ&Expires=1709111332&x-image-process=image%2Fresize%2Cm_lfit%2Ch_500%2Cw_500&Signature=h1MyvrFFPAdGaAhNsVOaO0j6lL4%3D\n",
      "https://sanpu.iarrp.cn/ssp-dccy/2023-12-13/522722/755e1f6d-c4e4-47d4-98ab-6a760f61deb0.jpg?AccessKeyId=3KTIFO8GC5N6LWASE8DQ&Expires=1709111332&x-image-process=image%2Fresize%2Cm_lfit%2Ch_500%2Cw_500&Signature=RpB09L7znWLqmPEvqGsKbEELzNg%3D\n",
      "https://sanpu.iarrp.cn/ssp-dccy/2023-12-13/522722/6109807c-e498-4564-a665-6e68c6a94536.jpg?AccessKeyId=3KTIFO8GC5N6LWASE8DQ&Expires=1709111332&x-image-process=image%2Fresize%2Cm_lfit%2Ch_500%2Cw_500&Signature=uLCbuse%2FCqMdFQgXm151sv19aQQ%3D\n",
      "https://sanpu.iarrp.cn/ssp-dccy/2023-12-13/522722/19e196e7-a619-4d4e-9045-b8fec8aa5c90.jpg?AccessKeyId=3KTIFO8GC5N6LWASE8DQ&Expires=1709111332&x-image-process=image%2Fresize%2Cm_lfit%2Ch_500%2Cw_500&Signature=4KccpiO%2BsUPvkdm7T81vqo684Jk%3D\n",
      "https://sanpu.iarrp.cn/ssp-dccy/2023-12-13/522722/e482b11c-aecc-4eea-b3cc-d8834de39dfe.jpg?AccessKeyId=3KTIFO8GC5N6LWASE8DQ&Expires=1709111332&x-image-process=image%2Fresize%2Cm_lfit%2Ch_500%2Cw_500&Signature=TFKshJjA6iwmtFXAapJjDCxoDl4%3D\n",
      "https://sanpu.iarrp.cn/images/workpanel/location.svg\n",
      "https://sanpu.iarrp.cn/images/workpanel/pictPosition.png\n",
      "https://sanpu.iarrp.cn/images/workpanel/position4.png\n",
      "https://sanpu.iarrp.cn/images/workpanel/position3.png\n",
      "https://sanpu.iarrp.cn/images/workpanel/position2.png\n",
      "https://sanpu.iarrp.cn/images/workpanel/dataCheck.svg\n",
      "https://sanpu.iarrp.cn/images/sjzj.png\n"
     ]
    }
   ],
   "source": [
    "# 提取所有图片的src属性，即它们的链接\n",
    "image_urls = [image.get_attribute('src') for image in image_elements]\n",
    "\n",
    "# 输出图片链接\n",
    "for url in image_urls:\n",
    "    print(url)"
   ]
  },
  {
   "cell_type": "code",
   "execution_count": 67,
   "metadata": {},
   "outputs": [
    {
     "name": "stdout",
     "output_type": "stream",
     "text": [
      "{'label': '预览', 'url': 'https://sanpu.iarrp.cn/ssp-dccy/2023-12-13/522722/648b7f36-4fd3-4437-8690-446015bb6d7e.jpg?AccessKeyId=3KTIFO8GC5N6LWASE8DQ&Expires=1709114951&x-image-process=image%2Fresize%2Cm_lfit%2Ch_500%2Cw_500&Signature=qB205cT30BiTA2Oq9PVYZKs7Vuc%3D'}\n",
      "{'label': '预览', 'url': 'https://sanpu.iarrp.cn/ssp-dccy/2023-12-13/522722/9c4f7803-f397-4912-b54d-fab7c1ce325b.jpg?AccessKeyId=3KTIFO8GC5N6LWASE8DQ&Expires=1709114951&x-image-process=image%2Fresize%2Cm_lfit%2Ch_500%2Cw_500&Signature=D3d78O%2F8g8GRXrmkTdHem%2BqF69Y%3D'}\n",
      "{'label': '预览', 'url': 'https://sanpu.iarrp.cn/ssp-dccy/2023-12-13/522722/e482b11c-aecc-4eea-b3cc-d8834de39dfe.jpg?AccessKeyId=3KTIFO8GC5N6LWASE8DQ&Expires=1709114951&x-image-process=image%2Fresize%2Cm_lfit%2Ch_500%2Cw_500&Signature=sojnicXUU8Y25b4fg1d5LGOhQkc%3D'}\n",
      "{'label': '预览', 'url': 'https://sanpu.iarrp.cn/ssp-dccy/2023-12-13/522722/2efd71c0-6825-4eb1-8c9b-e5ae8a3ef853.jpg?AccessKeyId=3KTIFO8GC5N6LWASE8DQ&Expires=1709114951&x-image-process=image%2Fresize%2Cm_lfit%2Ch_500%2Cw_500&Signature=6BlyB7QDTJTW7Q8iB7Gm6zTR6%2Bc%3D'}\n",
      "{'label': '预览', 'url': 'https://sanpu.iarrp.cn/ssp-dccy/2023-12-13/522722/755e1f6d-c4e4-47d4-98ab-6a760f61deb0.jpg?AccessKeyId=3KTIFO8GC5N6LWASE8DQ&Expires=1709114951&x-image-process=image%2Fresize%2Cm_lfit%2Ch_500%2Cw_500&Signature=Jsd%2F%2FMMJxc38Jprd%2BGAyCLzLhKw%3D'}\n",
      "{'label': '预览', 'url': 'https://sanpu.iarrp.cn/ssp-dccy/2023-12-13/522722/6109807c-e498-4564-a665-6e68c6a94536.jpg?AccessKeyId=3KTIFO8GC5N6LWASE8DQ&Expires=1709114951&x-image-process=image%2Fresize%2Cm_lfit%2Ch_500%2Cw_500&Signature=Eqh5ci1%2FOhCEVkT2DBmes2S6FMw%3D'}\n",
      "{'label': '预览', 'url': 'https://sanpu.iarrp.cn/ssp-dccy/2023-12-13/522722/19e196e7-a619-4d4e-9045-b8fec8aa5c90.jpg?AccessKeyId=3KTIFO8GC5N6LWASE8DQ&Expires=1709114951&x-image-process=image%2Fresize%2Cm_lfit%2Ch_500%2Cw_500&Signature=0ttiSBDGdfucRyDrXfhE98%2FukSk%3D'}\n",
      "{'label': '预览', 'url': 'https://sanpu.iarrp.cn/ssp-dccy/2023-12-13/522722/e9397c1e-ef47-40ac-8ce5-33d5195d53e5.jpg?AccessKeyId=3KTIFO8GC5N6LWASE8DQ&Expires=1709114951&x-image-process=image%2Fresize%2Cm_lfit%2Ch_500%2Cw_500&Signature=iAAUhXnkBH4jVirFXfzGLwriY8E%3D'}\n",
      "{'label': '预览', 'url': 'https://sanpu.iarrp.cn/ssp-dccy/2023-12-13/522722/c6dfae99-fe0f-4a4f-be2d-19e34f6ce718.jpg?AccessKeyId=3KTIFO8GC5N6LWASE8DQ&Expires=1709114951&x-image-process=image%2Fresize%2Cm_lfit%2Ch_500%2Cw_500&Signature=7y3syAFtizcDsvo%2Fc2QhH7CCdLE%3D'}\n",
      "{'label': '预览', 'url': 'https://sanpu.iarrp.cn/ssp-dccy/2023-12-13/522722/ddb90f8d-e971-4426-bec7-07b187dd72f3.jpg?AccessKeyId=3KTIFO8GC5N6LWASE8DQ&Expires=1709114951&x-image-process=image%2Fresize%2Cm_lfit%2Ch_500%2Cw_500&Signature=GHRE2LP%2BfOLYkUSozfhc2kgkuo0%3D'}\n",
      "{'label': '预览', 'url': 'https://sanpu.iarrp.cn/ssp-dccy/2023-12-13/522722/3c6750b1-72ae-4b93-a2cd-29d73452249e.jpg?AccessKeyId=3KTIFO8GC5N6LWASE8DQ&Expires=1709114951&x-image-process=image%2Fresize%2Cm_lfit%2Ch_500%2Cw_500&Signature=Ty%2BIPdNZEPcJ%2BlKRvCLeu8zPDw0%3D'}\n",
      "{'label': '预览', 'url': 'https://sanpu.iarrp.cn/ssp-dccy/2023-12-13/522722/e605e022-3d93-4747-bdba-5663ccf5052e.jpg?AccessKeyId=3KTIFO8GC5N6LWASE8DQ&Expires=1709114951&x-image-process=image%2Fresize%2Cm_lfit%2Ch_500%2Cw_500&Signature=Lj%2B3W1VFceItnBtlvdV2XeaNQek%3D'}\n",
      "{'label': '预览', 'url': 'https://sanpu.iarrp.cn/ssp-dccy/2023-12-13/522722/6e6f4b15-8f35-4b56-a1b9-ecf8826a4431.jpg?AccessKeyId=3KTIFO8GC5N6LWASE8DQ&Expires=1709115016&x-image-process=image%2Fresize%2Cm_lfit%2Ch_500%2Cw_500&Signature=pRKwrcARizottIegwQFz2XdUes0%3D'}\n"
     ]
    }
   ],
   "source": [
    "images_info = driver.execute_script(\"\"\"\n",
    "    var images = [];\n",
    "    var imageElements = document.querySelectorAll('div.card-box div.ant-image img');\n",
    "    imageElements.forEach(function(img) {\n",
    "        var labelElement = img.nextElementSibling;\n",
    "        var label = labelElement ? labelElement.innerText : '';\n",
    "        images.push({'url': img.src, 'label': label});\n",
    "    });\n",
    "    return images;\n",
    "\"\"\")\n",
    "for info in images_info:\n",
    "    print(info)\n"
   ]
  },
  {
   "cell_type": "code",
   "execution_count": 66,
   "metadata": {},
   "outputs": [
    {
     "name": "stdout",
     "output_type": "stream",
     "text": [
      "{'url': 'https://sanpu.iarrp.cn:443/ssp-dccy/2023-12-13/522722/648b7f36-4fd3-4437-8690-446015bb6d7e.jpg?AccessKeyId=3KTIFO8GC5N6LWASE8DQ&amp;Expires=1709114951&amp;x-image-process=image%2Fresize%2Cm_lfit%2Ch_500%2Cw_500&amp;Signature=qB205cT30BiTA2Oq9PVYZKs7Vuc%3D', 'label': '景观照片-东'}\n",
      "{'url': 'https://sanpu.iarrp.cn:443/ssp-dccy/2023-12-13/522722/9c4f7803-f397-4912-b54d-fab7c1ce325b.jpg?AccessKeyId=3KTIFO8GC5N6LWASE8DQ&amp;Expires=1709114951&amp;x-image-process=image%2Fresize%2Cm_lfit%2Ch_500%2Cw_500&amp;Signature=D3d78O%2F8g8GRXrmkTdHem%2BqF69Y%3D', 'label': '景观照片-南'}\n",
      "{'url': 'https://sanpu.iarrp.cn:443/ssp-dccy/2023-12-13/522722/e482b11c-aecc-4eea-b3cc-d8834de39dfe.jpg?AccessKeyId=3KTIFO8GC5N6LWASE8DQ&amp;Expires=1709114951&amp;x-image-process=image%2Fresize%2Cm_lfit%2Ch_500%2Cw_500&amp;Signature=sojnicXUU8Y25b4fg1d5LGOhQkc%3D', 'label': '景观照片-西'}\n",
      "{'url': 'https://sanpu.iarrp.cn:443/ssp-dccy/2023-12-13/522722/2efd71c0-6825-4eb1-8c9b-e5ae8a3ef853.jpg?AccessKeyId=3KTIFO8GC5N6LWASE8DQ&amp;Expires=1709114951&amp;x-image-process=image%2Fresize%2Cm_lfit%2Ch_500%2Cw_500&amp;Signature=6BlyB7QDTJTW7Q8iB7Gm6zTR6%2Bc%3D', 'label': '景观照片-北'}\n",
      "{'url': 'https://sanpu.iarrp.cn:443/ssp-dccy/2023-12-13/522722/755e1f6d-c4e4-47d4-98ab-6a760f61deb0.jpg?AccessKeyId=3KTIFO8GC5N6LWASE8DQ&amp;Expires=1709114951&amp;x-image-process=image%2Fresize%2Cm_lfit%2Ch_500%2Cw_500&amp;Signature=Jsd%2F%2FMMJxc38Jprd%2BGAyCLzLhKw%3D', 'label': '景观照片-其他'}\n",
      "{'url': 'https://sanpu.iarrp.cn:443/ssp-dccy/2023-12-13/522722/6109807c-e498-4564-a665-6e68c6a94536.jpg?AccessKeyId=3KTIFO8GC5N6LWASE8DQ&amp;Expires=1709114951&amp;x-image-process=image%2Fresize%2Cm_lfit%2Ch_500%2Cw_500&amp;Signature=Eqh5ci1%2FOhCEVkT2DBmes2S6FMw%3D', 'label': '景观照片-其他'}\n",
      "{'url': 'https://sanpu.iarrp.cn:443/ssp-dccy/2023-12-13/522722/19e196e7-a619-4d4e-9045-b8fec8aa5c90.jpg?AccessKeyId=3KTIFO8GC5N6LWASE8DQ&amp;Expires=1709114951&amp;x-image-process=image%2Fresize%2Cm_lfit%2Ch_500%2Cw_500&amp;Signature=0ttiSBDGdfucRyDrXfhE98%2FukSk%3D', 'label': '景观照片-其他'}\n"
     ]
    }
   ],
   "source": [
    "import re\n",
    "html_source = driver.page_source\n",
    "pattern = re.compile(r'<div class=\"ant-image\"[^>]*><img[^>]+src=\"([^\"]+)\"[^>]*>.*?<div class=\"img-text\"[^>]*>([^<]+)</div>', re.DOTALL)\n",
    "matches = pattern.findall(html_source)\n",
    "for match in matches:\n",
    "    print({'url': match[0], 'label': match[1]})\n"
   ]
  },
  {
   "cell_type": "code",
   "execution_count": 79,
   "metadata": {},
   "outputs": [
    {
     "name": "stdout",
     "output_type": "stream",
     "text": [
      "{'url': 'https://sanpu.iarrp.cn/ssp-dccy/2023-12-13/522722/648b7f36-4fd3-4437-8690-446015bb6d7e.jpg?AccessKeyId=3KTIFO8GC5N6LWASE8DQ&Expires=1709114951&x-image-process=image%2Fresize%2Cm_lfit%2Ch_500%2Cw_500&Signature=qB205cT30BiTA2Oq9PVYZKs7Vuc%3D', 'label': {'type': '景观照片-北', 'angle': '358°（北）', 'time': '2023-12-13 11:43:17'}}\n",
      "{'url': 'https://sanpu.iarrp.cn/ssp-dccy/2023-12-13/522722/648b7f36-4fd3-4437-8690-446015bb6d7e.jpg?AccessKeyId=3KTIFO8GC5N6LWASE8DQ&Expires=1709114951&x-image-process=image%2Fresize%2Cm_lfit%2Ch_500%2Cw_500&Signature=qB205cT30BiTA2Oq9PVYZKs7Vuc%3D', 'label': {'type': '景观照片-东', 'angle': '92°（东）', 'time': '2023-12-13 11:45:56'}}\n",
      "{'url': 'https://sanpu.iarrp.cn/ssp-dccy/2023-12-13/522722/648b7f36-4fd3-4437-8690-446015bb6d7e.jpg?AccessKeyId=3KTIFO8GC5N6LWASE8DQ&Expires=1709114951&x-image-process=image%2Fresize%2Cm_lfit%2Ch_500%2Cw_500&Signature=qB205cT30BiTA2Oq9PVYZKs7Vuc%3D', 'label': {'type': '景观照片-南', 'angle': '183°（南）', 'time': '2023-12-13 11:44:36'}}\n",
      "{'url': 'https://sanpu.iarrp.cn/ssp-dccy/2023-12-13/522722/648b7f36-4fd3-4437-8690-446015bb6d7e.jpg?AccessKeyId=3KTIFO8GC5N6LWASE8DQ&Expires=1709114951&x-image-process=image%2Fresize%2Cm_lfit%2Ch_500%2Cw_500&Signature=qB205cT30BiTA2Oq9PVYZKs7Vuc%3D', 'label': {'type': '景观照片-其他', 'angle': '228°（西南）', 'time': '2023-12-13 11:45:08'}}\n",
      "{'url': 'https://sanpu.iarrp.cn/ssp-dccy/2023-12-13/522722/648b7f36-4fd3-4437-8690-446015bb6d7e.jpg?AccessKeyId=3KTIFO8GC5N6LWASE8DQ&Expires=1709114951&x-image-process=image%2Fresize%2Cm_lfit%2Ch_500%2Cw_500&Signature=qB205cT30BiTA2Oq9PVYZKs7Vuc%3D', 'label': {'type': '景观照片-其他', 'angle': '42°（东北）', 'time': '2023-12-13 11:46:32'}}\n",
      "{'url': 'https://sanpu.iarrp.cn/ssp-dccy/2023-12-13/522722/648b7f36-4fd3-4437-8690-446015bb6d7e.jpg?AccessKeyId=3KTIFO8GC5N6LWASE8DQ&Expires=1709114951&x-image-process=image%2Fresize%2Cm_lfit%2Ch_500%2Cw_500&Signature=qB205cT30BiTA2Oq9PVYZKs7Vuc%3D', 'label': {'type': '景观照片-其他', 'angle': '23°（东北）', 'time': '2023-12-13 11:49:57'}}\n",
      "{'url': 'https://sanpu.iarrp.cn/ssp-dccy/2023-12-13/522722/648b7f36-4fd3-4437-8690-446015bb6d7e.jpg?AccessKeyId=3KTIFO8GC5N6LWASE8DQ&Expires=1709114951&x-image-process=image%2Fresize%2Cm_lfit%2Ch_500%2Cw_500&Signature=qB205cT30BiTA2Oq9PVYZKs7Vuc%3D', 'label': {'type': '景观照片-西', 'angle': '273°（西）', 'time': '2023-12-13 11:43:45'}}\n",
      "{'url': 'https://sanpu.iarrp.cn/ssp-dccy/2023-12-13/522722/648b7f36-4fd3-4437-8690-446015bb6d7e.jpg?AccessKeyId=3KTIFO8GC5N6LWASE8DQ&Expires=1709114951&x-image-process=image%2Fresize%2Cm_lfit%2Ch_500%2Cw_500&Signature=qB205cT30BiTA2Oq9PVYZKs7Vuc%3D', 'label': {'type': '景观照片-西', 'angle': '273°（西）', 'time': '2023-12-13 11:43:45'}}\n",
      "{'url': 'https://sanpu.iarrp.cn/ssp-dccy/2023-12-13/522722/648b7f36-4fd3-4437-8690-446015bb6d7e.jpg?AccessKeyId=3KTIFO8GC5N6LWASE8DQ&Expires=1709114951&x-image-process=image%2Fresize%2Cm_lfit%2Ch_500%2Cw_500&Signature=qB205cT30BiTA2Oq9PVYZKs7Vuc%3D', 'label': {'type': '景观照片-西', 'angle': '273°（西）', 'time': '2023-12-13 11:43:45'}}\n",
      "{'url': 'https://sanpu.iarrp.cn/ssp-dccy/2023-12-13/522722/648b7f36-4fd3-4437-8690-446015bb6d7e.jpg?AccessKeyId=3KTIFO8GC5N6LWASE8DQ&Expires=1709114951&x-image-process=image%2Fresize%2Cm_lfit%2Ch_500%2Cw_500&Signature=qB205cT30BiTA2Oq9PVYZKs7Vuc%3D', 'label': {'type': '景观照片-西', 'angle': '273°（西）', 'time': '2023-12-13 11:43:45'}}\n",
      "{'url': 'https://sanpu.iarrp.cn/ssp-dccy/2023-12-13/522722/648b7f36-4fd3-4437-8690-446015bb6d7e.jpg?AccessKeyId=3KTIFO8GC5N6LWASE8DQ&Expires=1709114951&x-image-process=image%2Fresize%2Cm_lfit%2Ch_500%2Cw_500&Signature=qB205cT30BiTA2Oq9PVYZKs7Vuc%3D', 'label': {'type': '景观照片-西', 'angle': '273°（西）', 'time': '2023-12-13 11:43:45'}}\n",
      "{'url': 'https://sanpu.iarrp.cn/ssp-dccy/2023-12-13/522722/648b7f36-4fd3-4437-8690-446015bb6d7e.jpg?AccessKeyId=3KTIFO8GC5N6LWASE8DQ&Expires=1709114951&x-image-process=image%2Fresize%2Cm_lfit%2Ch_500%2Cw_500&Signature=qB205cT30BiTA2Oq9PVYZKs7Vuc%3D', 'label': {'type': '景观照片-西', 'angle': '273°（西）', 'time': '2023-12-13 11:43:45'}}\n",
      "{'url': 'https://sanpu.iarrp.cn/ssp-dccy/2023-12-13/522722/648b7f36-4fd3-4437-8690-446015bb6d7e.jpg?AccessKeyId=3KTIFO8GC5N6LWASE8DQ&Expires=1709114951&x-image-process=image%2Fresize%2Cm_lfit%2Ch_500%2Cw_500&Signature=qB205cT30BiTA2Oq9PVYZKs7Vuc%3D', 'label': {'type': '景观照片-西', 'angle': '273°（西）', 'time': '2023-12-13 11:43:45'}}\n",
      "{'url': 'https://sanpu.iarrp.cn/ssp-dccy/2023-12-13/522722/648b7f36-4fd3-4437-8690-446015bb6d7e.jpg?AccessKeyId=3KTIFO8GC5N6LWASE8DQ&Expires=1709114951&x-image-process=image%2Fresize%2Cm_lfit%2Ch_500%2Cw_500&Signature=qB205cT30BiTA2Oq9PVYZKs7Vuc%3D', 'label': {'type': '景观照片-西', 'angle': '273°（西）', 'time': '2023-12-13 11:43:45'}}\n",
      "{'url': 'https://sanpu.iarrp.cn/ssp-dccy/2023-12-13/522722/648b7f36-4fd3-4437-8690-446015bb6d7e.jpg?AccessKeyId=3KTIFO8GC5N6LWASE8DQ&Expires=1709114951&x-image-process=image%2Fresize%2Cm_lfit%2Ch_500%2Cw_500&Signature=qB205cT30BiTA2Oq9PVYZKs7Vuc%3D', 'label': {'type': '景观照片-西', 'angle': '273°（西）', 'time': '2023-12-13 11:43:45'}}\n",
      "{'url': 'https://sanpu.iarrp.cn/ssp-dccy/2023-12-13/522722/648b7f36-4fd3-4437-8690-446015bb6d7e.jpg?AccessKeyId=3KTIFO8GC5N6LWASE8DQ&Expires=1709114951&x-image-process=image%2Fresize%2Cm_lfit%2Ch_500%2Cw_500&Signature=qB205cT30BiTA2Oq9PVYZKs7Vuc%3D', 'label': {'type': '景观照片-西', 'angle': '273°（西）', 'time': '2023-12-13 11:43:45'}}\n",
      "{'url': 'https://sanpu.iarrp.cn/ssp-dccy/2023-12-13/522722/648b7f36-4fd3-4437-8690-446015bb6d7e.jpg?AccessKeyId=3KTIFO8GC5N6LWASE8DQ&Expires=1709114951&x-image-process=image%2Fresize%2Cm_lfit%2Ch_500%2Cw_500&Signature=qB205cT30BiTA2Oq9PVYZKs7Vuc%3D', 'label': {'type': '景观照片-西', 'angle': '273°（西）', 'time': '2023-12-13 11:43:45'}}\n",
      "{'url': 'https://sanpu.iarrp.cn/ssp-dccy/2023-12-13/522722/648b7f36-4fd3-4437-8690-446015bb6d7e.jpg?AccessKeyId=3KTIFO8GC5N6LWASE8DQ&Expires=1709114951&x-image-process=image%2Fresize%2Cm_lfit%2Ch_500%2Cw_500&Signature=qB205cT30BiTA2Oq9PVYZKs7Vuc%3D', 'label': {'type': '景观照片-西', 'angle': '273°（西）', 'time': '2023-12-13 11:43:45'}}\n",
      "{'url': 'https://sanpu.iarrp.cn/ssp-dccy/2023-12-13/522722/648b7f36-4fd3-4437-8690-446015bb6d7e.jpg?AccessKeyId=3KTIFO8GC5N6LWASE8DQ&Expires=1709114951&x-image-process=image%2Fresize%2Cm_lfit%2Ch_500%2Cw_500&Signature=qB205cT30BiTA2Oq9PVYZKs7Vuc%3D', 'label': {'type': '景观照片-西', 'angle': '273°（西）', 'time': '2023-12-13 11:43:45'}}\n"
     ]
    }
   ],
   "source": [
    "\n",
    "# 获取“下一张”按钮\n",
    "next_button = driver.find_element(By.CSS_SELECTOR, 'div.swiper-button-next')\n",
    "\n",
    "images_info = []\n",
    "num_images = len(driver.find_elements(By.CSS_SELECTOR, 'div.card-box div.ant-image img'))\n",
    "\n",
    "# 遍历图片集合\n",
    "for _ in range(num_images):\n",
    "    # 等待图片和标签信息更新\n",
    "    # time.sleep(1)  # 根据实际情况调整等待时间\n",
    "\n",
    "    # 获取当前显示的图片URL和标签信息\n",
    "    img = driver.find_element(By.CSS_SELECTOR, 'div.card-box div.ant-image img')\n",
    "    labelDiv = driver.find_element(By.CSS_SELECTOR, \"div.green-area\")\n",
    "    labelType = labelDiv.find_element(By.CSS_SELECTOR, \"div.photo > div:first-child\").text.replace('照片类型: ', '').strip()\n",
    "    labelAngle = labelDiv.find_element(By.CSS_SELECTOR, \"div.photo > div:last-child\").text.replace('拍摄角度: ', '').strip()\n",
    "    labelTime = labelDiv.find_element(By.CSS_SELECTOR, \".time-area\").text.replace('拍摄时间: ', '').strip()\n",
    "\n",
    "    images_info.append({\n",
    "        'url': img.get_attribute('src'),\n",
    "        'label': {'type': labelType, 'angle': labelAngle, 'time': labelTime}\n",
    "    })\n",
    "\n",
    "    # 点击“下一张”按钮\n",
    "    try:\n",
    "        next_button.click()\n",
    "    except:\n",
    "        pass\n",
    "\n",
    "# 输出获取到的图片信息\n",
    "for info in images_info:\n",
    "    print(info)"
   ]
  },
  {
   "cell_type": "code",
   "execution_count": 72,
   "metadata": {},
   "outputs": [],
   "source": [
    "images_info = []\n",
    "num_images = driver.find_elements(By.CSS_SELECTOR, 'div.card-box div.ant-image img')"
   ]
  },
  {
   "cell_type": "code",
   "execution_count": 73,
   "metadata": {},
   "outputs": [
    {
     "data": {
      "text/plain": [
       "[<selenium.webdriver.remote.webelement.WebElement (session=\"9897702d556fa23ea601795f50d257c3\", element=\"f.77AB10D290551153FEA3F1C9C4B9B3A5.d.352B1B3355F25C745E5B21702E11EDFA.e.13209\")>,\n",
       " <selenium.webdriver.remote.webelement.WebElement (session=\"9897702d556fa23ea601795f50d257c3\", element=\"f.77AB10D290551153FEA3F1C9C4B9B3A5.d.352B1B3355F25C745E5B21702E11EDFA.e.13210\")>,\n",
       " <selenium.webdriver.remote.webelement.WebElement (session=\"9897702d556fa23ea601795f50d257c3\", element=\"f.77AB10D290551153FEA3F1C9C4B9B3A5.d.352B1B3355F25C745E5B21702E11EDFA.e.13211\")>,\n",
       " <selenium.webdriver.remote.webelement.WebElement (session=\"9897702d556fa23ea601795f50d257c3\", element=\"f.77AB10D290551153FEA3F1C9C4B9B3A5.d.352B1B3355F25C745E5B21702E11EDFA.e.13212\")>,\n",
       " <selenium.webdriver.remote.webelement.WebElement (session=\"9897702d556fa23ea601795f50d257c3\", element=\"f.77AB10D290551153FEA3F1C9C4B9B3A5.d.352B1B3355F25C745E5B21702E11EDFA.e.13213\")>,\n",
       " <selenium.webdriver.remote.webelement.WebElement (session=\"9897702d556fa23ea601795f50d257c3\", element=\"f.77AB10D290551153FEA3F1C9C4B9B3A5.d.352B1B3355F25C745E5B21702E11EDFA.e.13214\")>,\n",
       " <selenium.webdriver.remote.webelement.WebElement (session=\"9897702d556fa23ea601795f50d257c3\", element=\"f.77AB10D290551153FEA3F1C9C4B9B3A5.d.352B1B3355F25C745E5B21702E11EDFA.e.13215\")>,\n",
       " <selenium.webdriver.remote.webelement.WebElement (session=\"9897702d556fa23ea601795f50d257c3\", element=\"f.77AB10D290551153FEA3F1C9C4B9B3A5.d.352B1B3355F25C745E5B21702E11EDFA.e.13216\")>,\n",
       " <selenium.webdriver.remote.webelement.WebElement (session=\"9897702d556fa23ea601795f50d257c3\", element=\"f.77AB10D290551153FEA3F1C9C4B9B3A5.d.352B1B3355F25C745E5B21702E11EDFA.e.13217\")>,\n",
       " <selenium.webdriver.remote.webelement.WebElement (session=\"9897702d556fa23ea601795f50d257c3\", element=\"f.77AB10D290551153FEA3F1C9C4B9B3A5.d.352B1B3355F25C745E5B21702E11EDFA.e.13218\")>,\n",
       " <selenium.webdriver.remote.webelement.WebElement (session=\"9897702d556fa23ea601795f50d257c3\", element=\"f.77AB10D290551153FEA3F1C9C4B9B3A5.d.352B1B3355F25C745E5B21702E11EDFA.e.13219\")>,\n",
       " <selenium.webdriver.remote.webelement.WebElement (session=\"9897702d556fa23ea601795f50d257c3\", element=\"f.77AB10D290551153FEA3F1C9C4B9B3A5.d.352B1B3355F25C745E5B21702E11EDFA.e.13267\")>,\n",
       " <selenium.webdriver.remote.webelement.WebElement (session=\"9897702d556fa23ea601795f50d257c3\", element=\"f.77AB10D290551153FEA3F1C9C4B9B3A5.d.352B1B3355F25C745E5B21702E11EDFA.e.13298\")>,\n",
       " <selenium.webdriver.remote.webelement.WebElement (session=\"9897702d556fa23ea601795f50d257c3\", element=\"f.77AB10D290551153FEA3F1C9C4B9B3A5.d.352B1B3355F25C745E5B21702E11EDFA.e.13301\")>,\n",
       " <selenium.webdriver.remote.webelement.WebElement (session=\"9897702d556fa23ea601795f50d257c3\", element=\"f.77AB10D290551153FEA3F1C9C4B9B3A5.d.352B1B3355F25C745E5B21702E11EDFA.e.13303\")>,\n",
       " <selenium.webdriver.remote.webelement.WebElement (session=\"9897702d556fa23ea601795f50d257c3\", element=\"f.77AB10D290551153FEA3F1C9C4B9B3A5.d.352B1B3355F25C745E5B21702E11EDFA.e.13305\")>,\n",
       " <selenium.webdriver.remote.webelement.WebElement (session=\"9897702d556fa23ea601795f50d257c3\", element=\"f.77AB10D290551153FEA3F1C9C4B9B3A5.d.352B1B3355F25C745E5B21702E11EDFA.e.13307\")>,\n",
       " <selenium.webdriver.remote.webelement.WebElement (session=\"9897702d556fa23ea601795f50d257c3\", element=\"f.77AB10D290551153FEA3F1C9C4B9B3A5.d.352B1B3355F25C745E5B21702E11EDFA.e.13309\")>]"
      ]
     },
     "execution_count": 73,
     "metadata": {},
     "output_type": "execute_result"
    }
   ],
   "source": [
    "num_images"
   ]
  },
  {
   "cell_type": "code",
   "execution_count": 23,
   "metadata": {},
   "outputs": [
    {
     "ename": "TimeoutException",
     "evalue": "Message: \n",
     "output_type": "error",
     "traceback": [
      "\u001b[1;31m---------------------------------------------------------------------------\u001b[0m",
      "\u001b[1;31mTimeoutException\u001b[0m                          Traceback (most recent call last)",
      "Cell \u001b[1;32mIn[23], line 2\u001b[0m\n\u001b[0;32m      1\u001b[0m \u001b[38;5;66;03m# 等待并点击下拉选择的触发器以展开选项列表\u001b[39;00m\n\u001b[1;32m----> 2\u001b[0m dropdown_trigger \u001b[38;5;241m=\u001b[39m \u001b[43mWebDriverWait\u001b[49m\u001b[43m(\u001b[49m\u001b[43mdriver\u001b[49m\u001b[43m,\u001b[49m\u001b[43m \u001b[49m\u001b[38;5;241;43m10\u001b[39;49m\u001b[43m)\u001b[49m\u001b[38;5;241;43m.\u001b[39;49m\u001b[43muntil\u001b[49m\u001b[43m(\u001b[49m\n\u001b[0;32m      3\u001b[0m \u001b[43m    \u001b[49m\u001b[43mEC\u001b[49m\u001b[38;5;241;43m.\u001b[39;49m\u001b[43melement_to_be_clickable\u001b[49m\u001b[43m(\u001b[49m\u001b[43m(\u001b[49m\u001b[43mBy\u001b[49m\u001b[38;5;241;43m.\u001b[39;49m\u001b[43mCSS_SELECTOR\u001b[49m\u001b[43m,\u001b[49m\u001b[43m \u001b[49m\u001b[38;5;124;43m'\u001b[39;49m\u001b[38;5;124;43mdiv.ant-select-selector\u001b[39;49m\u001b[38;5;124;43m'\u001b[39;49m\u001b[43m)\u001b[49m\u001b[43m)\u001b[49m\n\u001b[0;32m      4\u001b[0m \u001b[43m)\u001b[49m\n\u001b[0;32m      5\u001b[0m dropdown_trigger\u001b[38;5;241m.\u001b[39mclick()\n\u001b[0;32m      7\u001b[0m \u001b[38;5;66;03m# 增加一些等待时间，确保下拉列表的选项加载完成\u001b[39;00m\n\u001b[0;32m      8\u001b[0m \n\u001b[0;32m      9\u001b[0m \u001b[38;5;66;03m# 等待并定位到特定的选项（例如“混合点照片”）\u001b[39;00m\n",
      "File \u001b[1;32md:\\worker_code\\spiderdir\\spiderenv\\lib\\site-packages\\selenium\\webdriver\\support\\wait.py:105\u001b[0m, in \u001b[0;36mWebDriverWait.until\u001b[1;34m(self, method, message)\u001b[0m\n\u001b[0;32m    103\u001b[0m     \u001b[38;5;28;01mif\u001b[39;00m time\u001b[38;5;241m.\u001b[39mmonotonic() \u001b[38;5;241m>\u001b[39m end_time:\n\u001b[0;32m    104\u001b[0m         \u001b[38;5;28;01mbreak\u001b[39;00m\n\u001b[1;32m--> 105\u001b[0m \u001b[38;5;28;01mraise\u001b[39;00m TimeoutException(message, screen, stacktrace)\n",
      "\u001b[1;31mTimeoutException\u001b[0m: Message: \n"
     ]
    }
   ],
   "source": [
    "\n",
    "# 等待并点击下拉选择的触发器以展开选项列表\n",
    "dropdown_trigger = WebDriverWait(driver, 10).until(\n",
    "    EC.element_to_be_clickable((By.CSS_SELECTOR, 'div.ant-select-selector'))\n",
    ")\n",
    "dropdown_trigger.click()\n",
    "\n",
    "# 增加一些等待时间，确保下拉列表的选项加载完成\n",
    "\n",
    "# 等待并定位到特定的选项（例如“混合点照片”）\n",
    "option_to_select = WebDriverWait(driver, 10).until(\n",
    "    EC.visibility_of_element_located((By.XPATH, \"//div[contains(@class, 'ant-select-item-option-content') and contains(text(), '混样点照片')]\"))\n",
    ")\n",
    "option_to_select.click()\n"
   ]
  },
  {
   "cell_type": "code",
   "execution_count": null,
   "metadata": {},
   "outputs": [],
   "source": [
    "\n",
    "# 定位所有包含文本的元素\n",
    "text_elements = driver.find_elements(By.XPATH, '//*[text()]')\n",
    "\n",
    "# # 提取并打印每个元素的文本\n",
    "for element in text_elements:\n",
    "    print(element.text)"
   ]
  },
  {
   "cell_type": "code",
   "execution_count": null,
   "metadata": {},
   "outputs": [],
   "source": [
    "sections = driver.find_elements(By.CSS_SELECTOR, '.ldtj-content')\n",
    "\n",
    "for section in sections:\n",
    "    # 获取当前部分的所有子元素，这些子元素包含了我们需要的信息\n",
    "    items = section.find_elements(By.XPATH, './*')\n",
    "    for item in items:\n",
    "        # 假设键（例如“天气:”）在<span class=\"gray-color\">里，而值紧跟在<span>后面\n",
    "        key = item.find_element(By.CSS_SELECTOR, 'span.gray-color').text\n",
    "        # 获取整个item的文本，这将包含键和值\n",
    "        full_text = item.text\n",
    "        # 值是全文本去掉键的部分\n",
    "        value = full_text.replace(key, '').strip()\n",
    "        print(f'{key} {value}')"
   ]
  },
  {
   "cell_type": "code",
   "execution_count": 104,
   "metadata": {},
   "outputs": [],
   "source": [
    "# 下拉选择对应元素图片\n",
    "def select_element_image(driver, element_name):\n",
    "\n",
    "    # 定位\n",
    "    span_element = driver.find_element(By.XPATH, \"//div[@class='ant-select select-width ant-select-single ant-select-allow-clear ant-select-show-arrow']\")\n",
    "    span_element.click()\n",
    "    # 选择对应标签\n",
    "    option = driver.find_element(By.XPATH,f'//div[@title=\"{element_name}\"]')\n",
    "    option.click()\n",
    "        # 点击清空\n",
    "    body = driver.find_element(By.TAG_NAME, 'body')\n",
    "    body.click()\n",
    "    body.click()\n"
   ]
  },
  {
   "cell_type": "code",
   "execution_count": 105,
   "metadata": {},
   "outputs": [],
   "source": [
    "select_element_image(driver, \"景观照片\")"
   ]
  },
  {
   "cell_type": "code",
   "execution_count": 65,
   "metadata": {},
   "outputs": [],
   "source": [
    "\n",
    "\n",
    "# 创建ActionChains对象\n",
    "actions = ActionChains(driver)\n",
    "\n",
    "# 移动到一个相对安全的位置并点击\n",
    "# actions.move_by_offset(10, 10).click().perform()\n",
    "actions.click().perform()\n"
   ]
  },
  {
   "cell_type": "code",
   "execution_count": 81,
   "metadata": {},
   "outputs": [
    {
     "name": "stdout",
     "output_type": "stream",
     "text": [
      "Image SRC: https://sanpu.iarrp.cn/images/workpanel/photo.svg, ALT: \n",
      "Image SRC: https://sanpu.iarrp.cn/ssp-dccy/2023-12-13/522722/2efd71c0-6825-4eb1-8c9b-e5ae8a3ef853.jpg?AccessKeyId=3KTIFO8GC5N6LWASE8DQ&Expires=1709116646&x-image-process=image%2Fresize%2Cm_lfit%2Ch_500%2Cw_500&Signature=a5%2BjB%2B8jcJ6z7bciIk7PsKpn8Lc%3D, ALT: \n",
      "Image SRC: https://sanpu.iarrp.cn/ssp-dccy/2023-12-13/522722/648b7f36-4fd3-4437-8690-446015bb6d7e.jpg?AccessKeyId=3KTIFO8GC5N6LWASE8DQ&Expires=1709116646&x-image-process=image%2Fresize%2Cm_lfit%2Ch_500%2Cw_500&Signature=HMQT9%2BK1WsAUuo%2B90lvd9CWfjmg%3D, ALT: \n",
      "Image SRC: https://sanpu.iarrp.cn/ssp-dccy/2023-12-13/522722/9c4f7803-f397-4912-b54d-fab7c1ce325b.jpg?AccessKeyId=3KTIFO8GC5N6LWASE8DQ&Expires=1709116646&x-image-process=image%2Fresize%2Cm_lfit%2Ch_500%2Cw_500&Signature=096lzdordDsmAi9WTasFYuigZn0%3D, ALT: \n",
      "Image SRC: https://sanpu.iarrp.cn/ssp-dccy/2023-12-13/522722/755e1f6d-c4e4-47d4-98ab-6a760f61deb0.jpg?AccessKeyId=3KTIFO8GC5N6LWASE8DQ&Expires=1709116646&x-image-process=image%2Fresize%2Cm_lfit%2Ch_500%2Cw_500&Signature=HwDQmSwf8a9DyxUANEpkeqMJ4LE%3D, ALT: \n",
      "Image SRC: https://sanpu.iarrp.cn/ssp-dccy/2023-12-13/522722/6109807c-e498-4564-a665-6e68c6a94536.jpg?AccessKeyId=3KTIFO8GC5N6LWASE8DQ&Expires=1709116646&x-image-process=image%2Fresize%2Cm_lfit%2Ch_500%2Cw_500&Signature=ab9LVJGETl5M2MyhuhUHVWwxlUQ%3D, ALT: \n",
      "Image SRC: https://sanpu.iarrp.cn/ssp-dccy/2023-12-13/522722/19e196e7-a619-4d4e-9045-b8fec8aa5c90.jpg?AccessKeyId=3KTIFO8GC5N6LWASE8DQ&Expires=1709116646&x-image-process=image%2Fresize%2Cm_lfit%2Ch_500%2Cw_500&Signature=wdg9nhT17d6hwf0ow39zIIsg%2Buw%3D, ALT: \n",
      "Image SRC: https://sanpu.iarrp.cn/ssp-dccy/2023-12-13/522722/e482b11c-aecc-4eea-b3cc-d8834de39dfe.jpg?AccessKeyId=3KTIFO8GC5N6LWASE8DQ&Expires=1709116646&x-image-process=image%2Fresize%2Cm_lfit%2Ch_500%2Cw_500&Signature=kxSLvI7pYdwVZr9iVUxQ5VjyLi4%3D, ALT: \n",
      "Image SRC: https://sanpu.iarrp.cn/images/workpanel/location.svg, ALT: \n",
      "Image SRC: https://sanpu.iarrp.cn/images/workpanel/pictPosition.png, ALT: \n",
      "Image SRC: https://sanpu.iarrp.cn/images/workpanel/position4.png, ALT: \n",
      "Image SRC: https://sanpu.iarrp.cn/images/workpanel/position3.png, ALT: \n",
      "Image SRC: https://sanpu.iarrp.cn/images/workpanel/position2.png, ALT: \n"
     ]
    }
   ],
   "source": [
    "\n",
    "\n",
    "# 定位到包含图片的div\n",
    "container_div = driver.find_element(By.CSS_SELECTOR, 'div.scroll-xxxx.h-full[data-v-b41b232c]')\n",
    "\n",
    "# 找到所有的img标签\n",
    "images = container_div.find_elements(By.TAG_NAME, 'img')\n",
    "\n",
    "# 遍历每一个img标签\n",
    "for img in images:\n",
    "    # 获取图片的src属性（图片链接）\n",
    "    src = img.get_attribute('src')\n",
    "    \n",
    "    # 获取其他你感兴趣的属性，例如alt\n",
    "    alt = img.get_attribute('alt')\n",
    "    \n",
    "    # 打印信息\n",
    "    print(f'Image SRC: {src}, ALT: {alt}')"
   ]
  }
 ],
 "metadata": {
  "kernelspec": {
   "display_name": ".spidervenv",
   "language": "python",
   "name": "python3"
  },
  "language_info": {
   "codemirror_mode": {
    "name": "ipython",
    "version": 3
   },
   "file_extension": ".py",
   "mimetype": "text/x-python",
   "name": "python",
   "nbconvert_exporter": "python",
   "pygments_lexer": "ipython3",
   "version": "3.10.11"
  }
 },
 "nbformat": 4,
 "nbformat_minor": 2
}
