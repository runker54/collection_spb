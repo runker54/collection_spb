{
 "cells": [
  {
   "cell_type": "code",
   "execution_count": null,
   "metadata": {},
   "outputs": [],
   "source": [
    "import os\n",
    "import re\n",
    "import time\n",
    "import random\n",
    "import math\n",
    "import requests\n",
    "import json\n",
    "import datetime\n",
    "import pandas as pd\n",
    "from tqdm import tqdm\n",
    "from dotenv import load_dotenv\n",
    "from selenium import webdriver\n",
    "from selenium.webdriver.chrome.options import Options\n",
    "from selenium.webdriver.common.by import By\n",
    "from selenium.webdriver.chrome.service import Service\n",
    "from selenium.webdriver.support.ui import WebDriverWait\n",
    "from selenium.webdriver.support import expected_conditions as EC\n",
    "from selenium.webdriver.support.ui import Select\n",
    "from selenium.common.exceptions import NoSuchElementException\n",
    "from selenium.webdriver.common.action_chains import ActionChains\n",
    "from selenium.webdriver.common.desired_capabilities import DesiredCapabilities\n",
    "from bs4 import BeautifulSoup"
   ]
  },
  {
   "cell_type": "code",
   "execution_count": 60,
   "metadata": {},
   "outputs": [],
   "source": [
    "# 读取需要的环境变量\n",
    "load_dotenv()\n",
    "# link info\n",
    "SF_URL = os.getenv('SF_URL')\n",
    "LDTJ_URL = os.getenv('LDTJ_URL')\n",
    "JBXX_URL = os.getenv('JBXX_URL')\n",
    "CTD_URL = os.getenv('CTD_URL')\n",
    "IMG_URL = os.getenv('IMG_URL')\n",
    "DSH_URL = os.getenv('DSH_URL')\n",
    "YSH_URL = os.getenv('YSH_URL')\n",
    "DSH_PAGE = os.getenv('DSH_PAGE')\n",
    "YSH_PAGE = os.getenv('YSH_PAGE')\n",
    "PAGE_TAIL = os.getenv('PAGE_TAIL')\n",
    "BASE_NAME = os.getenv('BASE_NAME')\n",
    "# headers info \n",
    "img_headers = {\n",
    "    \"Accept\": os.getenv(\"ACCEPT\"),\n",
    "    \"Accept-Encoding\": os.getenv(\"ACCEPT_ENCODING\"),\n",
    "    \"Accept-Language\": os.getenv(\"ACCEPT_LANGUAGE\"),\n",
    "    \"Authorization\": os.getenv(\"AUTHORIZATION\"),\n",
    "    \"Connection\": os.getenv(\"CONNECTION\"),\n",
    "    \"Content-Length\": os.getenv(\"CONTENT_LENGTH\"),\n",
    "    \"Content-Type\": os.getenv(\"CONTENT_TYPE\"),\n",
    "    \"Cookie\": os.getenv(\"COOKIE\"),\n",
    "    \"Host\": os.getenv(\"HOST\"),\n",
    "    \"origin\": os.getenv(\"ORIGIN\"),\n",
    "    \"Referer\": os.getenv(\"REFERER\"),\n",
    "    \"Sec-Ch-Ua\": os.getenv(\"SEC_CH_UA\"),\n",
    "    \"Sec-Ch-Ua-Mobile\": os.getenv(\"SEC_CH_UA_MOBILE\"),\n",
    "    \"Sec-Ch-Ua-Platform\": os.getenv(\"SEC_CH_UA_PLATFORM\"),\n",
    "    \"Sec-Fetch-Dest\": os.getenv(\"SEC_FETCH_DEST\"),\n",
    "    \"Sec-Fetch-Mode\": os.getenv(\"SEC_FETCH_MODE\"),\n",
    "    \"Sec-Fetch-Site\": os.getenv(\"SEC_FETCH_SITE\"),\n",
    "    \"User-Agent\": os.getenv(\"USER_AGENT\")\n",
    "}\n",
    "normal_headers = {\n",
    "    \"Accept\": os.getenv(\"ACCEPT\"),\n",
    "    \"Accept-Encoding\": os.getenv(\"ACCEPT_ENCODING\"),\n",
    "    \"Accept-Language\": os.getenv(\"ACCEPT_LANGUAGE\"),\n",
    "    \"Authorization\": os.getenv(\"AUTHORIZATION\"),\n",
    "    \"Connection\": os.getenv(\"CONNECTION\"),\n",
    "    \"Cookie\": os.getenv(\"COOKIE\"),\n",
    "    \"Host\": os.getenv(\"HOST\"),\n",
    "    \"Referer\": os.getenv(\"REFERER\"),\n",
    "    \"Sec-Ch-Ua\": os.getenv(\"SEC_CH_UA\"),\n",
    "    \"Sec-Ch-Ua-Mobile\": os.getenv(\"SEC_CH_UA_MOBILE\"),\n",
    "    \"Sec-Ch-Ua-Platform\": os.getenv(\"SEC_CH_UA_PLATFORM\"),\n",
    "    \"Sec-Fetch-Dest\": os.getenv(\"SEC_FETCH_DEST\"),\n",
    "    \"Sec-Fetch-Mode\": os.getenv(\"SEC_FETCH_MODE\"),\n",
    "    \"Sec-Fetch-Site\": os.getenv(\"SEC_FETCH_SITE\"),\n",
    "    \"User-Agent\": os.getenv(\"USER_AGENT\")}\n"
   ]
  },
  {
   "cell_type": "code",
   "execution_count": 63,
   "metadata": {},
   "outputs": [],
   "source": [
    "### 辅助函数\n",
    "# 装饰器，如果函数没有返回值，则一直重试\n",
    "def retry_if_no_return(func):\n",
    "    def wrapper(*args, **kwargs):\n",
    "        # 定义重试次数\n",
    "        retry_times = 5\n",
    "        while retry_times>=0:\n",
    "            result = func(*args, **kwargs)\n",
    "            if result:\n",
    "                return result\n",
    "            # 如果函数没有返回值，可以在这里添加日志或等待时间\n",
    "            time.sleep(2)\n",
    "            retry_times -= 1\n",
    "    return wrapper\n",
    "\n",
    "# 遍历url列表下载图片\n",
    "@retry_if_no_return\n",
    "def download_image(url,save_path_name):\n",
    "    headers = {'User-Agent':os.getenv('USER_AGENT')}\n",
    "    try:\n",
    "        r = requests.get(url, headers=headers)\n",
    "        if r.status_code == 200:\n",
    "            with open(save_path_name, 'wb') as f:\n",
    "                f.write(r.content)\n",
    "                return True\n",
    "    except:\n",
    "        return False\n",
    "    time.sleep(random.random())"
   ]
  },
  {
   "cell_type": "code",
   "execution_count": null,
   "metadata": {},
   "outputs": [],
   "source": [
    "# 获取施肥信息\n",
    "def get_sf_info(point_id,headers):\n",
    "    \"\"\"获取施肥信息\"\"\"\n",
    "    url = f\"{SF_URL}{point_id}\"\n",
    "    # 发送GET请求\n",
    "    response = requests.get(url, headers=headers)\n",
    "    # 检查响应状态码\n",
    "    if response.status_code == 200:\n",
    "        # 解析响应内容\n",
    "        data = response.json()\n",
    "        return data\n",
    "    else:\n",
    "        print(\"请求失败，状态码：\", response.status_code)\n",
    "        return False\n",
    "# 获取图片信息\n",
    "def get_img_info(point_id,headers):\n",
    "    \"\"\"获取图片和视频链接\"\"\"\n",
    "    url = IMG_URL\n",
    "    # 请求的JSON数据\n",
    "    # 请根据实际情况替换下面的data字典\n",
    "    data = {\n",
    "        \"glbh\": f\"{int(point_id)}\"\n",
    "    }\n",
    "    # 将字典转换为JSON格式的字符串\n",
    "    payload = json.dumps(data)\n",
    "    # 发送POST请求\n",
    "    response = requests.post(url, headers=headers, data=payload)\n",
    "\n",
    "    # 检查响应状态码\n",
    "    if response.status_code == 200:\n",
    "        # 解析响应内容\n",
    "        data = response.json()\n",
    "        return data\n",
    "    else:\n",
    "        print(\"请求失败，状态码：\", response.status_code)\n",
    "        return False\n",
    "# 获取立地条件信息\n",
    "def get_ldtj_info(point_id,headers):\n",
    "    \"\"\"获取立地条件信息\"\"\"\n",
    "    url = f\"{LDTJ_URL}{point_id}\"\n",
    "    # 发送GET请求\n",
    "    response = requests.get(url, headers=headers)\n",
    "    # 检查响应状态码\n",
    "    if response.status_code == 200:\n",
    "        # 解析响应内容\n",
    "        data = response.json()\n",
    "        return data\n",
    "    else:\n",
    "        print(\"请求失败，状态码：\", response.status_code)\n",
    "        return False\n",
    "# 获取样点基本信息\n",
    "def get_base_info(point_id,headers):\n",
    "    \"\"\"获取基本信息\"\"\"\n",
    "    url = f\"{JBXX_URL}{point_id}\"\n",
    "        # 发送GET请求\n",
    "    response = requests.get(url, headers=headers)\n",
    "    # 检查响应状态码\n",
    "    if response.status_code == 200:\n",
    "        # 解析响应内容\n",
    "        data = response.json()\n",
    "        return data\n",
    "    else:\n",
    "        print(\"请求失败，状态码：\", response.status_code)\n",
    "        return False\n",
    "# 获取采土袋信息\n",
    "def get_ctd_info(point_id,headers):\n",
    "    \"\"\"获取采土袋信息\"\"\"\n",
    "    url = f\"{CTD_URL}{point_id}\"\n",
    "    # 发送GET请求\n",
    "    response = requests.get(url, headers=headers)\n",
    "    # 检查响应状态码\n",
    "    if response.status_code == 200:\n",
    "        # 解析响应内容\n",
    "        data = response.json()\n",
    "        return data\n",
    "    else:\n",
    "        print(\"请求失败，状态码：\", response.status_code)\n",
    "        return False\n",
    "# 获取当前页面cookie信息\n",
    "def get_cookie():\n",
    "    \"\"\"获取当前页面cookie信息\"\"\"\n",
    "    # 使用JavaScript获取Cookie\n",
    "    cookie_script = \"\"\"\n",
    "    return document.cookie;\n",
    "    \"\"\"\n",
    "    cookie_value = driver.execute_script(cookie_script)\n",
    "    return cookie_value\n",
    "# 更新cookie信息\n",
    "def update_cookie(headers):\n",
    "    \"\"\"更新cookie信息\"\"\"\n",
    "    # 获取当前页面cookie信息\n",
    "    cookie_value = get_cookie()\n",
    "    # 更新headers\n",
    "    headers.update({\"Cookie\": cookie_value})\n",
    "    return headers\n",
    "# 获取已审核数量\n",
    "def get_audit_num(headers):\n",
    "    \"\"\"获取已审核数量\"\"\"\n",
    "    url = YSH_URL\n",
    "    # 发送GET请求\n",
    "    response = requests.get(url, headers=headers)\n",
    "    # 检查响应状态码\n",
    "    if response.status_code == 200:\n",
    "        # 解析响应内容\n",
    "        data = response.json()\n",
    "        return data['result']\n",
    "    else:\n",
    "        print(\"请求失败，状态码：\", response.status_code)\n",
    "        return False\n",
    "# 获取待审核数量\n",
    "def get_wait_num(headers):\n",
    "    \"\"\"获取待审核数量\"\"\"\n",
    "    url = DSH_URL\n",
    "    # 发送GET请求\n",
    "    response = requests.get(url, headers=headers)\n",
    "    # 检查响应状态码\n",
    "    if response.status_code == 200:\n",
    "        # 解析响应内容\n",
    "        data = response.json()\n",
    "        return data['result']\n",
    "    else:\n",
    "        print(\"请求失败，状态码：\", response.status_code)\n",
    "        return False\n",
    "# 获取指定页面的编码\n",
    "def get_set_page_num(url,headers):\n",
    "    \"\"\"获取指定页面的编码\"\"\"\n",
    "    response = requests.get(url, headers=headers)\n",
    "    # 检查响应状态码\n",
    "    if response.status_code == 200:\n",
    "        # 解析响应内容\n",
    "        data = response.json()\n",
    "        info_list = data['result']['records']\n",
    "        # 循环获取编码\n",
    "        temp_list = [_['ydbh'] for _ in info_list]\n",
    "        return temp_list\n",
    "    else:\n",
    "        print(\"请求失败，状态码：\", response.status_code)\n",
    "        return False\n",
    "\n",
    "# 获取已审核的编码\n",
    "def get_page_number(total,headers):\n",
    "    \"\"\"获取当前传入页面的编码,默认每一页50\"\"\"\n",
    "    # 计算有多少页\n",
    "    page_num = math.ceil(total / 50)\n",
    "    # 循环获取每一页的编码\n",
    "    result_list = []\n",
    "    for i in range(1, page_num + 1):\n",
    "        url = f\"{YSH_PAGE}{i}{PAGE_TAIL}\"\n",
    "        result_list+=get_set_page_num(url,headers)\n",
    "        time.sleep(random.random())\n",
    "    return result_list\n",
    "\n",
    "# 获取待审核的编码\n",
    "def get_wait_page_number(total,headers):\n",
    "    \"\"\"获取当前传入页面的编码,默认每一页50\"\"\"\n",
    "    # 计算有多少页\n",
    "    page_num = math.ceil(total / 50)\n",
    "    # 循环获取每一页的编码\n",
    "    temp_list = []\n",
    "    for i in range(1, page_num + 1):\n",
    "        url = f\"{DSH_PAGE}{i}{PAGE_TAIL}\"\n",
    "        temp_list+=get_set_page_num(url,headers)\n",
    "        time.sleep(random.random())\n",
    "    return temp_list\n",
    "    "
   ]
  },
  {
   "cell_type": "code",
   "execution_count": null,
   "metadata": {},
   "outputs": [],
   "source": [
    "# 配置浏览器\n",
    "# chrome.exe --remote-debugging-port=9999 --user-data-dir=\"D:\\Selenium\\AutomationProfile\"\n",
    "# chrome.exe --remote-debugging-port=9999 --user-data-dir=\"D:\\Program Files\\ChromeDir\"\n",
    "options = webdriver.ChromeOptions()\n",
    "options.add_experimental_option(\"debuggerAddress\", \"localhost:9998\")\n",
    "driver = webdriver.Chrome(options=options)\n",
    "\n",
    "driver.implicitly_wait(60)"
   ]
  },
  {
   "cell_type": "code",
   "execution_count": null,
   "metadata": {},
   "outputs": [],
   "source": [
    "# 保存路径\n",
    "save_path = r\"F:\\collection_spb_info\\李相楹\""
   ]
  },
  {
   "cell_type": "markdown",
   "metadata": {},
   "source": [
    "# 检查heraders并更新"
   ]
  },
  {
   "cell_type": "code",
   "execution_count": null,
   "metadata": {},
   "outputs": [],
   "source": [
    "\n",
    "headers = update_cookie(normal_headers)"
   ]
  },
  {
   "cell_type": "code",
   "execution_count": null,
   "metadata": {},
   "outputs": [],
   "source": [
    "wait_point_list = get_wait_page_number(get_wait_num(headers),headers)"
   ]
  },
  {
   "cell_type": "code",
   "execution_count": null,
   "metadata": {},
   "outputs": [],
   "source": [
    "# 获取当前账户下的待审核和已审核编码，并写入文件\n",
    "# 更新headers\n",
    "headers = update_cookie(headers)\n",
    "audit_point_list = get_page_number(get_audit_num(headers),headers)\n",
    "wait_point_list = get_wait_page_number(get_wait_num(headers),headers)\n",
    "all_point = audit_point_list + wait_point_list"
   ]
  },
  {
   "cell_type": "code",
   "execution_count": null,
   "metadata": {},
   "outputs": [],
   "source": [
    "# 写入编码到文件\n",
    "with open(os.path.join(save_path,'point_id.txt'),'w',encoding='utf-8') as f:\n",
    "    for one_id in all_point:\n",
    "        f.write(one_id+'\\n')"
   ]
  },
  {
   "cell_type": "code",
   "execution_count": null,
   "metadata": {},
   "outputs": [],
   "source": [
    "len(all_point),len(wait_point_list),len(audit_point_list)"
   ]
  },
  {
   "cell_type": "code",
   "execution_count": null,
   "metadata": {},
   "outputs": [],
   "source": [
    "# 测试一个点位的基本信息\n",
    "base_info = get_base_info(all_point[0],headers)\n",
    "base_info"
   ]
  },
  {
   "cell_type": "code",
   "execution_count": null,
   "metadata": {},
   "outputs": [],
   "source": [
    "# 获取基本信息\n",
    "# 更新headers\n",
    "headers = update_cookie(headers)\n",
    "base_info_list = []\n",
    "for one_point in tqdm(all_point):\n",
    "    one_point_base_info = get_base_info(one_point,headers)['result']\n",
    "    # 随机休眠\n",
    "    time.sleep(random.random())\n",
    "    base_info_list.append(one_point_base_info)\n"
   ]
  },
  {
   "cell_type": "code",
   "execution_count": null,
   "metadata": {},
   "outputs": [],
   "source": [
    "df_base_info = pd.DataFrame(base_info_list)\n",
    "df_base_info"
   ]
  },
  {
   "cell_type": "code",
   "execution_count": null,
   "metadata": {},
   "outputs": [],
   "source": [
    "# 保存基本信息\n",
    "df_base_info.to_excel(os.path.join(save_path,'base_info.xlsx'),index=False)"
   ]
  },
  {
   "cell_type": "code",
   "execution_count": null,
   "metadata": {},
   "outputs": [],
   "source": [
    "# 测试一个点位的图片信息\n",
    "img_info = get_img_info(all_point[0],img_headers)\n",
    "img_info"
   ]
  },
  {
   "cell_type": "code",
   "execution_count": null,
   "metadata": {},
   "outputs": [],
   "source": [
    "# 获取图片链接信息\n",
    "# 更新headers\n",
    "img_headers = update_cookie(img_headers)\n",
    "img_info_list = []\n",
    "for one_point in tqdm(all_point):\n",
    "    one_point_img_info = get_img_info(one_point,img_headers)['result']\n",
    "    # 为链接增加域名\n",
    "    prefix = BASE_NAME\n",
    "    updated_list = [{**item, 'wjlj': f\"{prefix}{item['wjlj']}\"} for item in one_point_img_info]\n",
    "    # 随机休眠\n",
    "    time.sleep(random.random())\n",
    "    img_info_list+=updated_list"
   ]
  },
  {
   "cell_type": "code",
   "execution_count": null,
   "metadata": {},
   "outputs": [],
   "source": [
    "df_img_info = pd.DataFrame(img_info_list)\n",
    "df_img_info"
   ]
  },
  {
   "cell_type": "code",
   "execution_count": null,
   "metadata": {},
   "outputs": [],
   "source": [
    "# 保存媒体信息\n",
    "df_img_info.to_excel(os.path.join(save_path, 'img_info.xlsx'), index=False)"
   ]
  },
  {
   "cell_type": "code",
   "execution_count": null,
   "metadata": {},
   "outputs": [],
   "source": [
    "# 测试一个点位的立地调查信息\n",
    "ldtj_info = get_ldtj_info(all_point[0],headers)\n",
    "ldtj_info"
   ]
  },
  {
   "cell_type": "code",
   "execution_count": null,
   "metadata": {},
   "outputs": [],
   "source": [
    "# 获取立地条件信息\n",
    "ldtj_info_list = []\n",
    "for one_point in tqdm(all_point):\n",
    "    one_point_ldtj_info = get_ldtj_info(one_point,headers)['result']\n",
    "    ldtj_info_list.append(one_point_ldtj_info)\n",
    "    # 随机休眠\n",
    "    # time.sleep(random.random())"
   ]
  },
  {
   "cell_type": "code",
   "execution_count": null,
   "metadata": {},
   "outputs": [],
   "source": [
    "df_ldtj_info = pd.DataFrame(ldtj_info_list)\n",
    "df_ldtj_info"
   ]
  },
  {
   "cell_type": "code",
   "execution_count": null,
   "metadata": {},
   "outputs": [],
   "source": [
    "# 保存立地条件信息\n",
    "df_ldtj_info.to_excel(os.path.join(save_path,'ldtj_info.xlsx'),index=False)"
   ]
  },
  {
   "cell_type": "code",
   "execution_count": null,
   "metadata": {},
   "outputs": [],
   "source": [
    "# 测试一个点位的采土袋信息\n",
    "ctd_info = get_ctd_info(all_point[0],headers)\n",
    "ctd_info"
   ]
  },
  {
   "cell_type": "code",
   "execution_count": null,
   "metadata": {},
   "outputs": [],
   "source": [
    "# 获取采土袋信息\n",
    "ctd_info_list = []\n",
    "for one_point in tqdm(all_point):\n",
    "    one_point_ctd_info = get_ctd_info(one_point,headers)['result']\n",
    "    ctd_info_list+=one_point_ctd_info\n",
    "    # 随机休眠\n",
    "    # time.sleep(random.random())"
   ]
  },
  {
   "cell_type": "code",
   "execution_count": null,
   "metadata": {},
   "outputs": [],
   "source": [
    "df_ctd_info = pd.DataFrame(ctd_info_list)\n",
    "df_ctd_info"
   ]
  },
  {
   "cell_type": "code",
   "execution_count": null,
   "metadata": {},
   "outputs": [],
   "source": [
    "# 保存采土袋信息\n",
    "df_ctd_info.to_excel(os.path.join(save_path, 'ctd_info.xlsx'), index=False)"
   ]
  },
  {
   "cell_type": "code",
   "execution_count": null,
   "metadata": {},
   "outputs": [],
   "source": [
    "# 测试一个点位的施肥信息\n",
    "sf_info = get_sf_info(all_point[0],headers)\n",
    "sf_info"
   ]
  },
  {
   "cell_type": "code",
   "execution_count": null,
   "metadata": {},
   "outputs": [],
   "source": [
    "# 获取施肥信息\n",
    "sf_info_list = []\n",
    "for one_point in tqdm(all_point):\n",
    "    one_point_sf_info = get_sf_info(one_point,headers)['result']\n",
    "    sf_info_list+=one_point_sf_info\n",
    "    # 随机休眠\n",
    "    # time.sleep(random.random())"
   ]
  },
  {
   "cell_type": "code",
   "execution_count": null,
   "metadata": {},
   "outputs": [],
   "source": [
    "df_sf_info = pd.DataFrame(sf_info_list)\n",
    "df_sf_info"
   ]
  },
  {
   "cell_type": "code",
   "execution_count": null,
   "metadata": {},
   "outputs": [],
   "source": [
    "# 保存施肥信息\n",
    "df_sf_info.to_excel(os.path.join(save_path, 'sf_info.xlsx'), index=False)"
   ]
  },
  {
   "cell_type": "code",
   "execution_count": null,
   "metadata": {},
   "outputs": [],
   "source": []
  }
 ],
 "metadata": {
  "kernelspec": {
   "display_name": ".spidervenv",
   "language": "python",
   "name": "python3"
  },
  "language_info": {
   "codemirror_mode": {
    "name": "ipython",
    "version": 3
   },
   "file_extension": ".py",
   "mimetype": "text/x-python",
   "name": "python",
   "nbconvert_exporter": "python",
   "pygments_lexer": "ipython3",
   "version": "3.10.11"
  }
 },
 "nbformat": 4,
 "nbformat_minor": 2
}
