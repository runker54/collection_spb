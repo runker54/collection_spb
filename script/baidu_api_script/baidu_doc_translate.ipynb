{
 "cells": [
  {
   "cell_type": "markdown",
   "metadata": {},
   "source": [
    "# 百度文档翻译api调用"
   ]
  },
  {
   "cell_type": "code",
   "execution_count": null,
   "metadata": {},
   "outputs": [],
   "source": [
    "import requests\n",
    "import json\n",
    "from dotenv import load_dotenv\n",
    "import os\n",
    "import base64\n",
    "# 读取需要的环境变量\n",
    "load_dotenv()\n",
    "\n",
    "def get_access_token(client_id, client_secret):\n",
    "\n",
    "    url = f\"https://aip.baidubce.com/oauth/2.0/token?client_id={client_id}&client_secret={client_secret}&grant_type=client_credentials\"\n",
    "    \n",
    "    payload = json.dumps(\"\")\n",
    "    headers = {\n",
    "        'Content-Type': 'application/json',\n",
    "        'Accept': 'application/json'\n",
    "    }\n",
    "    response = requests.request(\"POST\", url, headers=headers, data=payload)\n",
    "    return response.json()[\"access_token\"]\n",
    "  \n",
    "def get_base64_encoded_string(file_path):\n",
    "    with open(file_path, 'rb') as file:\n",
    "        file_content = file.read()\n",
    "    base64_encoded_content = base64.b64encode(file_content).decode('utf-8')\n",
    "    return base64_encoded_content\n",
    "\n",
    "def search_status(task_id,token):\n",
    "  search_url = 'https://aip.baidubce.com/rpc/2.0/mt/v2/doc-translation/query?access_token=' + token\n",
    "  # Build request\n",
    "  headers = {'Content-Type': 'application/json'}\n",
    "  payload = json.dumps({\n",
    "    \"id\": f\"{task_id}\"\n",
    "  })\n",
    "\n",
    "  # Send request\n",
    "  r = requests.post(search_url, data=payload, headers=headers)\n",
    "  result = r.json()\n",
    "  return json.dumps(result, indent=4, ensure_ascii=False)\n",
    "\n",
    "def send_task(payload,token):\n",
    "  url = 'https://aip.baidubce.com/rpc/2.0/mt/v2/doc-translation/create?access_token=' + token\n",
    "  # Build request\n",
    "  headers = {'Content-Type': 'application/json'}\n",
    "  # Send request\n",
    "  r = requests.post(url, data=payload, headers=headers)\n",
    "  result = r.json()\n",
    "  # return response\n",
    "  return json.dumps(result, indent=4, ensure_ascii=False)"
   ]
  },
  {
   "cell_type": "code",
   "execution_count": null,
   "metadata": {},
   "outputs": [],
   "source": [
    "file_path = r\"C:\\Users\\Runker\\Desktop\\25059_all.pdf\"\n",
    "client_id = os.getenv('client_id')\n",
    "client_secret = os.getenv('client_secret')\n",
    "token = get_access_token(client_id,client_secret)\n",
    "# payload \n",
    "payload = json.dumps({\n",
    "\"from\": \"en\", # 源语言\n",
    "\"to\": \"zh\", # 目标语言\n",
    "\"input\": {\n",
    "    \"content\": f\"{get_base64_encoded_string(file_path)}\",\n",
    "    \"format\": \"pdf\",\n",
    "    \"filename\": f\"{os.path.basename(file_path)}\"\n",
    "\n",
    "},\n",
    "\"output\": {\n",
    "    \"filename_prefix\": \"mttest_after\", # 输出文件前缀\n",
    "    \"formats\": [\n",
    "    \"pdf\"\n",
    "    ]\n",
    "}\n",
    "})\n"
   ]
  },
  {
   "cell_type": "code",
   "execution_count": null,
   "metadata": {},
   "outputs": [],
   "source": [
    "# request translate task\n",
    "send_task(payload=payload,token=get_access_token(client_id,client_secret))"
   ]
  },
  {
   "cell_type": "code",
   "execution_count": null,
   "metadata": {},
   "outputs": [],
   "source": [
    "# search task\n",
    "search_status(task_id='上一步获取',token=get_access_token(client_id,client_secret))"
   ]
  }
 ],
 "metadata": {
  "kernelspec": {
   "display_name": "spiderenv",
   "language": "python",
   "name": "python3"
  },
  "language_info": {
   "codemirror_mode": {
    "name": "ipython",
    "version": 3
   },
   "file_extension": ".py",
   "mimetype": "text/x-python",
   "name": "python",
   "nbconvert_exporter": "python",
   "pygments_lexer": "ipython3",
   "version": "3.10.11"
  }
 },
 "nbformat": 4,
 "nbformat_minor": 2
}
