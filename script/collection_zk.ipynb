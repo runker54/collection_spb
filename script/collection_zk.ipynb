{
 "cells": [
  {
   "cell_type": "code",
   "execution_count": null,
   "metadata": {},
   "outputs": [],
   "source": [
    "import os\n",
    "import re\n",
    "import time\n",
    "import random\n",
    "import math\n",
    "import requests\n",
    "import json\n",
    "import pandas as pd\n",
    "from tqdm import tqdm\n",
    "from dotenv import load_dotenv\n",
    "from selenium import webdriver\n",
    "from selenium.webdriver.chrome.options import Options\n",
    "from selenium.webdriver.common.by import By\n",
    "from selenium.webdriver.chrome.service import Service\n",
    "from selenium.webdriver.support.ui import WebDriverWait\n",
    "from selenium.webdriver.support import expected_conditions as EC\n",
    "from selenium.webdriver.support.ui import Select\n",
    "from selenium.common.exceptions import NoSuchElementException\n",
    "from selenium.webdriver.common.action_chains import ActionChains\n",
    "from selenium.webdriver.common.desired_capabilities import DesiredCapabilities"
   ]
  },
  {
   "cell_type": "code",
   "execution_count": null,
   "metadata": {},
   "outputs": [],
   "source": [
    "# 读取需要的环境变量\n",
    "load_dotenv()\n",
    "# link info\n",
    "# 样品检测信息\n",
    "ZMJL_PAGE = os.getenv('ZMJL_PAGE')\n",
    "ZMJL_PAGE_TAIL = os.getenv('ZMJL_PAGE_TAIL')\n",
    "\n",
    "# 表层样品\n",
    "BC_PCH_DSH_URL = os.getenv('BC_PCH_DSH_URL')\n",
    "BC_PCH_YSH_URL = os.getenv('BC_PCH_YSH_URL')\n",
    "\n",
    "BC_PCH_DSH_PAGE_URL = os.getenv('BC_PCH_DSH_PAGE_URL')\n",
    "BC_PCH_YSH_PAGE_URL = os.getenv('BC_PCH_YSH_PAGE_URL')\n",
    "BC_PCH_PAGE_URL_TAIL = os.getenv('BC_PCH_PAGE_URL_TAIL')\n",
    "\n",
    "# 剖面样品\n",
    "\n",
    "PM_PCH_DSH_URL = os.getenv('PM_PCH_DSH_URL')\n",
    "PM_PCH_YSH_URL = os.getenv('PM_PCH_YSH_URL')\n",
    "\n",
    "PM_PCH_DSH_PAGE_URL = os.getenv('PM_PCH_DSH_PAGE_URL')\n",
    "PM_PCH_YSH_PAGE_URL = os.getenv('PM_PCH_YSH_PAGE_URL')\n",
    "PM_PCH_PAGE_URL_TAIL = os.getenv('PM_PCH_PAGE_URL_TAIL')\n",
    "\n",
    "# 水团样品\n",
    "ST_PCH_DSH_URL = os.getenv('ST_PCH_DSH_URL')\n",
    "ST_PCH_YSH_URL = os.getenv('ST_PCH_YSH_URL')\n",
    "\n",
    "ST_PCH_DSH_PAGE_URL = os.getenv('ST_PCH_DSH_PAGE_URL')\n",
    "ST_PCH_YSH_PAGE_URL = os.getenv('ST_PCH_YSH_PAGE_URL')\n",
    "ST_PCH_DSH_PAGE_URL_TAIL = os.getenv('ST_PCH_DSH_PAGE_URL_TAIL')\n",
    "\n",
    "# 检测结果\n",
    "JCJG_WLZB_PAGE = os.getenv('JCJG_WLZB_PAGE') \n",
    "JCJG_HXZB_PAGE = os.getenv('JCJG_HXZB_PAGE') \n",
    "JCJG_PAGE_MID = os.getenv('JCJG_PAGE_MID')\n",
    "JCJG_PAGE_TAIL = os.getenv('JCJG_PAGE_TAIL')\n",
    "# headers info \n",
    "headers = {\n",
    "    \"Accept\": os.getenv(\"ACCEPT\"),\n",
    "    \"Accept-Encoding\": os.getenv(\"ACCEPT_ENCODING\"),\n",
    "    \"Accept-Language\": os.getenv(\"ACCEPT_LANGUAGE\"),\n",
    "    \"Authorization\": os.getenv(\"AUTHORIZATION\"),\n",
    "    \"Connection\": os.getenv(\"CONNECTION\"),\n",
    "    \"Cookie\": os.getenv(\"COOKIE\"),\n",
    "    \"Host\": os.getenv(\"HOST\"),\n",
    "    \"Referer\": os.getenv(\"REFERER\"),\n",
    "    \"Sec-Ch-Ua\": os.getenv(\"SEC_CH_UA\"),\n",
    "    \"Sec-Ch-Ua-Mobile\": os.getenv(\"SEC_CH_UA_MOBILE\"),\n",
    "    \"Sec-Ch-Ua-Platform\": os.getenv(\"SEC_CH_UA_PLATFORM\"),\n",
    "    \"Sec-Fetch-Dest\": os.getenv(\"SEC_FETCH_DEST\"),\n",
    "    \"Sec-Fetch-Mode\": os.getenv(\"SEC_FETCH_MODE\"),\n",
    "    \"Sec-Fetch-Site\": os.getenv(\"SEC_FETCH_SITE\"),\n",
    "    \"User-Agent\": os.getenv(\"USER_AGENT\")}\n"
   ]
  },
  {
   "cell_type": "code",
   "execution_count": null,
   "metadata": {},
   "outputs": [],
   "source": [
    "# 获取当前页面cookie信息\n",
    "def get_cookie():\n",
    "    \"\"\"获取当前页面cookie信息\"\"\"\n",
    "    # 使用JavaScript获取Cookie\n",
    "    cookie_script = \"\"\"\n",
    "    return document.cookie;\n",
    "    \"\"\"\n",
    "    cookie_value = driver.execute_script(cookie_script)\n",
    "    return cookie_value\n",
    "# 更新cookie信息\n",
    "def update_cookie(headers):\n",
    "    \"\"\"更新cookie信息\"\"\"\n",
    "    # 获取当前页面cookie信息\n",
    "    cookie_value = get_cookie()\n",
    "    # 更新headers\n",
    "    headers.update({\"Cookie\": cookie_value})\n",
    "    return headers\n",
    "\n",
    "# 获取转码记录总数量\n",
    "def get_trans_num(headers):\n",
    "    \"\"\"获取当前转码记录总数量\"\"\"\n",
    "    url = f'{ZMJL_PAGE}1{ZMJL_PAGE_TAIL}'\n",
    "    # 发送GET请求\n",
    "    response = requests.get(url, headers=headers)\n",
    "    # 检查响应状态码\n",
    "    if response.status_code == 200:\n",
    "        # 解析响应内容\n",
    "        data = response.json()\n",
    "        return data['result']['total']\n",
    "    else:\n",
    "        print(\"请求失败，状态码：\", response.status_code)\n",
    "        return False\n",
    "    \n",
    "# 获取转码信息\n",
    "def get_trans_info(page_number,headers):\n",
    "    \"\"\"获取当前页面转码信息\"\"\"\n",
    "    url = f'{ZMJL_PAGE}{page_number}{ZMJL_PAGE_TAIL}'\n",
    "    # 发送GET请求\n",
    "    response = requests.get(url, headers=headers)\n",
    "    # 检查响应状态码\n",
    "    if response.status_code == 200:\n",
    "        # 解析响应内容\n",
    "        data = response.json()\n",
    "        return data['result']['records']\n",
    "    else:\n",
    "        print(\"请求失败，状态码：\", response.status_code)\n",
    "# 获取各状态审核数量\n",
    "def get_status_num(type_url,headers):\n",
    "    \"\"\"获取各状态审核数量\"\"\"\n",
    "    # 发送GET请求\n",
    "    response = requests.get(type_url, headers=headers)\n",
    "    # 检查响应状态码\n",
    "    if response.status_code == 200:\n",
    "        # 解析响应内容\n",
    "        data = response.json()\n",
    "        return data['result']['count']\n",
    "    else:\n",
    "        print(\"请求失败，状态码：\", response.status_code)\n",
    "        return False\n",
    "# 获取指定状态指定页面的批次信息及批次编码\n",
    "def get_status_pc_info(url,headers):\n",
    "    \"\"\"获取指定页面的批次编码\"\"\"\n",
    "    response = requests.get(url, headers=headers)\n",
    "    # 检查响应状态码\n",
    "    if response.status_code == 200:\n",
    "        # 解析响应内容\n",
    "        data = response.json()\n",
    "        info_list = data['result']['records']\n",
    "        return info_list\n",
    "    else:\n",
    "        print(\"请求失败，状态码：\", response.status_code)\n",
    "        return False    \n",
    "\n",
    "# 获取指定批次号下的物理指标\n",
    "def get_physical_info(url,headers):\n",
    "    \"\"\"获取指定批次号下的物理指标\"\"\"\n",
    "    response = requests.get(url, headers=headers)\n",
    "    # 检查响应状态码\n",
    "    if response.status_code == 200:\n",
    "        # 解析响应内容\n",
    "        data = response.json()\n",
    "        return data['result']['records'],data['result']['total']\n",
    "    else:\n",
    "        print(\"请求失败，状态码：\", response.status_code)\n",
    "        return False\n",
    "    \n",
    "# 获取指定批次号下的化学指标\n",
    "def get_chemical_info(url,headers):\n",
    "    \"\"\"获取指定批次号下的化学指标\"\"\"\n",
    "    response = requests.get(url, headers=headers)\n",
    "    # 检查响应状态码\n",
    "    if response.status_code == 200:\n",
    "        # 解析响应内容\n",
    "        data = response.json()\n",
    "        return data['result']['records'],data['result']['total']\n",
    "    else:\n",
    "        print(\"请求失败，状态码：\", response.status_code)\n",
    "        return False"
   ]
  },
  {
   "cell_type": "code",
   "execution_count": null,
   "metadata": {},
   "outputs": [],
   "source": [
    "# 配置浏览器\n",
    "# chrome.exe --remote-debugging-port=9999 --user-data-dir=\"D:\\Selenium\\AutomationProfile\"\n",
    "# chrome.exe --remote-debugging-port=9999 --user-data-dir=\"D:\\Program Files\\ChromeDir\"\n",
    "options = webdriver.ChromeOptions()\n",
    "options.add_experimental_option(\"debuggerAddress\", \"localhost:9998\")\n",
    "driver = webdriver.Chrome(options=options)\n",
    "\n",
    "driver.implicitly_wait(60)"
   ]
  },
  {
   "cell_type": "code",
   "execution_count": null,
   "metadata": {},
   "outputs": [],
   "source": [
    "# 保存路径\n",
    "save_path = r\"F:\\collection_spb_info\\ZK\"\n",
    "# 如果没有该文件夹，则创建\n",
    "if not os.path.exists(save_path):\n",
    "    os.makedirs(save_path)"
   ]
  },
  {
   "cell_type": "code",
   "execution_count": null,
   "metadata": {},
   "outputs": [],
   "source": [
    "# 表层样各状态审核数量\n",
    "headers = update_cookie(headers)\n",
    "bc_wait_number = get_status_num(BC_PCH_DSH_URL,headers)\n",
    "bc_audi_number = get_status_num(BC_PCH_YSH_URL,headers)"
   ]
  },
  {
   "cell_type": "code",
   "execution_count": null,
   "metadata": {},
   "outputs": [],
   "source": [
    "bc_wait_number,bc_audi_number"
   ]
  },
  {
   "cell_type": "code",
   "execution_count": null,
   "metadata": {},
   "outputs": [],
   "source": [
    "# 更新headers\n",
    "headers = update_cookie(headers)\n",
    "bc_wait_info_list = []\n",
    "bc_wait_pcnum_list = []\n",
    "# 获取表层待审核批次信息\n",
    "for one_loop in tqdm(range(math.ceil(bc_wait_number/50))):\n",
    "    temp_bc_wait_info = get_status_pc_info(f'{BC_PCH_DSH_PAGE_URL}{one_loop+1}{BC_PCH_PAGE_URL_TAIL}',headers)\n",
    "    temp_bc_wait_pc_num = [_['pch'] for _ in temp_bc_wait_info]\n",
    "    bc_wait_info_list.extend(temp_bc_wait_info)\n",
    "    bc_wait_pcnum_list.extend(temp_bc_wait_pc_num)"
   ]
  },
  {
   "cell_type": "code",
   "execution_count": null,
   "metadata": {},
   "outputs": [],
   "source": [
    "# 更新headers\n",
    "headers = update_cookie(headers)\n",
    "bc_audit_info_list = []\n",
    "bc_audit_pcnum_list = []\n",
    "# 获取表层已审核批次信息\n",
    "for one_loop in tqdm(range(math.ceil(bc_audi_number/50))):\n",
    "    temp_bc_audit_info = get_status_pc_info(f'{BC_PCH_YSH_PAGE_URL}{one_loop+1}{BC_PCH_PAGE_URL_TAIL}',headers)\n",
    "    temp_bc_audit_pc_num = [_['pch'] for _ in temp_bc_audit_info]\n",
    "    bc_audit_info_list.extend(temp_bc_audit_info)\n",
    "    bc_audit_pcnum_list.extend(temp_bc_audit_pc_num)"
   ]
  },
  {
   "cell_type": "code",
   "execution_count": null,
   "metadata": {},
   "outputs": [],
   "source": [
    "# 保存待审核批次号\n",
    "with open(os.path.join(save_path,f'bc_dsh_{len(bc_wait_pcnum_list)}.json'), 'w') as f:\n",
    "    json.dump(bc_wait_pcnum_list, f, indent=4)\n",
    "# 保存已审核批次号\n",
    "with open(os.path.join(save_path,f'bc_ysh_{len(bc_audit_pcnum_list)}.json'), 'w') as f:\n",
    "    json.dump(bc_audit_pcnum_list, f, indent=4)"
   ]
  },
  {
   "cell_type": "code",
   "execution_count": null,
   "metadata": {},
   "outputs": [],
   "source": [
    "# 表层所有批次信息\n",
    "bc_all_info_list = bc_audit_info_list+bc_wait_info_list\n",
    "df_bc_info = pd.DataFrame(bc_all_info_list)\n",
    "df_bc_info.head(1)"
   ]
  },
  {
   "cell_type": "code",
   "execution_count": null,
   "metadata": {},
   "outputs": [],
   "source": [
    "# 保存表层待审核数据\n",
    "df_bc_info.to_excel(os.path.join(save_path, 'bc_info.xlsx'),index=False)"
   ]
  },
  {
   "cell_type": "code",
   "execution_count": null,
   "metadata": {},
   "outputs": [],
   "source": [
    "# 获取表层物理指标\n",
    "bc_physical_info_list = []\n",
    "bc_all_pcnum_list = bc_audit_pcnum_list+bc_wait_pcnum_list\n",
    "# 更新headers\n",
    "headers = update_cookie(headers)\n",
    "for one_loop in tqdm(bc_all_pcnum_list):\n",
    "    url = f'{JCJG_WLZB_PAGE}{JCJG_PAGE_MID}{one_loop}{JCJG_PAGE_TAIL}'\n",
    "    # 获取指标信息\n",
    "    bc_physical_info = get_physical_info(url, headers)\n",
    "    # 检测是否包含完整个批次数据\n",
    "    if bc_physical_info[1] <= 50:\n",
    "        bc_physical_info_list.extend(bc_physical_info[0])\n",
    "    else:\n",
    "        print(f'{one_loop}批次数据获取得到{bc_physical_info[1]}条，请检查!')\n",
    "        break"
   ]
  },
  {
   "cell_type": "code",
   "execution_count": null,
   "metadata": {},
   "outputs": [],
   "source": [
    "df_bc_physical_info =pd.DataFrame(bc_physical_info_list)\n",
    "df_bc_physical_info.head(1)"
   ]
  },
  {
   "cell_type": "code",
   "execution_count": null,
   "metadata": {},
   "outputs": [],
   "source": [
    "# 保存数据\n",
    "df_bc_physical_info.to_excel(os.path.join(save_path, 'bc_physical_info.xlsx'),index=False)"
   ]
  },
  {
   "cell_type": "code",
   "execution_count": null,
   "metadata": {},
   "outputs": [],
   "source": [
    "# 获取表层化学指标\n",
    "bc_chemical_info_list = []\n",
    "# 更新headers\n",
    "headers = update_cookie(headers)\n",
    "for one_loop in tqdm(bc_all_pcnum_list):\n",
    "    url = f'{JCJG_HXZB_PAGE}{JCJG_PAGE_MID}{one_loop}{JCJG_PAGE_TAIL}'\n",
    "    # 获取指标信息\n",
    "    bc_chemical_info = get_chemical_info(url, headers)\n",
    "    # 检测是否包含完整个批次数据\n",
    "    if bc_chemical_info[1] <= 50:\n",
    "        bc_chemical_info_list.extend(bc_chemical_info[0])\n",
    "    else:\n",
    "        print(f'{one_loop}批次数据获取得到{bc_chemical_info[1]}条，请检查!')\n",
    "        break"
   ]
  },
  {
   "cell_type": "code",
   "execution_count": null,
   "metadata": {},
   "outputs": [],
   "source": [
    "df_bc_chemical_info =pd.DataFrame(bc_chemical_info_list)\n",
    "df_bc_chemical_info.head(1)"
   ]
  },
  {
   "cell_type": "code",
   "execution_count": null,
   "metadata": {},
   "outputs": [],
   "source": [
    "df_bc_chemical_info.to_excel(os.path.join(save_path, \"df_bc_chemical_info.xlsx\"),index=False)"
   ]
  },
  {
   "cell_type": "code",
   "execution_count": null,
   "metadata": {},
   "outputs": [],
   "source": []
  },
  {
   "cell_type": "code",
   "execution_count": null,
   "metadata": {},
   "outputs": [],
   "source": []
  },
  {
   "cell_type": "code",
   "execution_count": null,
   "metadata": {},
   "outputs": [],
   "source": []
  },
  {
   "cell_type": "code",
   "execution_count": null,
   "metadata": {},
   "outputs": [],
   "source": []
  },
  {
   "cell_type": "code",
   "execution_count": null,
   "metadata": {},
   "outputs": [],
   "source": []
  },
  {
   "cell_type": "code",
   "execution_count": null,
   "metadata": {},
   "outputs": [],
   "source": []
  },
  {
   "cell_type": "code",
   "execution_count": null,
   "metadata": {},
   "outputs": [],
   "source": [
    "# 获取转码信息\n",
    "# 获取总的转码数量\n",
    "total_trans_num = get_trans_num(headers)\n",
    "# 计算需要循环的次数\n",
    "loop_tran_num = math.ceil(total_trans_num / 50)\n"
   ]
  },
  {
   "cell_type": "code",
   "execution_count": null,
   "metadata": {},
   "outputs": [],
   "source": [
    "# 测试信息\n",
    "trans_info_test = get_trans_info(1,headers)\n",
    "trans_info_test[0]"
   ]
  },
  {
   "cell_type": "code",
   "execution_count": null,
   "metadata": {},
   "outputs": [],
   "source": [
    "\n",
    "# 循环获取转码信息\n",
    "trans_info_list = []\n",
    "# 更新headers\n",
    "headers = update_cookie(headers)\n",
    "for one_loop in tqdm(range(0, loop_tran_num)):\n",
    "    # 获取转码信息\n",
    "    temp_trans_info = get_trans_info(one_loop+1, headers)\n",
    "    # 添加到列表\n",
    "    trans_info_list.extend(temp_trans_info)\n",
    "    # 随机休眠\n",
    "    # time.sleep(random.random())"
   ]
  },
  {
   "cell_type": "code",
   "execution_count": null,
   "metadata": {},
   "outputs": [],
   "source": [
    "df_trans_info = pd.DataFrame(trans_info_list)\n",
    "df_trans_info.head(1)"
   ]
  },
  {
   "cell_type": "code",
   "execution_count": null,
   "metadata": {},
   "outputs": [],
   "source": [
    "# 保存转码信息\n",
    "df_trans_info.to_excel(os.path.join(save_path, 'trans_info.xlsx'),index=False)"
   ]
  },
  {
   "cell_type": "markdown",
   "metadata": {},
   "source": [
    "# 检查heraders并更新"
   ]
  },
  {
   "cell_type": "code",
   "execution_count": null,
   "metadata": {},
   "outputs": [],
   "source": [
    "\n",
    "headers = update_cookie(headers)"
   ]
  },
  {
   "cell_type": "code",
   "execution_count": null,
   "metadata": {},
   "outputs": [],
   "source": [
    "headers"
   ]
  },
  {
   "cell_type": "code",
   "execution_count": null,
   "metadata": {},
   "outputs": [],
   "source": [
    "# 获取当前账户下的待审核和已审核编码，并写入文件\n",
    "# 更新headers\n",
    "headers = update_cookie(headers)\n",
    "audit_point_list = get_page_number(get_audit_num(headers),headers)\n",
    "wait_point_list = get_wait_page_number(get_wait_num(headers),headers)\n",
    "all_point = audit_point_list + wait_point_list\n",
    "# 提取编码\n",
    "loop_all_point = [list(item.keys())[0] for item in all_point]"
   ]
  },
  {
   "cell_type": "code",
   "execution_count": null,
   "metadata": {},
   "outputs": [],
   "source": [
    "json_save_path = os.path.join(save_path,f'poind_id_{len(all_point)}.json')\n",
    "# 写入JSON文件\n",
    "with open(json_save_path, 'w') as json_file:\n",
    "    json.dump(all_point, json_file, indent=4)\n",
    "# 读取原始JSON文件\n",
    "with open(json_save_path, 'r') as json_file:\n",
    "    data_dict = json.load(json_file)\n",
    "\n",
    "# 初始化字典，用于存储值为'1'的数据\n",
    "data_with_1 = {}\n",
    "# 遍历列表，每个元素都是一个字典\n",
    "for item_dict in data_dict:\n",
    "    for key, value in item_dict.items():\n",
    "        if value == '0':\n",
    "            pass\n",
    "        elif value == '1':\n",
    "            data_with_1[key] = value\n",
    "# 存储值为剖面样的数据到JSON文件\n",
    "with open(os.path.join(save_path,f'data_with_1_{len(data_with_1)}.json'), 'w') as json_file:\n",
    "    json.dump(data_with_1, json_file, indent=4)\n"
   ]
  },
  {
   "cell_type": "code",
   "execution_count": null,
   "metadata": {},
   "outputs": [],
   "source": [
    "len(all_point),len(wait_point_list),len(audit_point_list)"
   ]
  },
  {
   "cell_type": "code",
   "execution_count": null,
   "metadata": {},
   "outputs": [],
   "source": [
    "# 测试一个点位的基本信息\n",
    "base_info = get_base_info(loop_all_point[0],headers)\n",
    "base_info"
   ]
  },
  {
   "cell_type": "code",
   "execution_count": null,
   "metadata": {},
   "outputs": [],
   "source": [
    "# 获取基本信息\n",
    "# 更新headers\n",
    "headers = update_cookie(headers)\n",
    "base_info_list = []\n",
    "for one_point in tqdm(loop_all_point):\n",
    "    one_point_base_info = get_base_info(one_point,headers)['result']\n",
    "    # 随机休眠\n",
    "    time.sleep(random.random())\n",
    "    base_info_list.append(one_point_base_info)\n"
   ]
  },
  {
   "cell_type": "code",
   "execution_count": null,
   "metadata": {},
   "outputs": [],
   "source": [
    "df_base_info = pd.DataFrame(base_info_list)\n",
    "df_base_info.head(1)"
   ]
  },
  {
   "cell_type": "code",
   "execution_count": null,
   "metadata": {},
   "outputs": [],
   "source": [
    "# 保存基本信息\n",
    "df_base_info.to_excel(os.path.join(save_path,'base_info.xlsx'),index=False)"
   ]
  },
  {
   "cell_type": "code",
   "execution_count": null,
   "metadata": {},
   "outputs": [],
   "source": [
    "# 测试一个点位的图片信息\n",
    "img_info = get_img_info(loop_all_point[0],img_headers)\n",
    "img_info"
   ]
  },
  {
   "cell_type": "code",
   "execution_count": null,
   "metadata": {},
   "outputs": [],
   "source": [
    "# 获取图片链接信息\n",
    "# 更新headers\n",
    "img_headers = update_cookie(img_headers)\n",
    "img_info_list = []\n",
    "for one_point in tqdm(loop_all_point):\n",
    "    one_point_img_info = get_img_info(one_point,img_headers)['result']\n",
    "    # 为链接增加域名\n",
    "    prefix = BASE_NAME\n",
    "    updated_list = [{**item, 'wjlj': f\"{prefix}{item['wjlj']}\"} for item in one_point_img_info]\n",
    "    # 随机休眠\n",
    "    time.sleep(random.random())\n",
    "    img_info_list+=updated_list"
   ]
  },
  {
   "cell_type": "code",
   "execution_count": null,
   "metadata": {},
   "outputs": [],
   "source": [
    "df_img_info = pd.DataFrame(img_info_list)\n",
    "df_img_info.head(1)"
   ]
  },
  {
   "cell_type": "code",
   "execution_count": null,
   "metadata": {},
   "outputs": [],
   "source": [
    "# 保存媒体信息\n",
    "df_img_info.to_excel(os.path.join(save_path, 'img_info.xlsx'), index=False)"
   ]
  },
  {
   "cell_type": "code",
   "execution_count": null,
   "metadata": {},
   "outputs": [],
   "source": [
    "# 测试一个点位的立地调查信息\n",
    "ldtj_info = get_ldtj_info(loop_all_point[0],headers)\n",
    "ldtj_info"
   ]
  },
  {
   "cell_type": "code",
   "execution_count": null,
   "metadata": {},
   "outputs": [],
   "source": [
    "# 获取立地条件信息\n",
    "# 更新headers\n",
    "headers = update_cookie(headers)\n",
    "ldtj_info_list = []\n",
    "for one_point in tqdm(loop_all_point):\n",
    "    one_point_ldtj_info = get_ldtj_info(one_point,headers)['result']\n",
    "    ldtj_info_list.append(one_point_ldtj_info)\n",
    "    # 随机休眠\n",
    "    time.sleep(random.random())"
   ]
  },
  {
   "cell_type": "code",
   "execution_count": null,
   "metadata": {},
   "outputs": [],
   "source": [
    "df_ldtj_info = pd.DataFrame(ldtj_info_list)\n",
    "df_ldtj_info.head(1)"
   ]
  },
  {
   "cell_type": "code",
   "execution_count": null,
   "metadata": {},
   "outputs": [],
   "source": [
    "# 保存立地条件信息\n",
    "df_ldtj_info.to_excel(os.path.join(save_path,'ldtj_info.xlsx'),index=False)"
   ]
  },
  {
   "cell_type": "code",
   "execution_count": null,
   "metadata": {},
   "outputs": [],
   "source": [
    "# 测试一个点位的采土袋信息\n",
    "ctd_info = get_ctd_info(loop_all_point[0],headers)\n",
    "ctd_info"
   ]
  },
  {
   "cell_type": "code",
   "execution_count": null,
   "metadata": {},
   "outputs": [],
   "source": [
    "# 获取采土袋信息\n",
    "# 更新headers\n",
    "headers = update_cookie(headers)\n",
    "ctd_info_list = []\n",
    "for one_point in tqdm(loop_all_point):\n",
    "    one_point_ctd_info = get_ctd_info(one_point,headers)['result']\n",
    "    ctd_info_list+=one_point_ctd_info\n",
    "    # 随机休眠\n",
    "    time.sleep(random.random())"
   ]
  },
  {
   "cell_type": "code",
   "execution_count": null,
   "metadata": {},
   "outputs": [],
   "source": [
    "df_ctd_info = pd.DataFrame(ctd_info_list)\n",
    "df_ctd_info.head(1)"
   ]
  },
  {
   "cell_type": "code",
   "execution_count": null,
   "metadata": {},
   "outputs": [],
   "source": [
    "# 保存采土袋信息\n",
    "df_ctd_info.to_excel(os.path.join(save_path, 'ctd_info.xlsx'), index=False)"
   ]
  },
  {
   "cell_type": "code",
   "execution_count": null,
   "metadata": {},
   "outputs": [],
   "source": [
    "# 测试一个点位的施肥信息\n",
    "sf_info = get_sf_info(loop_all_point[0],headers)\n",
    "sf_info"
   ]
  },
  {
   "cell_type": "code",
   "execution_count": null,
   "metadata": {},
   "outputs": [],
   "source": [
    "# 获取施肥信息\n",
    "# 更新headers\n",
    "headers = update_cookie(headers)\n",
    "sf_info_list = []\n",
    "for one_point in tqdm(loop_all_point):\n",
    "    one_point_sf_info = get_sf_info(one_point,headers)['result']\n",
    "    sf_info_list+=one_point_sf_info\n",
    "    # 随机休眠\n",
    "    time.sleep(random.random())"
   ]
  },
  {
   "cell_type": "code",
   "execution_count": null,
   "metadata": {},
   "outputs": [],
   "source": [
    "df_sf_info = pd.DataFrame(sf_info_list)\n",
    "df_sf_info.head(1)"
   ]
  },
  {
   "cell_type": "code",
   "execution_count": null,
   "metadata": {},
   "outputs": [],
   "source": [
    "# 保存施肥信息\n",
    "df_sf_info.to_excel(os.path.join(save_path, 'sf_info.xlsx'), index=False)"
   ]
  },
  {
   "cell_type": "markdown",
   "metadata": {},
   "source": [
    "# 剖面信息"
   ]
  },
  {
   "cell_type": "code",
   "execution_count": null,
   "metadata": {},
   "outputs": [],
   "source": [
    "# 剖面点位信息\n",
    "# 读取原始JSON文件\n",
    "with open(os.path.join(save_path,f'data_with_1_{len(data_with_1)}.json'), 'r') as json_file:\n",
    "    pm_dict = json.load(json_file)\n",
    "pm_point_id = [_ for _,__ in pm_dict.items()]\n"
   ]
  },
  {
   "cell_type": "code",
   "execution_count": null,
   "metadata": {},
   "outputs": [],
   "source": [
    "# 测试剖面点位的信息\n",
    "pm_info = get_pm_info(pm_point_id[0],headers)\n",
    "pm_info"
   ]
  },
  {
   "cell_type": "code",
   "execution_count": null,
   "metadata": {},
   "outputs": [],
   "source": [
    "# 获取剖面信息\n",
    "# 更新headers\n",
    "headers = update_cookie(headers)\n",
    "pm_info_list = []\n",
    "for one_point in tqdm(pm_point_id):\n",
    "    one_point_pm_info = get_pm_info(one_point,headers)['result']\n",
    "    pm_info_list.append(one_point_pm_info)\n",
    "    # 随机休眠\n",
    "    time.sleep(random.random())"
   ]
  },
  {
   "cell_type": "code",
   "execution_count": null,
   "metadata": {},
   "outputs": [],
   "source": [
    "df_pm_info = pd.DataFrame(pm_info_list)\n",
    "df_pm_info.head(1)"
   ]
  },
  {
   "cell_type": "code",
   "execution_count": null,
   "metadata": {},
   "outputs": [],
   "source": [
    "# 保存剖面信息\n",
    "df_pm_info.to_excel(os.path.join(save_path, 'pm_info.xlsx'), index=False)"
   ]
  },
  {
   "cell_type": "code",
   "execution_count": null,
   "metadata": {},
   "outputs": [],
   "source": [
    "# 测试剖面点位发生层信息\n",
    "pm_fc_info = get_pmfc_info(pm_point_id[0],headers)\n",
    "pm_fc_info"
   ]
  },
  {
   "cell_type": "code",
   "execution_count": null,
   "metadata": {},
   "outputs": [],
   "source": [
    "# 获取剖面发生层信息\n",
    "# 更新headers\n",
    "headers = update_cookie(headers)\n",
    "pm_fc_info_list = []\n",
    "for one_point in tqdm(pm_point_id):\n",
    "    one_point_pm_fc_info = get_pmfc_info(one_point,headers)['result']\n",
    "    pm_fc_info_list+=one_point_pm_fc_info\n",
    "    # 随机休眠\n",
    "    time.sleep(random.random())"
   ]
  },
  {
   "cell_type": "code",
   "execution_count": null,
   "metadata": {},
   "outputs": [],
   "source": [
    "df_pm_fc_info = pd.DataFrame(pm_fc_info_list)\n",
    "df_pm_fc_info.head(1)"
   ]
  },
  {
   "cell_type": "code",
   "execution_count": null,
   "metadata": {},
   "outputs": [],
   "source": [
    "# 保存剖面发生层信息\n",
    "df_pm_fc_info.to_excel(os.path.join(save_path, 'pm_fc_info.xlsx'), index=False)"
   ]
  },
  {
   "cell_type": "markdown",
   "metadata": {},
   "source": [
    "# TODO"
   ]
  }
 ],
 "metadata": {
  "kernelspec": {
   "display_name": ".spidervenv",
   "language": "python",
   "name": "python3"
  },
  "language_info": {
   "codemirror_mode": {
    "name": "ipython",
    "version": 3
   },
   "file_extension": ".py",
   "mimetype": "text/x-python",
   "name": "python",
   "nbconvert_exporter": "python",
   "pygments_lexer": "ipython3",
   "version": "3.10.11"
  }
 },
 "nbformat": 4,
 "nbformat_minor": 2
}
