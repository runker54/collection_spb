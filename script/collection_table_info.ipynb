{
 "cells": [
  {
   "cell_type": "code",
   "execution_count": null,
   "metadata": {},
   "outputs": [],
   "source": [
    "import os\n",
    "import re\n",
    "import time\n",
    "from bs4 import BeautifulSoup\n",
    "import requests\n",
    "import json\n",
    "import datetime\n",
    "from selenium import webdriver\n",
    "from selenium.webdriver.chrome.options import Options\n",
    "from selenium.webdriver.common.by import By\n",
    "from selenium.webdriver.chrome.service import Service\n",
    "from selenium.webdriver.support.ui import WebDriverWait\n",
    "from selenium.webdriver.support import expected_conditions as EC\n",
    "from selenium.webdriver.support.ui import Select\n",
    "from selenium.common.exceptions import NoSuchElementException\n",
    "import random\n",
    "import pandas as pd"
   ]
  },
  {
   "cell_type": "code",
   "execution_count": null,
   "metadata": {
    "notebookRunGroups": {
     "groupValue": ""
    }
   },
   "outputs": [],
   "source": [
    "### 辅助函数\n",
    "# 获取当前已审核页面中的样点文本信息\n",
    "def get_point_text_info(driver,data:list):\n",
    "    \"\"\"获取当前页面的样点文本信息\"\"\"\n",
    "    # page_source 是您从selenium获取到的页面源代码\n",
    "    page_source = driver.page_source\n",
    "    # 使用 BeautifulSoup 解析 HTML\n",
    "    soup = BeautifulSoup(page_source, 'html.parser')\n",
    "    # 数据行都在一定的HTML结构内，例如在某个table或特定标签内\n",
    "    for row in soup.find_all('tr'):  # 假设每行数据都在一个<tr>标签内\n",
    "        # 通过选择class为ant-table-cell的<td>标签，并限制结果数量为17来获取前17个信息\n",
    "        cols = row.find_all('td', class_='ant-table-cell', limit=17)\n",
    "        if len(cols) == 17:  # 确保提取到了全部17个所需的列\n",
    "            data_row = {\n",
    "                '样点编号': cols[0].text.strip(),\n",
    "                '坐落单位名称': cols[1].text.strip(),\n",
    "                '样点类别': cols[2].text.strip(),\n",
    "                '采样类型': cols[3].text.strip(),\n",
    "                '土壤类型': cols[4].text.strip(), \n",
    "                '土地利用类型': cols[5].text.strip(),\n",
    "                '是否水团样': cols[6].text.strip(),\n",
    "                '是否盐碱地': cols[7].text.strip(),\n",
    "                '布设位置经度': cols[8].text.strip(),\n",
    "                '布设位置纬度': cols[9].text.strip(),\n",
    "                '采样位置经度': cols[10].text.strip(),\n",
    "                '采样位置纬度': cols[11].text.strip(),\n",
    "                '是否修正': cols[12].text.strip(),\n",
    "                '当前节点': cols[13].text.strip(),\n",
    "                '调查时间': cols[14].text.strip(),\n",
    "                '调查单位': cols[15].text.strip(),\n",
    "                '调查人': cols[16].text.strip(),\n",
    "                # '操作' 列被我们有意地忽略了，因为它是“详情”按钮\n",
    "            }\n",
    "            data.append(data_row)\n",
    "\n",
    "# 获取当前未审核页面中的样点文本信息\n",
    "def get_point_text_info_not(driver,data:list):\n",
    "    \"\"\"获取当前页面的样点文本信息\"\"\"\n",
    "    # page_source 是您从selenium获取到的页面源代码\n",
    "    page_source = driver.page_source\n",
    "    # 使用 BeautifulSoup 解析 HTML\n",
    "    soup = BeautifulSoup(page_source, 'html.parser')\n",
    "    # 数据行都在一定的HTML结构内，例如在某个table或特定标签内\n",
    "    for row in soup.find_all('tr'):  # 假设每行数据都在一个<tr>标签内\n",
    "        # 通过选择class为ant-table-cell的<td>标签，并限制结果数量为17来获取前17个信息\n",
    "        cols = row.find_all('td', class_='ant-table-cell', limit=18)\n",
    "        if len(cols) == 18:  # 确保提取到了全部17个所需的列\n",
    "            data_row = {\n",
    "                '样点编号': cols[1].text.strip(),\n",
    "                '坐落单位名称': cols[2].text.strip(),\n",
    "                '样点类别': cols[3].text.strip(),\n",
    "                '采样类型': cols[4].text.strip(),\n",
    "                '土壤类型': cols[5].text.strip(), \n",
    "                '土地利用类型': cols[6].text.strip(),\n",
    "                '是否水团样': cols[7].text.strip(),\n",
    "                '是否盐碱地': cols[8].text.strip(),\n",
    "                '布设位置经度': cols[9].text.strip(),\n",
    "                '布设位置纬度': cols[10].text.strip(),\n",
    "                '采样位置经度': cols[11].text.strip(),\n",
    "                '采样位置纬度': cols[12].text.strip(),\n",
    "                '是否修正': cols[13].text.strip(),\n",
    "                '当前节点': cols[14].text.strip(),\n",
    "                '调查时间': cols[15].text.strip(),\n",
    "                '调查单位': cols[16].text.strip(),\n",
    "                '调查人': cols[17].text.strip(),\n",
    "                # '操作' 列被我们有意地忽略了，因为它是“详情”按钮\n",
    "            }\n",
    "            data.append(data_row)\n",
    "# 获取待审核页面内容\n",
    "def get_pending_approval_page_content(driver,data):\n",
    "    \"\"\"获取待审核页面表格内容\"\"\"\n",
    "    # 针对待审核数据\n",
    "    # 初始化翻页次数计数器\n",
    "    page_count = 0\n",
    "    while True:\n",
    "        try:\n",
    "            # 尝试查找“下一页”按钮，这里使用了CSS选择器，您也可以根据实际情况使用XPath或其他选择器\n",
    "            next_page_button = driver.find_element(By.CSS_SELECTOR, \"li.ant-pagination-next[title='下一页']\")\n",
    "            # 检查“下一页”按钮是否被禁用（即已经到达最后一页）\n",
    "            # 这一步是可选的，取决于页面的实际行为\n",
    "            if 'ant-pagination-disabled' in next_page_button.get_attribute('class'):\n",
    "                print(\"已到达最后一页。\")\n",
    "                # 采集最后一页信息\n",
    "                get_point_text_info_not(driver,data)\n",
    "                break\n",
    "            # 采集信息\n",
    "            get_point_text_info_not(driver,data)\n",
    "            # 点击“下一页”按钮\n",
    "            next_page_button.click()\n",
    "            # 增加翻页计数\n",
    "            page_count += 1\n",
    "        except NoSuchElementException:\n",
    "            # 如果找不到“下一页”按钮，说明已经到达最后一页\n",
    "            print(\"已经到达最后一页，无法继续翻页。\")\n",
    "            break\n",
    "        except Exception as e:\n",
    "            # 处理其他可能的异常\n",
    "            print(f\"在翻页过程中发生错误：{e}\")\n",
    "            break\n",
    "        time.sleep(3)\n",
    "    print(f\"总共翻页次数：{page_count}\")\n",
    "\n",
    "# 获取已审核页面内容\n",
    "def get_approved_page_content(driver,data):\n",
    "    \"\"\"获取已审核页面表格内容\"\"\"\n",
    "    # 针对已审核数据\n",
    "    # 初始化翻页次数计数器\n",
    "    page_count = 0\n",
    "    while True:\n",
    "        try:\n",
    "            # 尝试查找“下一页”按钮，这里使用了CSS选择器，您也可以根据实际情况使用XPath或其他选择器\n",
    "            next_page_button = driver.find_element(By.CSS_SELECTOR, \"li.ant-pagination-next[title='下一页']\")\n",
    "            # 检查“下一页”按钮是否被禁用（即已经到达最后一页）\n",
    "            # 这一步是可选的，取决于页面的实际行为\n",
    "            if 'ant-pagination-disabled' in next_page_button.get_attribute('class'):\n",
    "                print(\"已到达最后一页。\")\n",
    "                # 采集最后一页信息\n",
    "                get_point_text_info(driver,data)\n",
    "                break\n",
    "            # 采集信息\n",
    "            get_point_text_info(driver,data)\n",
    "            # 点击“下一页”按钮\n",
    "            next_page_button.click()\n",
    "            # 增加翻页计数\n",
    "            page_count += 1\n",
    "        except NoSuchElementException:\n",
    "            # 如果找不到“下一页”按钮，说明已经到达最后一页\n",
    "            print(\"已经到达最后一页，无法继续翻页。\")\n",
    "            break\n",
    "        except Exception as e:\n",
    "            # 处理其他可能的异常\n",
    "            print(f\"在翻页过程中发生错误：{e}\")\n",
    "            break\n",
    "        time.sleep(3)\n",
    "    print(f\"总共翻页次数：{page_count}\")\n",
    "\n",
    "\n",
    "\n",
    "# 跳转到下一页\n",
    "def step_next_page(driver):\n",
    "    \"\"\"跳转下一页\"\"\"\n",
    "    # 使用类名和属性选择器\n",
    "    next_page_button = driver.find_element(By.CSS_SELECTOR, \"li.ant-pagination-next[title='下一页']\")\n",
    "    next_page_button.click()\n",
    "    # # 使用XPath\n",
    "    # next_page_button = driver.find_element(By.XPATH, \"//li[@class='ant-pagination-next' and @title='下一页']\")\n",
    "    # next_page_button.click()\n",
    "    # # 使用类名\n",
    "    # next_page_button = driver.find_element(By.CLASS_NAME, \"ant-pagination-next\")\n",
    "    # next_page_button.click()\n",
    "\n",
    "\n"
   ]
  },
  {
   "cell_type": "code",
   "execution_count": null,
   "metadata": {},
   "outputs": [],
   "source": [
    "# 配置浏览器\n",
    "# chrome.exe --remote-debugging-port=9999 --user-data-dir=\"D:\\Selenium\\AutomationProfile\"\n",
    "# chrome.exe --remote-debugging-port=9999 --user-data-dir=\"D:\\Program Files\\ChromeDir\"\n",
    "options = webdriver.ChromeOptions()\n",
    "options.add_experimental_option(\"debuggerAddress\", \"localhost:9999\")\n",
    "driver = webdriver.Chrome(options=options)\n",
    "driver.implicitly_wait(20)"
   ]
  },
  {
   "cell_type": "code",
   "execution_count": null,
   "metadata": {},
   "outputs": [],
   "source": [
    "# 初始化数据收集容器\n",
    "data = []"
   ]
  },
  {
   "cell_type": "code",
   "execution_count": null,
   "metadata": {},
   "outputs": [],
   "source": [
    "# 获取待审核数据\n",
    "get_pending_approval_page_content(driver,data)"
   ]
  },
  {
   "cell_type": "code",
   "execution_count": null,
   "metadata": {},
   "outputs": [],
   "source": [
    "# 获取已审核数据\n",
    "get_approved_page_content(driver,data)"
   ]
  },
  {
   "cell_type": "code",
   "execution_count": null,
   "metadata": {},
   "outputs": [],
   "source": [
    "df = pd.DataFrame(data)\n",
    "df.size/17\n",
    "# 去除重复数据\n",
    "df = df.drop_duplicates()\n",
    "df.size/17"
   ]
  },
  {
   "cell_type": "code",
   "execution_count": null,
   "metadata": {},
   "outputs": [],
   "source": [
    "df.head()"
   ]
  },
  {
   "cell_type": "code",
   "execution_count": null,
   "metadata": {},
   "outputs": [],
   "source": [
    "# 采集地区\n",
    "collection_name = \"lstzmj\"\n",
    "root_path = r\"F:\\collection_spb\""
   ]
  },
  {
   "cell_type": "code",
   "execution_count": null,
   "metadata": {},
   "outputs": [],
   "source": [
    "# 创建对应的文件夹\n",
    "dir_path = os.path.join(root_path,collection_name)\n",
    "# 检查路径是否存在，否则便创建\n",
    "if not os.path.exists(dir_path):\n",
    "    os.makedirs(dir_path)\n",
    "else:\n",
    "    print(\"文件夹已存在\")"
   ]
  },
  {
   "cell_type": "code",
   "execution_count": null,
   "metadata": {},
   "outputs": [],
   "source": [
    "# 创建对应的表格信息保存文件夹\n",
    "table_path = os.path.join(dir_path,\"table_info\")\n",
    "# 检查路径是否存在，否则便创建\n",
    "if not os.path.exists(table_path):\n",
    "    os.makedirs(table_path)\n",
    "else:\n",
    "    print(\"文件夹已存在\")"
   ]
  },
  {
   "cell_type": "code",
   "execution_count": null,
   "metadata": {},
   "outputs": [],
   "source": [
    "df.to_excel(os.path.join(table_path,\"table_info.xlsx\"),index=False)"
   ]
  },
  {
   "cell_type": "code",
   "execution_count": null,
   "metadata": {},
   "outputs": [],
   "source": []
  },
  {
   "cell_type": "code",
   "execution_count": null,
   "metadata": {},
   "outputs": [],
   "source": [
    "# 定位包含详情按钮的所有<tr>元素\n",
    "rows = driver.find_elements(By.CSS_SELECTOR, \"tr.ant-table-row\")"
   ]
  },
  {
   "cell_type": "code",
   "execution_count": null,
   "metadata": {},
   "outputs": [],
   "source": [
    "rows"
   ]
  },
  {
   "cell_type": "code",
   "execution_count": null,
   "metadata": {},
   "outputs": [],
   "source": [
    "# 遍历每个<tr>元素\n",
    "for row in rows:\n",
    "    # 在每个<tr>元素中定位详情按钮\n",
    "    detail_button = row.find_element(By.CSS_SELECTOR, \"button.ant-btn.ant-btn-link.ant-btn-lg\")\n",
    "    \n",
    "    # 点击详情按钮\n",
    "    detail_button.click()\n",
    "    \n",
    "    # 处理详情页内容，可能需要等待内容加载\n",
    "    time.sleep(2)  # 根据实际情况调整等待时间\n",
    "\n",
    "    # 定位返回按钮\n",
    "    back_button = driver.find_element(By.CSS_SELECTOR, \"button.ant-btn\")\n",
    "\n",
    "    # 点击返回按钮\n",
    "    back_button.click()\n"
   ]
  },
  {
   "cell_type": "code",
   "execution_count": null,
   "metadata": {},
   "outputs": [],
   "source": [
    "image_elements = driver.find_elements(By.TAG_NAME, \"img\")"
   ]
  },
  {
   "cell_type": "code",
   "execution_count": null,
   "metadata": {},
   "outputs": [],
   "source": [
    "image_elements"
   ]
  },
  {
   "cell_type": "code",
   "execution_count": null,
   "metadata": {},
   "outputs": [],
   "source": [
    "# 提取所有图片的src属性，即它们的链接\n",
    "image_urls = [image.get_attribute('src') for image in image_elements]\n",
    "\n",
    "# 输出图片链接\n",
    "for url in image_urls:\n",
    "    print(url)"
   ]
  },
  {
   "cell_type": "code",
   "execution_count": null,
   "metadata": {},
   "outputs": [],
   "source": [
    "images_info = driver.execute_script(\"\"\"\n",
    "    var images = [];\n",
    "    var imageElements = document.querySelectorAll('div.card-box div.ant-image img');\n",
    "    imageElements.forEach(function(img) {\n",
    "        var labelElement = img.nextElementSibling;\n",
    "        var label = labelElement ? labelElement.innerText : '';\n",
    "        images.push({'url': img.src, 'label': label});\n",
    "    });\n",
    "    return images;\n",
    "\"\"\")\n",
    "for info in images_info:\n",
    "    print(info)\n"
   ]
  },
  {
   "cell_type": "code",
   "execution_count": null,
   "metadata": {},
   "outputs": [],
   "source": [
    "import re\n",
    "html_source = driver.page_source\n",
    "pattern = re.compile(r'<div class=\"ant-image\"[^>]*><img[^>]+src=\"([^\"]+)\"[^>]*>.*?<div class=\"img-text\"[^>]*>([^<]+)</div>', re.DOTALL)\n",
    "matches = pattern.findall(html_source)\n",
    "for match in matches:\n",
    "    print({'url': match[0], 'label': match[1]})\n"
   ]
  },
  {
   "cell_type": "code",
   "execution_count": null,
   "metadata": {},
   "outputs": [],
   "source": [
    "\n",
    "# 获取“下一张”按钮\n",
    "next_button = driver.find_element(By.CSS_SELECTOR, 'div.swiper-button-next')\n",
    "\n",
    "images_info = []\n",
    "num_images = len(driver.find_elements(By.CSS_SELECTOR, 'div.card-box div.ant-image img'))\n",
    "\n",
    "# 遍历图片集合\n",
    "for _ in range(num_images):\n",
    "    # 等待图片和标签信息更新\n",
    "    time.sleep(1)  # 根据实际情况调整等待时间\n",
    "\n",
    "    # 获取当前显示的图片URL和标签信息\n",
    "    img = driver.find_element(By.CSS_SELECTOR, 'div.card-box div.ant-image img')\n",
    "    labelDiv = driver.find_element(By.CSS_SELECTOR, \"div.green-area\")\n",
    "    labelType = labelDiv.find_element(By.CSS_SELECTOR, \"div.photo > div:first-child\").text.replace('照片类型: ', '').strip()\n",
    "    labelAngle = labelDiv.find_element(By.CSS_SELECTOR, \"div.photo > div:last-child\").text.replace('拍摄角度: ', '').strip()\n",
    "    labelTime = labelDiv.find_element(By.CSS_SELECTOR, \".time-area\").text.replace('拍摄时间: ', '').strip()\n",
    "\n",
    "    images_info.append({\n",
    "        'url': img.get_attribute('src'),\n",
    "        'label': {'type': labelType, 'angle': labelAngle, 'time': labelTime}\n",
    "    })\n",
    "\n",
    "    # 点击“下一张”按钮\n",
    "    try:\n",
    "        next_button.click()\n",
    "    except:\n",
    "        pass\n",
    "\n",
    "# # 输出获取到的图片信息\n",
    "# for info in images_info:\n",
    "#     print(info)"
   ]
  },
  {
   "cell_type": "code",
   "execution_count": null,
   "metadata": {},
   "outputs": [],
   "source": [
    "\n",
    "# 等待并点击下拉选择的触发器以展开选项列表\n",
    "dropdown_trigger = WebDriverWait(driver, 10).until(\n",
    "    EC.element_to_be_clickable((By.CSS_SELECTOR, 'div.ant-select-selector'))\n",
    ")\n",
    "dropdown_trigger.click()\n",
    "\n",
    "# 增加一些等待时间，确保下拉列表的选项加载完成\n",
    "\n",
    "# 等待并定位到特定的选项（例如“混合点照片”）\n",
    "option_to_select = WebDriverWait(driver, 10).until(\n",
    "    EC.visibility_of_element_located((By.XPATH, \"//div[contains(@class, 'ant-select-item-option-content') and contains(text(), '混样点照片')]\"))\n",
    ")\n",
    "option_to_select.click()\n"
   ]
  },
  {
   "cell_type": "code",
   "execution_count": null,
   "metadata": {},
   "outputs": [],
   "source": [
    "\n",
    "# 定位所有包含文本的元素\n",
    "text_elements = driver.find_elements(By.XPATH, '//*[text()]')\n",
    "\n",
    "# # 提取并打印每个元素的文本\n",
    "# for element in text_elements:\n",
    "#     print(element.text)"
   ]
  }
 ],
 "metadata": {
  "kernelspec": {
   "display_name": ".spidervenv",
   "language": "python",
   "name": "python3"
  },
  "language_info": {
   "codemirror_mode": {
    "name": "ipython",
    "version": 3
   },
   "file_extension": ".py",
   "mimetype": "text/x-python",
   "name": "python",
   "nbconvert_exporter": "python",
   "pygments_lexer": "ipython3",
   "version": "3.10.11"
  }
 },
 "nbformat": 4,
 "nbformat_minor": 2
}
