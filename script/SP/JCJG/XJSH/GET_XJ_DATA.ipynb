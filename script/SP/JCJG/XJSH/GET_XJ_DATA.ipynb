{
 "cells": [
  {
   "cell_type": "code",
   "execution_count": null,
   "metadata": {},
   "outputs": [],
   "source": [
    "import os\n",
    "import re\n",
    "import time\n",
    "import random\n",
    "import math\n",
    "import requests\n",
    "import json\n",
    "import pandas as pd\n",
    "from tqdm import tqdm\n",
    "from datetime import datetime\n",
    "from dotenv import load_dotenv\n",
    "from selenium import webdriver\n",
    "from selenium.webdriver.chrome.options import Options\n",
    "from selenium.webdriver.common.by import By\n",
    "from selenium.webdriver.chrome.service import Service\n",
    "from selenium.webdriver.support.ui import WebDriverWait\n",
    "from selenium.webdriver.support import expected_conditions as EC\n",
    "from selenium.webdriver.support.ui import Select\n",
    "from selenium.common.exceptions import NoSuchElementException\n",
    "from selenium.webdriver.common.action_chains import ActionChains\n",
    "from selenium.webdriver.common.desired_capabilities import DesiredCapabilities"
   ]
  },
  {
   "cell_type": "code",
   "execution_count": null,
   "metadata": {},
   "outputs": [],
   "source": [
    "# 读取需要的环境变量\n",
    "load_dotenv()\n",
    "\n",
    "# 样品查询\n",
    "XJYPCX_URL = os.getenv('XJYPCX_URL')\n",
    "\n",
    "# 样品审核\n",
    "XJ_PAGE_URL = os.getenv('XJ_PAGE_URL')\n",
    "\n",
    "# 状态查询\n",
    "XJ_STATUS_URL = os.getenv('XJ_STATUS_URL')\n",
    "\n",
    "\n",
    "# headers info \n",
    "headers = {\n",
    "    \"Accept\": os.getenv(\"ACCEPT\"),\n",
    "    \"Accept-Encoding\": os.getenv(\"ACCEPT_ENCODING\"),\n",
    "    \"Accept-Language\": os.getenv(\"ACCEPT_LANGUAGE\"),\n",
    "    \"Authorization\": os.getenv(\"AUTHORIZATION\"),\n",
    "    \"Connection\": os.getenv(\"CONNECTION\"),\n",
    "    \"Cookie\": os.getenv(\"COOKIE\"),\n",
    "    \"Host\": os.getenv(\"HOST\"),\n",
    "    \"Referer\": os.getenv(\"REFERER\"),\n",
    "    \"Sec-Ch-Ua\": os.getenv(\"SEC_CH_UA\"),\n",
    "    \"Sec-Ch-Ua-Mobile\": os.getenv(\"SEC_CH_UA_MOBILE\"),\n",
    "    \"Sec-Ch-Ua-Platform\": os.getenv(\"SEC_CH_UA_PLATFORM\"),\n",
    "    \"Sec-Fetch-Dest\": os.getenv(\"SEC_FETCH_DEST\"),\n",
    "    \"Sec-Fetch-Mode\": os.getenv(\"SEC_FETCH_MODE\"),\n",
    "    \"Sec-Fetch-Site\": os.getenv(\"SEC_FETCH_SITE\"),\n",
    "    \"User-Agent\": os.getenv(\"USER_AGENT\")}\n"
   ]
  },
  {
   "cell_type": "code",
   "execution_count": null,
   "metadata": {},
   "outputs": [],
   "source": [
    "# 获取当前页面cookie信息\n",
    "def get_cookie():\n",
    "    \"\"\"获取当前页面cookie信息\"\"\"\n",
    "    # 使用JavaScript获取Cookie\n",
    "    cookie_script = \"\"\"\n",
    "    return document.cookie;\n",
    "    \"\"\"\n",
    "    cookie_value = driver.execute_script(cookie_script)\n",
    "    return cookie_value\n",
    "# 更新cookie信息\n",
    "def update_cookie(headers):\n",
    "    \"\"\"更新cookie信息\"\"\"\n",
    "    # 获取当前页面cookie信息\n",
    "    cookie_value = get_cookie()\n",
    "    # 更新headers\n",
    "    headers.update({\"Cookie\": cookie_value})\n",
    "    return headers\n",
    "# 获取各个状态的数量\n",
    "def get_status_number(headers,yplx,xzqdm):\n",
    "    \"\"\"查询各个状态的样品数量\"\"\"    \n",
    "    url=XJ_STATUS_URL\n",
    "    # 请根据实际情况替换下面的data字典\n",
    "    url = f\"{url}?yplx={yplx}&xzqdm={xzqdm}\"\n",
    "    # 发送get请求\n",
    "    response = requests.get(url, headers=headers)\n",
    "    # 检查响应状态码\n",
    "    if response.status_code == 200:\n",
    "        # 解析响应内容\n",
    "        data = response.json()\n",
    "        return data['result']\n",
    "    else:\n",
    "        print(\"请求失败，状态码：\", response.status_code)\n",
    "        return False\n",
    "# 获取每一页的内容\n",
    "def get_one_page_data(headers,qxdm,yplx,shzt):\n",
    "    \"\"\"获取指定地区、样品类型、审核状态的数据\"\"\"\n",
    "    url = XJ_PAGE_RUL\n",
    "    result_list = []\n",
    "    data_dict = {\n",
    "        \"pageNum\": 1,\n",
    "        \"pageSize\": 50,\n",
    "        \"xzqdm\": f\"{qxdm}\",\n",
    "        \"yplx\": f\"{yplx}\",\n",
    "        \"shzt\": f\"{shzt}\",\n",
    "        \"expressions\": []\n",
    "        }\n",
    "    # 获取总页数\n",
    "    page_response = requests.post(url=url, headers=headers, json=data_dict)\n",
    "    page_result = page_response.json()\n",
    "    page_num = page_result['result']['pages']\n",
    "    for i in range(1, page_num + 1):\n",
    "        data_dict['pageNum'] = int(i)\n",
    "        one_list_response = requests.post(url=url, headers=headers, json=data_dict)\n",
    "        one_list = one_list_response.json()['result']['records']\n",
    "        result_list += one_list\n",
    "    return result_list\n",
    "def get_all_data(headers,xzqdm):\n",
    "    \"\"\"获取指定区域的所有数据\"\"\"\n",
    "    url = XJYPCX_URL\n",
    "    result_list = []\n",
    "    params = {\n",
    "        'pageNum': 1, # 页码\n",
    "        'pageSize': 50, # 每页显示数量\n",
    "        'xzqdm': f'{xzqdm}', # 行政区划代码\n",
    "    }\n",
    "    # 发送GET请求\n",
    "    response = requests.get(url, headers=headers, params=params)\n",
    "    # 检查响应状态码\n",
    "    if response.status_code == 200:\n",
    "        # 解析响应内容\n",
    "        data = response.json()\n",
    "        # 获取有多少页\n",
    "        page_num = data['result']['pages']\n",
    "        # 循环获取每一页的编码\n",
    "        for i in range(1, page_num + 1):\n",
    "            params['pageNum'] = i\n",
    "            response = requests.get(url=url, headers=headers, params=params)\n",
    "            data = response.json()\n",
    "            result_list += data['result']['records']\n",
    "        return result_list\n",
    "# 获取所有内容\n",
    "def get_today_date():\n",
    "    \"\"\"获取当天日期\"\"\"\n",
    "    today = datetime.today()\n",
    "    return today.strftime(\"%Y%m%d\")\n",
    "# 获取文件路径\n",
    "def find_file_with_string(path, string):\n",
    "    for root, dirs, files in os.walk(path):\n",
    "        for file in files:\n",
    "            if string in file:\n",
    "                return os.path.join(root, file)\n",
    "    return None\n",
    "# 删除文件\n",
    "def delete_files(file_path):\n",
    "    if not file_path:\n",
    "        print(\"列表为空！\")\n",
    "        return\n",
    "        \n",
    "    for path in file_path:\n",
    "        try:\n",
    "            if os.path.exists(path):\n",
    "                os.remove(path)\n",
    "                print(f\"文件 {path} 删除成功！\")\n",
    "            else:\n",
    "                print(f\"文件 {path} 不存在！\")\n",
    "        except Exception as e:\n",
    "            print(f\"删除文件 {path} 时出错: {e}\")"
   ]
  },
  {
   "cell_type": "code",
   "execution_count": null,
   "metadata": {},
   "outputs": [],
   "source": [
    "# 配置浏览器\n",
    "# chrome.exe --remote-debugging-port=9999 --user-data-dir=\"D:\\Selenium\\AutomationProfile\"\n",
    "# chrome.exe --remote-debugging-port=9999 --user-data-dir=\"D:\\Program Files\\ChromeDir\"\n",
    "options = webdriver.ChromeOptions()\n",
    "options.add_experimental_option(\"debuggerAddress\", \"localhost:9998\")\n",
    "driver = webdriver.Chrome(options=options)\n",
    "\n",
    "driver.implicitly_wait(60)"
   ]
  },
  {
   "cell_type": "code",
   "execution_count": null,
   "metadata": {},
   "outputs": [],
   "source": [
    "# 保存路径\n",
    "save_path = r\"F:\\collection_spb_info\\XJSH\\SB\"\n",
    "# 如果没有该文件夹，则创建\n",
    "if not os.path.exists(save_path):\n",
    "    os.makedirs(save_path)"
   ]
  },
  {
   "cell_type": "code",
   "execution_count": null,
   "metadata": {},
   "outputs": [],
   "source": [
    "\n",
    "headers = update_cookie(headers)"
   ]
  },
  {
   "cell_type": "code",
   "execution_count": null,
   "metadata": {},
   "outputs": [],
   "source": [
    "# 查看状态数量(示例) yplx=1 表层  yplx=2 剖面 yplx=3 水团\n",
    "get_status_number(headers=headers,yplx=1,xzqdm='522623')"
   ]
  },
  {
   "cell_type": "code",
   "execution_count": null,
   "metadata": {},
   "outputs": [],
   "source": [
    "# 获取指定区域、样品类型、审核状态数据\n",
    "# get_one_page_data(headers=headers,qxdm='522701',yplx='1',shzt='0')"
   ]
  },
  {
   "cell_type": "code",
   "execution_count": null,
   "metadata": {},
   "outputs": [],
   "source": [
    "# 获取指定区域的全部数据\n",
    "# get_all_data(headers=headers,xzqdm='522701')"
   ]
  },
  {
   "cell_type": "code",
   "execution_count": null,
   "metadata": {},
   "outputs": [],
   "source": [
    "result_list = get_all_data(headers=headers,xzqdm='510104')"
   ]
  },
  {
   "cell_type": "code",
   "execution_count": null,
   "metadata": {},
   "outputs": [],
   "source": [
    "result_list"
   ]
  },
  {
   "cell_type": "code",
   "execution_count": null,
   "metadata": {},
   "outputs": [],
   "source": [
    "# 保存基本信息\n",
    "df_base_info =pd.DataFrame(result_list)\n"
   ]
  },
  {
   "cell_type": "code",
   "execution_count": null,
   "metadata": {},
   "outputs": [],
   "source": [
    "df_base_info"
   ]
  },
  {
   "cell_type": "code",
   "execution_count": null,
   "metadata": {},
   "outputs": [],
   "source": [
    "df_base_info.sample(1)"
   ]
  },
  {
   "cell_type": "code",
   "execution_count": null,
   "metadata": {},
   "outputs": [],
   "source": [
    "df_base_info.to_excel(os.path.join(save_path,f'all_info_{get_today_date()}_{len(result_list)}.xlsx'),index=False)"
   ]
  }
 ],
 "metadata": {
  "kernelspec": {
   "display_name": "spiderenv",
   "language": "python",
   "name": "python3"
  },
  "language_info": {
   "codemirror_mode": {
    "name": "ipython",
    "version": 3
   },
   "file_extension": ".py",
   "mimetype": "text/x-python",
   "name": "python",
   "nbconvert_exporter": "python",
   "pygments_lexer": "ipython3",
   "version": "3.10.11"
  }
 },
 "nbformat": 4,
 "nbformat_minor": 2
}
