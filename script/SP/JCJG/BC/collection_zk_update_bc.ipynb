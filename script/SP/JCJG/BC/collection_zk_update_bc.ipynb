{
 "cells": [
  {
   "cell_type": "code",
   "execution_count": null,
   "metadata": {},
   "outputs": [],
   "source": [
    "import os\n",
    "import re\n",
    "import time\n",
    "import random\n",
    "import math\n",
    "import requests\n",
    "import json\n",
    "import pandas as pd\n",
    "from tqdm import tqdm\n",
    "from dotenv import load_dotenv\n",
    "from selenium import webdriver\n",
    "from selenium.webdriver.chrome.options import Options\n",
    "from selenium.webdriver.common.by import By\n",
    "from selenium.webdriver.chrome.service import Service\n",
    "from selenium.webdriver.support.ui import WebDriverWait\n",
    "from selenium.webdriver.support import expected_conditions as EC\n",
    "from selenium.webdriver.support.ui import Select\n",
    "from selenium.common.exceptions import NoSuchElementException\n",
    "from selenium.webdriver.common.action_chains import ActionChains\n",
    "from selenium.webdriver.common.desired_capabilities import DesiredCapabilities"
   ]
  },
  {
   "cell_type": "code",
   "execution_count": null,
   "metadata": {},
   "outputs": [],
   "source": [
    "# 读取需要的环境变量\n",
    "load_dotenv()\n",
    "# link info\n",
    "# 样品检测信息\n",
    "ZMJL_PAGE = os.getenv('ZMJL_PAGE')\n",
    "ZMJL_PAGE_TAIL = os.getenv('ZMJL_PAGE_TAIL')\n",
    "\n",
    "# 表层样品\n",
    "BC_PCH_DSH_URL = os.getenv('BC_PCH_DSH_URL')\n",
    "BC_PCH_YSH_URL = os.getenv('BC_PCH_YSH_URL')\n",
    "\n",
    "BC_PCH_DSH_PAGE_URL = os.getenv('BC_PCH_DSH_PAGE_URL')\n",
    "BC_PCH_YSH_PAGE_URL = os.getenv('BC_PCH_YSH_PAGE_URL')\n",
    "BC_PCH_PAGE_URL_TAIL = os.getenv('BC_PCH_PAGE_URL_TAIL')\n",
    "\n",
    "# 剖面样品\n",
    "\n",
    "PM_PCH_DSH_URL = os.getenv('PM_PCH_DSH_URL')\n",
    "PM_PCH_YSH_URL = os.getenv('PM_PCH_YSH_URL')\n",
    "\n",
    "PM_PCH_DSH_PAGE_URL = os.getenv('PM_PCH_DSH_PAGE_URL')\n",
    "PM_PCH_YSH_PAGE_URL = os.getenv('PM_PCH_YSH_PAGE_URL')\n",
    "PM_PCH_PAGE_URL_TAIL = os.getenv('PM_PCH_PAGE_URL_TAIL')\n",
    "\n",
    "# 水团样品\n",
    "ST_PCH_DSH_URL = os.getenv('ST_PCH_DSH_URL')\n",
    "ST_PCH_YSH_URL = os.getenv('ST_PCH_YSH_URL')\n",
    "\n",
    "ST_PCH_DSH_PAGE_URL = os.getenv('ST_PCH_DSH_PAGE_URL')\n",
    "ST_PCH_YSH_PAGE_URL = os.getenv('ST_PCH_YSH_PAGE_URL')\n",
    "ST_PCH_DSH_PAGE_URL_TAIL = os.getenv('ST_PCH_DSH_PAGE_URL_TAIL')\n",
    "\n",
    "# 检测结果\n",
    "JCJG_WLZB_PAGE = os.getenv('JCJG_WLZB_PAGE') \n",
    "JCJG_HXZB_PAGE = os.getenv('JCJG_HXZB_PAGE') \n",
    "JCJG_PAGE_MID = os.getenv('JCJG_PAGE_MID')\n",
    "JCJG_PAGE_TAIL = os.getenv('JCJG_PAGE_TAIL')\n",
    "# headers info \n",
    "headers = {\n",
    "    \"Accept\": os.getenv(\"ACCEPT\"),\n",
    "    \"Accept-Encoding\": os.getenv(\"ACCEPT_ENCODING\"),\n",
    "    \"Accept-Language\": os.getenv(\"ACCEPT_LANGUAGE\"),\n",
    "    \"Authorization\": os.getenv(\"AUTHORIZATION\"),\n",
    "    \"Connection\": os.getenv(\"CONNECTION\"),\n",
    "    \"Cookie\": os.getenv(\"COOKIE\"),\n",
    "    \"Host\": os.getenv(\"HOST\"),\n",
    "    \"Referer\": os.getenv(\"REFERER\"),\n",
    "    \"Sec-Ch-Ua\": os.getenv(\"SEC_CH_UA\"),\n",
    "    \"Sec-Ch-Ua-Mobile\": os.getenv(\"SEC_CH_UA_MOBILE\"),\n",
    "    \"Sec-Ch-Ua-Platform\": os.getenv(\"SEC_CH_UA_PLATFORM\"),\n",
    "    \"Sec-Fetch-Dest\": os.getenv(\"SEC_FETCH_DEST\"),\n",
    "    \"Sec-Fetch-Mode\": os.getenv(\"SEC_FETCH_MODE\"),\n",
    "    \"Sec-Fetch-Site\": os.getenv(\"SEC_FETCH_SITE\"),\n",
    "    \"User-Agent\": os.getenv(\"USER_AGENT\")}\n"
   ]
  },
  {
   "cell_type": "code",
   "execution_count": null,
   "metadata": {},
   "outputs": [],
   "source": [
    "# 获取当前页面cookie信息\n",
    "def get_cookie():\n",
    "    \"\"\"获取当前页面cookie信息\"\"\"\n",
    "    # 使用JavaScript获取Cookie\n",
    "    cookie_script = \"\"\"\n",
    "    return document.cookie;\n",
    "    \"\"\"\n",
    "    cookie_value = driver.execute_script(cookie_script)\n",
    "    return cookie_value\n",
    "# 更新cookie信息\n",
    "def update_cookie(headers):\n",
    "    \"\"\"更新cookie信息\"\"\"\n",
    "    # 获取当前页面cookie信息\n",
    "    cookie_value = get_cookie()\n",
    "    # 更新headers\n",
    "    headers.update({\"Cookie\": cookie_value})\n",
    "    return headers\n",
    "\n",
    "# 获取转码记录总数量\n",
    "def get_trans_num(headers):\n",
    "    \"\"\"获取当前转码记录总数量\"\"\"\n",
    "    url = f'{ZMJL_PAGE}1{ZMJL_PAGE_TAIL}'\n",
    "    # 发送GET请求\n",
    "    response = requests.get(url, headers=headers)\n",
    "    # 检查响应状态码\n",
    "    if response.status_code == 200:\n",
    "        # 解析响应内容\n",
    "        data = response.json()\n",
    "        return data['result']['total']\n",
    "    else:\n",
    "        print(\"请求失败，状态码：\", response.status_code)\n",
    "        return False\n",
    "    \n",
    "# 获取转码信息\n",
    "def get_trans_info(page_number,headers):\n",
    "    \"\"\"获取当前页面转码信息\"\"\"\n",
    "    url = f'{ZMJL_PAGE}{page_number}{ZMJL_PAGE_TAIL}'\n",
    "    # 发送GET请求\n",
    "    response = requests.get(url, headers=headers)\n",
    "    # 检查响应状态码\n",
    "    if response.status_code == 200:\n",
    "        # 解析响应内容\n",
    "        data = response.json()\n",
    "        return data['result']['records']\n",
    "    else:\n",
    "        print(\"请求失败，状态码：\", response.status_code)\n",
    "# 获取各状态审核数量\n",
    "def get_status_num(type_url,headers):\n",
    "    \"\"\"获取各状态审核数量\"\"\"\n",
    "    # 发送GET请求\n",
    "    response = requests.get(type_url, headers=headers)\n",
    "    # 检查响应状态码\n",
    "    if response.status_code == 200:\n",
    "        # 解析响应内容\n",
    "        data = response.json()\n",
    "        return data['result']['count']\n",
    "    else:\n",
    "        print(\"请求失败，状态码：\", response.status_code)\n",
    "        return False\n",
    "# 获取指定状态指定页面的批次信息及批次编码\n",
    "def get_status_pc_info(url,headers):\n",
    "    \"\"\"获取指定页面的批次编码\"\"\"\n",
    "    response = requests.get(url, headers=headers)\n",
    "    # 检查响应状态码\n",
    "    if response.status_code == 200:\n",
    "        # 解析响应内容\n",
    "        data = response.json()\n",
    "        info_list = data['result']['records']\n",
    "        return info_list\n",
    "    else:\n",
    "        print(\"请求失败，状态码：\", response.status_code)\n",
    "        return False    \n",
    "\n",
    "# 获取指定批次号下的物理指标\n",
    "def get_physical_info(url,headers):\n",
    "    \"\"\"获取指定批次号下的物理指标\"\"\"\n",
    "    response = requests.get(url, headers=headers)\n",
    "    # 检查响应状态码\n",
    "    if response.status_code == 200:\n",
    "        # 解析响应内容\n",
    "        data = response.json()\n",
    "        return data['result']['records'],data['result']['total']\n",
    "    else:\n",
    "        print(\"请求失败，状态码：\", response.status_code)\n",
    "        return False\n",
    "    \n",
    "# 获取指定批次号下的化学指标\n",
    "def get_chemical_info(url,headers):\n",
    "    \"\"\"获取指定批次号下的化学指标\"\"\"\n",
    "    response = requests.get(url, headers=headers)\n",
    "    # 检查响应状态码\n",
    "    if response.status_code == 200:\n",
    "        # 解析响应内容\n",
    "        data = response.json()\n",
    "        return data['result']['records'],data['result']['total']\n",
    "    else:\n",
    "        print(\"请求失败，状态码：\", response.status_code)\n",
    "        return False"
   ]
  },
  {
   "cell_type": "code",
   "execution_count": null,
   "metadata": {},
   "outputs": [],
   "source": [
    "# 配置浏览器\n",
    "# chrome.exe --remote-debugging-port=9999 --user-data-dir=\"D:\\Selenium\\AutomationProfile\"\n",
    "# chrome.exe --remote-debugging-port=9999 --user-data-dir=\"D:\\Program Files\\ChromeDir\"\n",
    "options = webdriver.ChromeOptions()\n",
    "options.add_experimental_option(\"debuggerAddress\", \"localhost:9998\")\n",
    "driver = webdriver.Chrome(options=options)\n",
    "\n",
    "driver.implicitly_wait(60)"
   ]
  },
  {
   "cell_type": "code",
   "execution_count": null,
   "metadata": {},
   "outputs": [],
   "source": [
    "# 保存路径\n",
    "save_path = r\"F:\\collection_spb_info\\ZK\\BC\"\n",
    "# 如果没有该文件夹，则创建\n",
    "if not os.path.exists(save_path):\n",
    "    os.makedirs(save_path)"
   ]
  },
  {
   "cell_type": "code",
   "execution_count": null,
   "metadata": {},
   "outputs": [],
   "source": [
    "# 表层样各状态审核数量\n",
    "headers = update_cookie(headers)\n",
    "bc_wait_number = get_status_num(BC_PCH_DSH_URL,headers)\n",
    "bc_audi_number = get_status_num(BC_PCH_YSH_URL,headers)"
   ]
  },
  {
   "cell_type": "code",
   "execution_count": null,
   "metadata": {},
   "outputs": [],
   "source": [
    "bc_wait_number,bc_audi_number"
   ]
  },
  {
   "cell_type": "code",
   "execution_count": null,
   "metadata": {},
   "outputs": [],
   "source": [
    "# 更新headers\n",
    "headers = update_cookie(headers)\n",
    "bc_wait_info_list = []\n",
    "bc_wait_pcnum_list = []\n",
    "# 获取表层待审核批次信息\n",
    "for one_loop in tqdm(range(math.ceil(bc_wait_number/50))):\n",
    "    temp_bc_wait_info = get_status_pc_info(f'{BC_PCH_DSH_PAGE_URL}{one_loop+1}{BC_PCH_PAGE_URL_TAIL}',headers)\n",
    "    temp_bc_wait_pc_num = [_['pch'] for _ in temp_bc_wait_info]\n",
    "    bc_wait_info_list.extend(temp_bc_wait_info)\n",
    "    bc_wait_pcnum_list.extend(temp_bc_wait_pc_num)"
   ]
  },
  {
   "cell_type": "code",
   "execution_count": null,
   "metadata": {},
   "outputs": [],
   "source": [
    "# 更新headers\n",
    "headers = update_cookie(headers)\n",
    "bc_audit_info_list = []\n",
    "bc_audit_pcnum_list = []\n",
    "# 获取表层已审核批次信息\n",
    "for one_loop in tqdm(range(math.ceil(bc_audi_number/50))):\n",
    "    temp_bc_audit_info = get_status_pc_info(f'{BC_PCH_YSH_PAGE_URL}{one_loop+1}{BC_PCH_PAGE_URL_TAIL}',headers)\n",
    "    temp_bc_audit_pc_num = [_['pch'] for _ in temp_bc_audit_info]\n",
    "    bc_audit_info_list.extend(temp_bc_audit_info)\n",
    "    bc_audit_pcnum_list.extend(temp_bc_audit_pc_num)"
   ]
  },
  {
   "cell_type": "code",
   "execution_count": null,
   "metadata": {},
   "outputs": [],
   "source": [
    "# 对比待审核批次号信息\n",
    "# step1 读取已有待审核批次号信息\n",
    "with open(os.path.join(save_path,'bc_dsh_366.json'), 'r') as f:\n",
    "    bc_wait_pcnum_list_loaded = json.load(f)\n",
    "# 检查是否为新增批次号\n",
    "update_bc_wait_pcnum_list = []\n",
    "for one_loop in bc_wait_pcnum_list:\n",
    "    if one_loop in bc_wait_pcnum_list_loaded:\n",
    "        pass\n",
    "    else:\n",
    "        update_bc_wait_pcnum_list.append(one_loop)\n",
    "len(update_bc_wait_pcnum_list)"
   ]
  },
  {
   "cell_type": "code",
   "execution_count": null,
   "metadata": {},
   "outputs": [],
   "source": [
    "# 对比已审核批次号信息\n",
    "# step1 读取已有已审核批次号信息\n",
    "with open(os.path.join(save_path,'bc_ysh_385.json'), 'r') as f:\n",
    "    bc_audit_pcnum_list_loaded = json.load(f)\n",
    "# 检查是否为新增批次号\n",
    "update_bc_audit_pcnum_list = []\n",
    "for one_loop in bc_audit_pcnum_list:\n",
    "    if one_loop in bc_audit_pcnum_list_loaded:\n",
    "        pass\n",
    "    else:\n",
    "        update_bc_audit_pcnum_list.append(one_loop)\n",
    "len(update_bc_audit_pcnum_list)"
   ]
  },
  {
   "cell_type": "code",
   "execution_count": null,
   "metadata": {},
   "outputs": [],
   "source": [
    "# 保存待审核批次号\n",
    "with open(os.path.join(save_path,f'bc_dsh_{len(bc_wait_pcnum_list)}.json'), 'w') as f:\n",
    "    json.dump(bc_wait_pcnum_list, f, indent=4)\n",
    "# 保存已审核批次号\n",
    "with open(os.path.join(save_path,f'bc_ysh_{len(bc_audit_pcnum_list)}.json'), 'w') as f:\n",
    "    json.dump(bc_audit_pcnum_list, f, indent=4)"
   ]
  },
  {
   "cell_type": "code",
   "execution_count": null,
   "metadata": {},
   "outputs": [],
   "source": [
    "# 更新表层所有批次基础信息\n",
    "update_bc_wait_info_list = [_ for _ in bc_wait_info_list if _['pch'] in update_bc_wait_pcnum_list]\n",
    "update_bc_audit_info_list = [_ for _ in bc_audit_info_list if _['pch'] in update_bc_audit_pcnum_list]\n",
    "update_bc_all_info_list = update_bc_wait_info_list+update_bc_audit_info_list\n",
    "update_df_bc_info = pd.DataFrame(update_bc_all_info_list)\n",
    "update_df_bc_info.head(1)"
   ]
  },
  {
   "cell_type": "code",
   "execution_count": null,
   "metadata": {},
   "outputs": [],
   "source": [
    "# 读取已有的数据\n",
    "df_bc_info = pd.read_excel(os.path.join(save_path, 'bc_info.xlsx'))\n",
    "# 先将两个DataFrame中需要保持文本格式的数值列转换为字符串类型\n",
    "df_bc_info = df_bc_info.applymap(str)\n",
    "update_df_bc_info = update_df_bc_info.applymap(str)\n",
    "# 合并两个数据\n",
    "complete_bc_info = pd.concat([df_bc_info,update_df_bc_info],axis=0,ignore_index=True)\n",
    "# 更新表层待审核数据\n",
    "complete_bc_info.to_excel(os.path.join(save_path, 'bc_info.xlsx'),index=False)"
   ]
  },
  {
   "cell_type": "code",
   "execution_count": null,
   "metadata": {},
   "outputs": [],
   "source": [
    "# 更新获取表层物理指标\n",
    "update_bc_physical_info_list = []\n",
    "update_bc_all_pcnum_list = update_bc_audit_pcnum_list+update_bc_wait_pcnum_list\n",
    "# 更新headers\n",
    "headers = update_cookie(headers)\n",
    "for one_loop in tqdm(update_bc_all_pcnum_list):\n",
    "    url = f'{JCJG_WLZB_PAGE}{JCJG_PAGE_MID}{one_loop}{JCJG_PAGE_TAIL}'\n",
    "    # 获取指标信息\n",
    "    bc_physical_info = get_physical_info(url, headers)\n",
    "    # 检测是否包含完整个批次数据\n",
    "    if bc_physical_info[1] <= 50:\n",
    "        update_bc_physical_info_list.extend(bc_physical_info[0])\n",
    "    else:\n",
    "        print(f'{one_loop}批次数据获取得到{bc_physical_info[1]}条，请检查!')\n",
    "        break"
   ]
  },
  {
   "cell_type": "code",
   "execution_count": null,
   "metadata": {},
   "outputs": [],
   "source": [
    "update_df_bc_physical_info =pd.DataFrame(update_bc_physical_info_list)\n",
    "update_df_bc_physical_info.head(1)"
   ]
  },
  {
   "cell_type": "code",
   "execution_count": null,
   "metadata": {},
   "outputs": [],
   "source": [
    "# 读取已有的数据\n",
    "df_bc_physical_info = pd.read_excel(os.path.join(save_path, 'bc_physical_info3.xlsx'))\n",
    "# 先将两个DataFrame中需要保持文本格式的数值列转换为字符串类型\n",
    "df_bc_physical_info = df_bc_physical_info.applymap(str)\n",
    "update_df_bc_physical_info = update_df_bc_physical_info.applymap(str)\n",
    "\n",
    "# 合并数据\n",
    "complete_bc_physical_info =pd.concat([df_bc_physical_info,update_df_bc_physical_info],axis=0,ignore_index=True)\n",
    "# 保存数据\n",
    "complete_bc_physical_info.to_excel(os.path.join(save_path, 'bc_physical_info4.xlsx'),index=False)"
   ]
  },
  {
   "cell_type": "code",
   "execution_count": null,
   "metadata": {},
   "outputs": [],
   "source": [
    "# 获取表层化学指标\n",
    "update_bc_chemical_info_list = []\n",
    "# 更新headers\n",
    "headers = update_cookie(headers)\n",
    "for one_loop in tqdm(update_bc_all_pcnum_list):\n",
    "    url = f'{JCJG_HXZB_PAGE}{JCJG_PAGE_MID}{one_loop}{JCJG_PAGE_TAIL}'\n",
    "    # 获取指标信息\n",
    "    bc_chemical_info = get_chemical_info(url, headers)\n",
    "    # 检测是否包含完整个批次数据\n",
    "    if bc_chemical_info[1] <= 50:\n",
    "        update_bc_chemical_info_list.extend(bc_chemical_info[0])\n",
    "    else:\n",
    "        print(f'{one_loop}批次数据获取得到{bc_chemical_info[1]}条，请检查!')\n",
    "        break"
   ]
  },
  {
   "cell_type": "code",
   "execution_count": null,
   "metadata": {},
   "outputs": [],
   "source": [
    "update_df_bc_chemical_info =pd.DataFrame(update_bc_chemical_info_list)\n",
    "update_df_bc_chemical_info.head(1)"
   ]
  },
  {
   "cell_type": "code",
   "execution_count": null,
   "metadata": {},
   "outputs": [],
   "source": [
    "# 读取已有的数据\n",
    "df_bc_chemical_info = pd.read_excel(os.path.join(save_path, \"bc_chemical_info3.xlsx\"))\n",
    "# 先将两个DataFrame中需要保持文本格式的数值列转换为字符串类型\n",
    "df_bc_chemical_info = df_bc_chemical_info.applymap(str)\n",
    "update_df_bc_chemical_info = update_df_bc_chemical_info.applymap(str)\n",
    "# 合并数据\n",
    "complete_df_bc_chemical_info = pd.concat([df_bc_chemical_info,update_df_bc_chemical_info],axis=0,ignore_index=True)\n",
    "# 保存数据\n",
    "complete_df_bc_chemical_info.to_excel(os.path.join(save_path, \"bc_chemical_info4.xlsx\"),index=False)"
   ]
  },
  {
   "cell_type": "code",
   "execution_count": 34,
   "metadata": {},
   "outputs": [
    {
     "data": {
      "image/png": "[encoded data removed]",
      "text/plain": [
       "<Figure size 640x480 with 1 Axes>"
      ]
     },
     "metadata": {},
     "output_type": "display_data"
    }
   ],
   "source": [
    "import matplotlib.pyplot as plt\n",
    "histogram = complete_df_bc_chemical_info['ph'].astype(float).hist(bins=100)\n",
    "plt.show()"
   ]
  },
  {
   "cell_type": "code",
   "execution_count": 38,
   "metadata": {},
   "outputs": [
    {
     "data": {
      "text/plain": [
       "count    35948.000000\n",
       "mean         5.953672\n",
       "std          1.152428\n",
       "min          0.000000\n",
       "25%          5.010000\n",
       "50%          5.680000\n",
       "75%          6.830000\n",
       "max          9.180000\n",
       "Name: ph, dtype: float64"
      ]
     },
     "execution_count": 38,
     "metadata": {},
     "output_type": "execute_result"
    }
   ],
   "source": [
    "complete_df_bc_chemical_info['ph'].astype(float).describe()"
   ]
  }
 ],
 "metadata": {
  "kernelspec": {
   "display_name": ".spidervenv",
   "language": "python",
   "name": "python3"
  },
  "language_info": {
   "codemirror_mode": {
    "name": "ipython",
    "version": 3
   },
   "file_extension": ".py",
   "mimetype": "text/x-python",
   "name": "python",
   "nbconvert_exporter": "python",
   "pygments_lexer": "ipython3",
   "version": "3.10.11"
  }
 },
 "nbformat": 4,
 "nbformat_minor": 2
}
