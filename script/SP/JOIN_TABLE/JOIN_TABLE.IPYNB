{
 "cells": [
  {
   "cell_type": "code",
   "execution_count": null,
   "metadata": {},
   "outputs": [],
   "source": [
    "import os\n",
    "import pandas as pd"
   ]
  },
  {
   "cell_type": "code",
   "execution_count": null,
   "metadata": {},
   "outputs": [],
   "source": [
    "data_path = r\"F:\\collection_spb_info\\GJ\\QX\\base_info_20240918_2255.xlsx\"\n",
    "point_path = r\"F:\\collection_spb_info\\GJ\\QX\\ldtj_info_20240918_2255.xlsx\"\n",
    "pm_path = r\"\"\n",
    "use_col = ['ydbh','ydlb','tdlylx']\n",
    "use_col_1 = ['ydbh','tdlylx']"
   ]
  },
  {
   "cell_type": "code",
   "execution_count": null,
   "metadata": {},
   "outputs": [],
   "source": [
    "# df_pm = pd.read_excel(pm_path,usecols=use_col)\n",
    "# df_bc = pd.read_excel(point_path,usecols=use_col)\n",
    "df_data = pd.read_excel(data_path,usecols=use_col,dtype={'ydbh':str,'tdlylx':str})\n",
    "df_data_1 = pd.read_excel(point_path,usecols=use_col_1,dtype={'ydbh':str,'tdlylx':str})\n"
   ]
  },
  {
   "cell_type": "code",
   "execution_count": null,
   "metadata": {},
   "outputs": [],
   "source": [
    "agricultural_land_dict = {\n",
    "    \"0101\": \"水田\",\n",
    "    \"0102\": \"水浇地\",\n",
    "    \"0103\": \"旱地\",\n",
    "    \"0201\": \"园地\",\n",
    "    \"0202\": \"茶园\",\n",
    "    \"0203\": \"橡胶园\",\n",
    "    \"0204\": \"其他园地\",\n",
    "    \"0301\": \"乔木林地\",\n",
    "    \"0302\": \"竹林地\",\n",
    "    \"0303\": \"红树林地\",\n",
    "    \"0304\": \"森林沼泽\",\n",
    "    \"0305\": \"灌木林地\",\n",
    "    \"0306\": \"灌丛沼泽\",\n",
    "    \"0307\": \"其他林地\",\n",
    "    \"0401\": \"天然牧草地\",\n",
    "    \"0402\": \"沼泽草地\",\n",
    "    \"0403\": \"人工牧草地\",\n",
    "    \"0404\": \"其他草地\"\n",
    "}\n",
    "def convert_tdlylx(tdlylx):\n",
    "    if tdlylx in agricultural_land_dict:\n",
    "        return agricultural_land_dict[tdlylx]\n",
    "    else:\n",
    "        return tdlylx\n",
    "\n"
   ]
  },
  {
   "cell_type": "code",
   "execution_count": null,
   "metadata": {},
   "outputs": [],
   "source": [
    "df_result = pd.merge(df_data,df_data_1,how='left',on='ydbh')"
   ]
  },
  {
   "cell_type": "code",
   "execution_count": null,
   "metadata": {},
   "outputs": [],
   "source": [
    "df_data['tdlylx'].unique()\n"
   ]
  },
  {
   "cell_type": "code",
   "execution_count": null,
   "metadata": {},
   "outputs": [],
   "source": [
    "df_result.columns"
   ]
  },
  {
   "cell_type": "code",
   "execution_count": null,
   "metadata": {},
   "outputs": [],
   "source": [
    "df_result['tdlylx_x'] = df_result['tdlylx_x'].apply(convert_tdlylx)\n",
    "df_result['tdlylx_y'] = df_result['tdlylx_y'].apply(convert_tdlylx)"
   ]
  },
  {
   "cell_type": "code",
   "execution_count": null,
   "metadata": {},
   "outputs": [],
   "source": [
    "# 重命名列\n",
    "df_result.rename(columns={'tdlylx_x':'下发类型','tdlylx_y':'调查类型'},inplace=True)"
   ]
  },
  {
   "cell_type": "code",
   "execution_count": null,
   "metadata": {},
   "outputs": [],
   "source": [
    "df_result.to_excel(r\"F:\\collection_spb_info\\GJ\\QX\\qx_tdlylx_result.xlsx\",index=False)\n"
   ]
  }
 ],
 "metadata": {
  "kernelspec": {
   "display_name": "spiderenv",
   "language": "python",
   "name": "python3"
  },
  "language_info": {
   "codemirror_mode": {
    "name": "ipython",
    "version": 3
   },
   "file_extension": ".py",
   "mimetype": "text/x-python",
   "name": "python",
   "nbconvert_exporter": "python",
   "pygments_lexer": "ipython3",
   "version": "3.10.11"
  }
 },
 "nbformat": 4,
 "nbformat_minor": 2
}
