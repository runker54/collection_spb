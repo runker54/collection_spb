{
 "cells": [
  {
   "cell_type": "code",
   "execution_count": 1,
   "metadata": {},
   "outputs": [],
   "source": [
    "import os\n",
    "import re\n",
    "import time\n",
    "import random\n",
    "import math\n",
    "import requests\n",
    "import json\n",
    "import pandas as pd\n",
    "from tqdm import tqdm\n",
    "from dotenv import load_dotenv\n",
    "from selenium import webdriver\n",
    "from selenium.webdriver.chrome.options import Options\n",
    "from selenium.webdriver.common.by import By\n",
    "from selenium.webdriver.chrome.service import Service\n",
    "from selenium.webdriver.support.ui import WebDriverWait\n",
    "from selenium.webdriver.support import expected_conditions as EC\n",
    "from selenium.webdriver.support.ui import Select\n",
    "from selenium.common.exceptions import NoSuchElementException\n",
    "from selenium.webdriver.common.action_chains import ActionChains\n",
    "from selenium.webdriver.common.desired_capabilities import DesiredCapabilities"
   ]
  },
  {
   "cell_type": "code",
   "execution_count": 2,
   "metadata": {},
   "outputs": [],
   "source": [
    "# 读取需要的环境变量\n",
    "load_dotenv()\n",
    "# link info\n",
    "SF_URL = os.getenv('SF_URL')\n",
    "LDTJ_URL = os.getenv('LDTJ_URL')\n",
    "JBXX_URL = os.getenv('JBXX_URL')\n",
    "CTD_URL = os.getenv('CTD_URL')\n",
    "IMG_URL = os.getenv('IMG_URL')\n",
    "PM_URL = os.getenv('PM_URL')\n",
    "PM_FC_URL = os.getenv('PM_FC_URL')\n",
    "DSH_URL = os.getenv('DSH_URL')\n",
    "YSH_URL = os.getenv('YSH_URL')\n",
    "DSH_PAGE = os.getenv('DSH_PAGE')\n",
    "YSH_PAGE = os.getenv('YSH_PAGE')\n",
    "PAGE_TAIL = os.getenv('PAGE_TAIL')\n",
    "BASE_NAME = os.getenv('BASE_NAME')\n",
    "# headers info \n",
    "img_headers = {\n",
    "    \"Accept\": os.getenv(\"ACCEPT\"),\n",
    "    \"Accept-Encoding\": os.getenv(\"ACCEPT_ENCODING\"),\n",
    "    \"Accept-Language\": os.getenv(\"ACCEPT_LANGUAGE\"),\n",
    "    \"Authorization\": os.getenv(\"AUTHORIZATION\"),\n",
    "    \"Connection\": os.getenv(\"CONNECTION\"),\n",
    "    \"Content-Length\": os.getenv(\"CONTENT_LENGTH\"),\n",
    "    \"Content-Type\": os.getenv(\"CONTENT_TYPE\"),\n",
    "    \"Cookie\": os.getenv(\"COOKIE\"),\n",
    "    \"Host\": os.getenv(\"HOST\"),\n",
    "    \"origin\": os.getenv(\"ORIGIN\"),\n",
    "    \"Referer\": os.getenv(\"REFERER\"),\n",
    "    \"Sec-Ch-Ua\": os.getenv(\"SEC_CH_UA\"),\n",
    "    \"Sec-Ch-Ua-Mobile\": os.getenv(\"SEC_CH_UA_MOBILE\"),\n",
    "    \"Sec-Ch-Ua-Platform\": os.getenv(\"SEC_CH_UA_PLATFORM\"),\n",
    "    \"Sec-Fetch-Dest\": os.getenv(\"SEC_FETCH_DEST\"),\n",
    "    \"Sec-Fetch-Mode\": os.getenv(\"SEC_FETCH_MODE\"),\n",
    "    \"Sec-Fetch-Site\": os.getenv(\"SEC_FETCH_SITE\"),\n",
    "    \"User-Agent\": os.getenv(\"USER_AGENT\")\n",
    "}\n",
    "headers = {\n",
    "    \"Accept\": os.getenv(\"ACCEPT\"),\n",
    "    \"Accept-Encoding\": os.getenv(\"ACCEPT_ENCODING\"),\n",
    "    \"Accept-Language\": os.getenv(\"ACCEPT_LANGUAGE\"),\n",
    "    \"Authorization\": os.getenv(\"AUTHORIZATION\"),\n",
    "    \"Connection\": os.getenv(\"CONNECTION\"),\n",
    "    \"Cookie\": os.getenv(\"COOKIE\"),\n",
    "    \"Host\": os.getenv(\"HOST\"),\n",
    "    \"Referer\": os.getenv(\"REFERER\"),\n",
    "    \"Sec-Ch-Ua\": os.getenv(\"SEC_CH_UA\"),\n",
    "    \"Sec-Ch-Ua-Mobile\": os.getenv(\"SEC_CH_UA_MOBILE\"),\n",
    "    \"Sec-Ch-Ua-Platform\": os.getenv(\"SEC_CH_UA_PLATFORM\"),\n",
    "    \"Sec-Fetch-Dest\": os.getenv(\"SEC_FETCH_DEST\"),\n",
    "    \"Sec-Fetch-Mode\": os.getenv(\"SEC_FETCH_MODE\"),\n",
    "    \"Sec-Fetch-Site\": os.getenv(\"SEC_FETCH_SITE\"),\n",
    "    \"User-Agent\": os.getenv(\"USER_AGENT\")}\n"
   ]
  },
  {
   "cell_type": "code",
   "execution_count": 3,
   "metadata": {},
   "outputs": [],
   "source": [
    "# img file path\n",
    "img_file = r\"F:\\collection_spb_info\\img_info.xlsx\""
   ]
  },
  {
   "cell_type": "code",
   "execution_count": 4,
   "metadata": {},
   "outputs": [],
   "source": [
    "df_img = pd.read_excel(img_file)"
   ]
  },
  {
   "cell_type": "code",
   "execution_count": null,
   "metadata": {},
   "outputs": [],
   "source": []
  }
 ],
 "metadata": {
  "kernelspec": {
   "display_name": "spiderenv",
   "language": "python",
   "name": "python3"
  },
  "language_info": {
   "codemirror_mode": {
    "name": "ipython",
    "version": 3
   },
   "file_extension": ".py",
   "mimetype": "text/x-python",
   "name": "python",
   "nbconvert_exporter": "python",
   "pygments_lexer": "ipython3",
   "version": "3.10.11"
  }
 },
 "nbformat": 4,
 "nbformat_minor": 2
}
