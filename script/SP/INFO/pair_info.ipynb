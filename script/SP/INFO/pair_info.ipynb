{
 "cells": [
  {
   "cell_type": "code",
   "execution_count": null,
   "metadata": {},
   "outputs": [],
   "source": [
    "import os\n",
    "import pandas as pd"
   ]
  },
  {
   "cell_type": "code",
   "execution_count": null,
   "metadata": {},
   "outputs": [],
   "source": [
    "# 匹配文件路径\n",
    "point_path = r\"F:\\collection_spb_info\\曾宇丽\\base_info_update_1762.xlsx\"\n",
    "physical_path = r\"F:\\collection_spb_info\\ZK\\bc_physical_info2.xlsx\"\n",
    "chemical_path = r\"F:\\collection_spb_info\\ZK\\bc_chemical_info2.xlsx\""
   ]
  },
  {
   "cell_type": "code",
   "execution_count": null,
   "metadata": {},
   "outputs": [],
   "source": [
    "# 获取需要匹配的点位列表\n",
    "point_df = pd.read_excel(point_path)\n",
    "point_df['ydbh']"
   ]
  },
  {
   "cell_type": "code",
   "execution_count": null,
   "metadata": {},
   "outputs": [],
   "source": [
    "# 匹配物理指标\n",
    "physical_df = pd.read_excel(physical_path)\n",
    "filter_physical_df = physical_df[physical_df['ydbh'].isin(point_df['ydbh'])]"
   ]
  },
  {
   "cell_type": "code",
   "execution_count": null,
   "metadata": {},
   "outputs": [],
   "source": [
    "# 匹配化学指标\n",
    "chemical_df = pd.read_excel(chemical_path)\n",
    "filter_chemical_df = chemical_df[chemical_df['ydbh'].isin(point_df['ydbh'])]"
   ]
  },
  {
   "cell_type": "code",
   "execution_count": null,
   "metadata": {},
   "outputs": [],
   "source": [
    "# 保存数据\n",
    "filter_chemical_df = filter_chemical_df.astype(str)\n",
    "filter_physical_df = filter_physical_df.astype(str)\n",
    "filter_chemical_df.to_excel(r'C:\\Users\\Runker\\Desktop\\fg\\filter_chemical.xlsx',index=False)\n",
    "filter_physical_df.to_excel(r'C:\\Users\\Runker\\Desktop\\fg\\filter_physical.xlsx',index=False)"
   ]
  }
 ],
 "metadata": {
  "kernelspec": {
   "display_name": "spiderenv",
   "language": "python",
   "name": "python3"
  },
  "language_info": {
   "codemirror_mode": {
    "name": "ipython",
    "version": 3
   },
   "file_extension": ".py",
   "mimetype": "text/x-python",
   "name": "python",
   "nbconvert_exporter": "python",
   "pygments_lexer": "ipython3",
   "version": "3.10.11"
  }
 },
 "nbformat": 4,
 "nbformat_minor": 2
}
