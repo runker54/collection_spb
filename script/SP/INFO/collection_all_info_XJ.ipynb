{
 "cells": [
  {
   "cell_type": "code",
   "execution_count": null,
   "metadata": {},
   "outputs": [],
   "source": [
    "import os\n",
    "import re\n",
    "import time\n",
    "import random\n",
    "import math\n",
    "import requests\n",
    "import json\n",
    "import pandas as pd\n",
    "from tqdm import tqdm\n",
    "from datetime import datetime\n",
    "from dotenv import load_dotenv\n",
    "from selenium import webdriver\n",
    "from selenium.webdriver.chrome.options import Options\n",
    "from selenium.webdriver.common.by import By\n",
    "from selenium.webdriver.chrome.service import Service\n",
    "from selenium.webdriver.support.ui import WebDriverWait\n",
    "from selenium.webdriver.support import expected_conditions as EC\n",
    "from selenium.webdriver.support.ui import Select\n",
    "from selenium.common.exceptions import NoSuchElementException\n",
    "from selenium.webdriver.common.action_chains import ActionChains\n",
    "from selenium.webdriver.common.desired_capabilities import DesiredCapabilities"
   ]
  },
  {
   "cell_type": "code",
   "execution_count": null,
   "metadata": {},
   "outputs": [],
   "source": [
    "# 读取需要的环境变量\n",
    "load_dotenv()\n",
    "# link info\n",
    "SF_URL = os.getenv('SF_URL')\n",
    "LDTJ_URL = os.getenv('LDTJ_URL')\n",
    "JBXX_URL = os.getenv('JBXX_URL')\n",
    "CTD_URL = os.getenv('CTD_URL')\n",
    "IMG_URL = os.getenv('IMG_URL')\n",
    "PM_URL = os.getenv('PM_URL')\n",
    "PM_FC_URL = os.getenv('PM_FC_URL')\n",
    "DSH_URL = os.getenv('DSH_URL')\n",
    "YSH_URL = os.getenv('YSH_URL')\n",
    "DSH_PAGE = os.getenv('DSH_PAGE')\n",
    "YSH_PAGE = os.getenv('YSH_PAGE')\n",
    "PAGE_TAIL = os.getenv('PAGE_TAIL')\n",
    "BASE_NAME = os.getenv('BASE_NAME')\n",
    "ZKR_URL = os.getenv('ZKR_URL')\n",
    "\n",
    "# GJ LINK\n",
    "CITY_CODE_URL = os.getenv('CITY_CODE_URL')\n",
    "QCZS_URL = os.getenv('QCZS_URL')\n",
    "# headers info \n",
    "img_headers = {\n",
    "    \"Accept\": os.getenv(\"ACCEPT\"),\n",
    "    \"Accept-Encoding\": os.getenv(\"ACCEPT_ENCODING\"),\n",
    "    \"Accept-Language\": os.getenv(\"ACCEPT_LANGUAGE\"),\n",
    "    \"Authorization\": os.getenv(\"AUTHORIZATION\"),\n",
    "    \"Connection\": os.getenv(\"CONNECTION\"),\n",
    "    \"Content-Length\": os.getenv(\"CONTENT_LENGTH\"),\n",
    "    \"Content-Type\": os.getenv(\"CONTENT_TYPE\"),\n",
    "    \"Cookie\": os.getenv(\"COOKIE\"),\n",
    "    \"Host\": os.getenv(\"HOST\"),\n",
    "    \"origin\": os.getenv(\"ORIGIN\"),\n",
    "    \"Referer\": os.getenv(\"REFERER\"),\n",
    "    \"Sec-Ch-Ua\": os.getenv(\"SEC_CH_UA\"),\n",
    "    \"Sec-Ch-Ua-Mobile\": os.getenv(\"SEC_CH_UA_MOBILE\"),\n",
    "    \"Sec-Ch-Ua-Platform\": os.getenv(\"SEC_CH_UA_PLATFORM\"),\n",
    "    \"Sec-Fetch-Dest\": os.getenv(\"SEC_FETCH_DEST\"),\n",
    "    \"Sec-Fetch-Mode\": os.getenv(\"SEC_FETCH_MODE\"),\n",
    "    \"Sec-Fetch-Site\": os.getenv(\"SEC_FETCH_SITE\"),\n",
    "    \"User-Agent\": os.getenv(\"USER_AGENT\")\n",
    "}\n",
    "headers = {\n",
    "    \"Accept\": os.getenv(\"ACCEPT\"),\n",
    "    \"Accept-Encoding\": os.getenv(\"ACCEPT_ENCODING\"),\n",
    "    \"Accept-Language\": os.getenv(\"ACCEPT_LANGUAGE\"),\n",
    "    \"Authorization\": os.getenv(\"AUTHORIZATION\"),\n",
    "    \"Connection\": os.getenv(\"CONNECTION\"),\n",
    "    \"Cookie\": os.getenv(\"COOKIE\"),\n",
    "    \"Host\": os.getenv(\"HOST\"),\n",
    "    \"Referer\": os.getenv(\"REFERER\"),\n",
    "    \"Sec-Ch-Ua\": os.getenv(\"SEC_CH_UA\"),\n",
    "    \"Sec-Ch-Ua-Mobile\": os.getenv(\"SEC_CH_UA_MOBILE\"),\n",
    "    \"Sec-Ch-Ua-Platform\": os.getenv(\"SEC_CH_UA_PLATFORM\"),\n",
    "    \"Sec-Fetch-Dest\": os.getenv(\"SEC_FETCH_DEST\"),\n",
    "    \"Sec-Fetch-Mode\": os.getenv(\"SEC_FETCH_MODE\"),\n",
    "    \"Sec-Fetch-Site\": os.getenv(\"SEC_FETCH_SITE\"),\n",
    "    \"User-Agent\": os.getenv(\"USER_AGENT\")}\n"
   ]
  },
  {
   "cell_type": "code",
   "execution_count": null,
   "metadata": {},
   "outputs": [],
   "source": [
    "### 辅助函数\n",
    "# 装饰器，如果函数没有返回值，则一直重试\n",
    "def retry_if_no_return(func):\n",
    "    def wrapper(*args, **kwargs):\n",
    "        # 定义重试次数\n",
    "        retry_times = 5\n",
    "        while retry_times>=0:\n",
    "            result = func(*args, **kwargs)\n",
    "            if result:\n",
    "                return result\n",
    "            # 如果函数没有返回值，可以在这里添加日志或等待时间\n",
    "            time.sleep(2)\n",
    "            retry_times -= 1\n",
    "    return wrapper\n",
    "\n",
    "# 遍历url列表下载图片\n",
    "@retry_if_no_return\n",
    "def download_image(url,save_path_name,headers):\n",
    "    headers = headers\n",
    "    try:\n",
    "        r = requests.get(url, headers=headers)\n",
    "        if r.status_code == 200:\n",
    "            with open(save_path_name, 'wb') as f:\n",
    "                f.write(r.content)\n",
    "                return True\n",
    "    except:\n",
    "        return False\n",
    "    time.sleep(random.random())"
   ]
  },
  {
   "cell_type": "code",
   "execution_count": null,
   "metadata": {},
   "outputs": [],
   "source": [
    "# XJ_INFO\n",
    "# 获取市州、区县编码\n",
    "def get_city_code(code,headers):\n",
    "    \"\"\"获取市州、区县编码\"\"\"\n",
    "    url = CITY_CODE_URL\n",
    "    # 请求的payload\n",
    "    params = {\n",
    "        'code': f'{code}',\n",
    "    }\n",
    "\n",
    "    # 发送GET请求\n",
    "    response = requests.get(url, headers=headers, params=params)\n",
    "    # 检查响应状态码\n",
    "    if response.status_code == 200:\n",
    "        # 解析响应内容\n",
    "        data = response.json()\n",
    "        return data\n",
    "    else:\n",
    "        print(\"请求失败，状态码：\", response.status_code)\n",
    "        return False\n",
    "# 获取基本信息\n",
    "def get_xj_info_total(xjdm, headers, **kwargs):\n",
    "    \"\"\"获取基本信息:\n",
    "    其他可选参数：optional_params = {\n",
    "        'ydlb': ydlb, 'sfsty': sfsty, 'sfstypxy': sfstypxy, 'sfzdbb': sfzdbb, 'cylx': cylx,\n",
    "        'sfjxzcyd': sfjxzcyd, 'sfdbnpyd': sfdbnpyd, 'sfqmpk': sfqmpk, 'sfyjd': sfyjd,\n",
    "        'sfgjswy': sfgjswy, 'sfsjswy': sfsjswy, 'sftzy': sftzy, 'sfttcpyd': sfttcpyd,\n",
    "        'sfwryxcyd': sfwryxcyd, 'tdlylx': tdlylx, 'xzqdm': xzqdm\n",
    "    }\n",
    "    \"\"\"\n",
    "    result_list = []\n",
    "    url = QCZS_URL\n",
    "    params = {\n",
    "        'pageNum': 1,\n",
    "        'pageSize': 50,\n",
    "        'xjdm': f'{xjdm}',\n",
    "        'keyword': '',\n",
    "        **{k: v for k, v in kwargs.items() if v is not None}\n",
    "    }\n",
    "\n",
    "    response = requests.get(url, headers=headers, params=params)\n",
    "    if response.status_code != 200:\n",
    "        print(f\"请求失败，状态码：{response.status_code}\")\n",
    "        return False\n",
    "\n",
    "    data = response.json()\n",
    "    total = data['result']['total']\n",
    "    page_num = math.ceil(total / 50)\n",
    "\n",
    "    for i in range(1, page_num + 1):\n",
    "        params['pageNum'] = i\n",
    "        response = requests.get(url, headers=headers, params=params)\n",
    "        result_list.extend(response.json()['result']['records'])\n",
    "\n",
    "    return result_list\n",
    "\n"
   ]
  },
  {
   "cell_type": "code",
   "execution_count": null,
   "metadata": {},
   "outputs": [],
   "source": [
    "# 获取施肥信息\n",
    "def get_sf_info(point_id,headers):\n",
    "    \"\"\"获取施肥信息\"\"\"\n",
    "    url = f\"{SF_URL}{point_id}\"\n",
    "    # 发送GET请求\n",
    "    response = requests.get(url, headers=headers)\n",
    "    # 检查响应状态码\n",
    "    if response.status_code == 200:\n",
    "        # 解析响应内容\n",
    "        data = response.json()\n",
    "        return data\n",
    "    else:\n",
    "        print(\"请求失败，状态码：\", response.status_code)\n",
    "        return False\n",
    "# 获取图片信息\n",
    "def get_img_info(point_id,headers):\n",
    "    \"\"\"获取图片和视频链接\"\"\"\n",
    "    url = IMG_URL\n",
    "    # 请求的JSON数据\n",
    "    # 请根据实际情况替换下面的data字典\n",
    "    data = {\n",
    "        \"glbh\": f\"{int(point_id)}\"\n",
    "    }\n",
    "    # 将字典转换为JSON格式的字符串\n",
    "    payload = json.dumps(data)\n",
    "    # 发送POST请求\n",
    "    response = requests.post(url, headers=headers, data=payload)\n",
    "    # 检查响应状态码\n",
    "    if response.status_code == 200:\n",
    "        # 解析响应内容\n",
    "        data = response.json()\n",
    "        return data\n",
    "    else:\n",
    "        print(\"请求失败，状态码：\", response.status_code)\n",
    "        return False\n",
    "# 获取立地条件信息\n",
    "def get_ldtj_info(point_id,headers):\n",
    "    \"\"\"获取立地条件信息\"\"\"\n",
    "    url = f\"{LDTJ_URL}{point_id}\"\n",
    "    # 发送GET请求\n",
    "    response = requests.get(url, headers=headers)\n",
    "    # 检查响应状态码\n",
    "    if response.status_code == 200:\n",
    "        # 解析响应内容\n",
    "        data = response.json()\n",
    "        return data\n",
    "    else:\n",
    "        print(\"请求失败，状态码：\", response.status_code)\n",
    "        return False\n",
    "# 获取样点基本信息\n",
    "def get_base_info(point_id,headers):\n",
    "    \"\"\"获取基本信息\"\"\"\n",
    "    url = f\"{JBXX_URL}{point_id}\"\n",
    "        # 发送GET请求\n",
    "    response = requests.get(url, headers=headers)\n",
    "    # 检查响应状态码\n",
    "    if response.status_code == 200:\n",
    "        # 解析响应内容\n",
    "        data = response.json()\n",
    "        return data\n",
    "    else:\n",
    "        print(\"请求失败，状态码：\", response.status_code)\n",
    "        return False\n",
    "# 获取采土袋信息\n",
    "def get_ctd_info(point_id,headers):\n",
    "    \"\"\"获取采土袋信息\"\"\"\n",
    "    url = f\"{CTD_URL}{point_id}\"\n",
    "    # 发送GET请求\n",
    "    response = requests.get(url, headers=headers)\n",
    "    # 检查响应状态码\n",
    "    if response.status_code == 200:\n",
    "        # 解析响应内容\n",
    "        data = response.json()\n",
    "        return data\n",
    "    else:\n",
    "        print(\"请求失败，状态码：\", response.status_code)\n",
    "        return False\n",
    "    \n",
    "# 获取剖面信息\n",
    "def get_pm_info(point_id,headers):\n",
    "    \"\"\"获取剖面信息\"\"\"\n",
    "    url = f\"{PM_URL}{point_id}\"\n",
    "    # 发送GET请求\n",
    "    response = requests.get(url, headers=headers)\n",
    "    # 检查响应状态码\n",
    "    if response.status_code == 200:\n",
    "        # 解析响应内容\n",
    "        data = response.json()\n",
    "        return data\n",
    "    else:\n",
    "        print(\"请求失败，状态码：\", response.status_code)\n",
    "        return False\n",
    "# 获取剖面发生层信息\n",
    "def get_pmfc_info(point_id,headers):\n",
    "    \"\"\"获取剖面发生层信息\"\"\"\n",
    "    url = f\"{PM_FC_URL}{point_id}\"\n",
    "    # 发送GET请求\n",
    "    response = requests.get(url, headers=headers)\n",
    "    # 检查响应状态码\n",
    "    if response.status_code == 200:\n",
    "        # 解析响应内容\n",
    "        data = response.json()\n",
    "        return data\n",
    "    else:\n",
    "        print(\"请求失败，状态码：\", response.status_code)\n",
    "        return False\n",
    "# 获取当前页面cookie信息\n",
    "def get_cookie():\n",
    "    \"\"\"获取当前页面cookie信息\"\"\"\n",
    "    # 使用JavaScript获取Cookie\n",
    "    cookie_script = \"\"\"\n",
    "    return document.cookie;\n",
    "    \"\"\"\n",
    "    cookie_value = driver.execute_script(cookie_script)\n",
    "    return cookie_value\n",
    "# 更新cookie信息\n",
    "def update_cookie(headers):\n",
    "    \"\"\"更新cookie信息\"\"\"\n",
    "    # 获取当前页面cookie信息\n",
    "    cookie_value = get_cookie()\n",
    "    # 更新headers\n",
    "    headers.update({\"Cookie\": cookie_value})\n",
    "    return headers\n",
    "# 获取已审核数量\n",
    "def get_audit_num(headers):\n",
    "    \"\"\"获取已审核数量\"\"\"\n",
    "    url = YSH_URL\n",
    "    # 发送GET请求\n",
    "    response = requests.get(url, headers=headers)\n",
    "    # 检查响应状态码\n",
    "    if response.status_code == 200:\n",
    "        # 解析响应内容\n",
    "        data = response.json()\n",
    "        return data['result']\n",
    "    else:\n",
    "        print(\"请求失败，状态码：\", response.status_code)\n",
    "        return False\n",
    "# 获取待审核数量\n",
    "def get_wait_num(headers):\n",
    "    \"\"\"获取待审核数量\"\"\"\n",
    "    url = DSH_URL\n",
    "    # 发送GET请求\n",
    "    response = requests.get(url, headers=headers)\n",
    "    # 检查响应状态码\n",
    "    if response.status_code == 200:\n",
    "        # 解析响应内容\n",
    "        data = response.json()\n",
    "        return data['result']\n",
    "    else:\n",
    "        print(\"请求失败，状态码：\", response.status_code)\n",
    "        return False\n",
    "# 获取指定页面的编码\n",
    "def get_set_page_num(url,headers):\n",
    "    \"\"\"获取指定页面的编码\"\"\"\n",
    "    response = requests.get(url, headers=headers)\n",
    "    # 检查响应状态码\n",
    "    if response.status_code == 200:\n",
    "        # 解析响应内容\n",
    "        data = response.json()\n",
    "        info_list = data['result']['records']\n",
    "        # 循环获取编码\n",
    "        temp_dict = [{_['ydbh']:_['ydlb']} for _ in info_list]\n",
    "        return temp_dict\n",
    "    else:\n",
    "        print(\"请求失败，状态码：\", response.status_code)\n",
    "        return False\n",
    "\n",
    "# 获取已审核的编码\n",
    "def get_page_number(total,headers):\n",
    "    \"\"\"获取当前传入页面的编码,默认每一页50\"\"\"\n",
    "    # 计算有多少页\n",
    "    page_num = math.ceil(total / 50)\n",
    "    # 循环获取每一页的编码\n",
    "    result_list = []\n",
    "    for i in range(1, page_num + 1):\n",
    "        url = f\"{YSH_PAGE}{i}{PAGE_TAIL}\"\n",
    "        result_list.extend(get_set_page_num(url,headers))\n",
    "        time.sleep(random.random())\n",
    "    return result_list\n",
    "\n",
    "# 获取待审核的编码\n",
    "def get_wait_page_number(total,headers):\n",
    "    \"\"\"获取当前传入页面的编码,默认每一页50\"\"\"\n",
    "    # 计算有多少页\n",
    "    page_num = math.ceil(total / 50)\n",
    "    # 循环获取每一页的编码\n",
    "    temp_list = []\n",
    "    for i in range(1, page_num + 1):\n",
    "        url = f\"{DSH_PAGE}{i}{PAGE_TAIL}\"\n",
    "        temp_list.extend(get_set_page_num(url,headers))\n",
    "        time.sleep(random.random())\n",
    "    return temp_list\n",
    "def get_zkr_info(point_id,headers):\n",
    "    \"\"\"获取质量控制人信息\"\"\"\n",
    "    url = f\"{ZKR_URL}{point_id}\"\n",
    "    # 发送GET请求\n",
    "    response = requests.get(url, headers=headers)\n",
    "    # 检查响应状态码\n",
    "    if response.status_code == 200:\n",
    "        # 解析响应内容\n",
    "        data = response.json()['result']\n",
    "        return data\n",
    "# 随机休眠\n",
    "def random_sleep():\n",
    "    \"\"\"随机休眠\"\"\"\n",
    "    time.sleep(random.random())\n",
    "    return\n",
    "# 获取当天日期\n",
    "def get_today_date():\n",
    "    \"\"\"获取当天日期\"\"\"\n",
    "    today = datetime.today()\n",
    "    return today.strftime(\"%Y%m%d\")\n"
   ]
  },
  {
   "cell_type": "code",
   "execution_count": null,
   "metadata": {},
   "outputs": [],
   "source": [
    "# 配置浏览器\n",
    "# chrome.exe --remote-debugging-port=9999 --user-data-dir=\"D:\\Selenium\\AutomationProfile\"\n",
    "# chrome.exe --remote-debugging-port=9999 --user-data-dir=\"D:\\Program Files\\ChromeDir\"\n",
    "options = webdriver.ChromeOptions()\n",
    "options.add_experimental_option(\"debuggerAddress\", \"localhost:9998\")\n",
    "driver = webdriver.Chrome(options=options)\n",
    "\n",
    "driver.implicitly_wait(60)"
   ]
  },
  {
   "cell_type": "code",
   "execution_count": null,
   "metadata": {},
   "outputs": [],
   "source": [
    "# 保存路径\n",
    "save_path = r\"F:\\collection_spb_info\\GJ\\BZ\"\n",
    "# 如果没有该文件夹，则创建\n",
    "if not os.path.exists(save_path):\n",
    "    os.makedirs(save_path)"
   ]
  },
  {
   "cell_type": "markdown",
   "metadata": {},
   "source": [
    "# 检查heraders并更新"
   ]
  },
  {
   "cell_type": "code",
   "execution_count": null,
   "metadata": {},
   "outputs": [],
   "source": [
    "\n",
    "headers = update_cookie(headers)"
   ]
  },
  {
   "cell_type": "code",
   "execution_count": null,
   "metadata": {},
   "outputs": [],
   "source": [
    "headers"
   ]
  },
  {
   "cell_type": "code",
   "execution_count": null,
   "metadata": {},
   "outputs": [],
   "source": [
    "# 查看区县编码\n",
    "get_city_code(5227,headers)"
   ]
  },
  {
   "cell_type": "code",
   "execution_count": null,
   "metadata": {},
   "outputs": [],
   "source": [
    "# 获取选择条件的编码\n",
    "# 更新headers\n",
    "# headers = update_cookie(headers=headers)\n",
    "# get info \n",
    "info_list = get_xj_info_total(xjdm=520304,headers=headers)\n"
   ]
  },
  {
   "cell_type": "code",
   "execution_count": null,
   "metadata": {},
   "outputs": [],
   "source": [
    "# 保存基本信息\n",
    "df_base_info =pd.DataFrame(info_list)\n",
    "df_base_info.to_excel(os.path.join(save_path,f'base_info_{get_today_date()}_{len(info_list)}.xlsx'),index=False)\n"
   ]
  },
  {
   "cell_type": "code",
   "execution_count": null,
   "metadata": {},
   "outputs": [],
   "source": [
    "df_base_info.head(1)"
   ]
  },
  {
   "cell_type": "code",
   "execution_count": null,
   "metadata": {},
   "outputs": [],
   "source": [
    "# 区分样点类别\n",
    "pm_list = df_base_info[df_base_info['ydlb']=='1']['ydbh'].to_list()\n",
    "bc_list = df_base_info[df_base_info['ydlb']=='0']['ydbh'].to_list()\n",
    "# 分类型打印样点信息\n",
    "print(f\"剖面样点数：{len(pm_list)}\",f\"表层样点数：{len(bc_list)}\")\n",
    "# 检查总数\n",
    "print(df_base_info.shape[0]==len(pm_list)+len(bc_list))\n",
    "# 更新替换信息\n",
    "loop_all_point = bc_list+pm_list"
   ]
  },
  {
   "cell_type": "code",
   "execution_count": null,
   "metadata": {},
   "outputs": [],
   "source": [
    "# 测试一个点位的图片信息\n",
    "img_info = get_img_info(loop_all_point[0],img_headers)\n",
    "img_info"
   ]
  },
  {
   "cell_type": "code",
   "execution_count": null,
   "metadata": {},
   "outputs": [],
   "source": [
    "# 获取图片链接信息\n",
    "# 更新headers\n",
    "img_headers = update_cookie(img_headers)\n",
    "img_info_list = []\n",
    "for one_point in tqdm(loop_all_point):\n",
    "    one_point_img_info = get_img_info(one_point,img_headers)['result']\n",
    "    # 为链接增加域名\n",
    "    prefix = BASE_NAME\n",
    "    updated_list = [{**item, 'wjlj': f\"{prefix}{item['wjlj']}\"} for item in one_point_img_info]\n",
    "    # 随机休眠\n",
    "    # time.sleep(random.random())\n",
    "    img_info_list.extend(updated_list)"
   ]
  },
  {
   "cell_type": "code",
   "execution_count": null,
   "metadata": {},
   "outputs": [],
   "source": [
    "df_img_info = pd.DataFrame(img_info_list)\n",
    "df_img_info.head(1)"
   ]
  },
  {
   "cell_type": "code",
   "execution_count": null,
   "metadata": {},
   "outputs": [],
   "source": [
    "# 保存媒体信息\n",
    "df_img_info.to_excel(os.path.join(save_path, f'img_info_{get_today_date()}_{len(loop_all_point)}.xlsx'), index=False)\n"
   ]
  },
  {
   "cell_type": "code",
   "execution_count": null,
   "metadata": {},
   "outputs": [],
   "source": [
    "# 测试一个点位的立地调查信息\n",
    "ldtj_info = get_ldtj_info(loop_all_point[0],headers)\n",
    "ldtj_info"
   ]
  },
  {
   "cell_type": "code",
   "execution_count": null,
   "metadata": {},
   "outputs": [],
   "source": [
    "# 获取立地条件信息\n",
    "# 更新headers\n",
    "headers = update_cookie(headers)\n",
    "ldtj_info_list = []\n",
    "for one_point in tqdm(loop_all_point):\n",
    "    one_point_ldtj_info = get_ldtj_info(one_point,headers)['result']\n",
    "    ldtj_info_list.append(one_point_ldtj_info)\n",
    "    # 随机休眠\n",
    "    # time.sleep(random.random())"
   ]
  },
  {
   "cell_type": "code",
   "execution_count": null,
   "metadata": {},
   "outputs": [],
   "source": [
    "ldtj_info_list,len(ldtj_info_list)"
   ]
  },
  {
   "cell_type": "code",
   "execution_count": null,
   "metadata": {},
   "outputs": [],
   "source": [
    "df_ldtj_info = pd.DataFrame(ldtj_info_list)\n",
    "df_ldtj_info.head(1)"
   ]
  },
  {
   "cell_type": "code",
   "execution_count": null,
   "metadata": {},
   "outputs": [],
   "source": [
    "# 过滤NONE值\n",
    "ldtj_info_list = [x for x in ldtj_info_list if x is not None]  # 过滤掉 None 值\n",
    "df_ldtj_info = pd.DataFrame(ldtj_info_list)\n",
    "df_ldtj_info.head(1)\n"
   ]
  },
  {
   "cell_type": "code",
   "execution_count": null,
   "metadata": {},
   "outputs": [],
   "source": [
    "# 保存立地条件信息\n",
    "df_ldtj_info.to_excel(os.path.join(save_path,f'ldtj_info_{get_today_date()}_{len(loop_all_point)}.xlsx'),index=False)"
   ]
  },
  {
   "cell_type": "code",
   "execution_count": null,
   "metadata": {},
   "outputs": [],
   "source": [
    "# 测试一个点位的采土袋信息\n",
    "ctd_info = get_ctd_info(loop_all_point[0],headers)\n",
    "ctd_info"
   ]
  },
  {
   "cell_type": "code",
   "execution_count": null,
   "metadata": {},
   "outputs": [],
   "source": [
    "# 获取采土袋信息\n",
    "# 更新headers\n",
    "headers = update_cookie(headers)\n",
    "ctd_info_list = []\n",
    "for one_point in tqdm(loop_all_point):\n",
    "    one_point_ctd_info = get_ctd_info(one_point,headers)['result']\n",
    "    ctd_info_list.extend(one_point_ctd_info)\n",
    "    # 随机休眠\n",
    "    # time.sleep(random.random())"
   ]
  },
  {
   "cell_type": "code",
   "execution_count": null,
   "metadata": {},
   "outputs": [],
   "source": [
    "df_ctd_info = pd.DataFrame(ctd_info_list)\n",
    "df_ctd_info.head(1)"
   ]
  },
  {
   "cell_type": "code",
   "execution_count": null,
   "metadata": {},
   "outputs": [],
   "source": [
    "# 保存采土袋信息\n",
    "df_ctd_info.to_excel(os.path.join(save_path, f'ctd_info_{get_today_date()}_{len(loop_all_point)}.xlsx'), index=False)"
   ]
  },
  {
   "cell_type": "code",
   "execution_count": null,
   "metadata": {},
   "outputs": [],
   "source": [
    "# 测试一个点位的施肥信息\n",
    "sf_info = get_sf_info(loop_all_point[0],headers)\n",
    "sf_info"
   ]
  },
  {
   "cell_type": "code",
   "execution_count": null,
   "metadata": {},
   "outputs": [],
   "source": [
    "# 获取施肥信息\n",
    "# 更新headers\n",
    "headers = update_cookie(headers)\n",
    "sf_info_list = []\n",
    "for one_point in tqdm(loop_all_point):\n",
    "    one_point_sf_info = get_sf_info(one_point,headers)['result']\n",
    "    sf_info_list.extend(one_point_sf_info)\n",
    "    # 随机休眠\n",
    "    # time.sleep(random.random())"
   ]
  },
  {
   "cell_type": "code",
   "execution_count": null,
   "metadata": {},
   "outputs": [],
   "source": [
    "df_sf_info = pd.DataFrame(sf_info_list)\n",
    "df_sf_info.head(1)"
   ]
  },
  {
   "cell_type": "code",
   "execution_count": null,
   "metadata": {},
   "outputs": [],
   "source": [
    "# 保存施肥信息\n",
    "df_sf_info.to_excel(os.path.join(save_path, f'sf_info_{get_today_date()}_{len(loop_all_point)}.xlsx'), index=False)"
   ]
  },
  {
   "cell_type": "code",
   "execution_count": null,
   "metadata": {},
   "outputs": [],
   "source": [
    "# 测试质控人信息\n",
    "# 测试一个点位的施肥信息\n",
    "zkr_info = get_zkr_info(str(loop_all_point[0]),headers)\n",
    "zkr_info\n",
    "type(zkr_info)"
   ]
  },
  {
   "cell_type": "code",
   "execution_count": null,
   "metadata": {},
   "outputs": [],
   "source": [
    "# 获取质控人信息\n",
    "headers = update_cookie(headers)\n",
    "zkr_info_list = []\n",
    "for one_point in tqdm(loop_all_point):\n",
    "    one_point_zkr_info = get_zkr_info(one_point,headers)\n",
    "    if one_point_zkr_info:  # 确保返回的不是None\n",
    "        zkr_info_list.append(one_point_zkr_info)  # 将字典添加到列表中\n",
    "    # 随机休眠\n",
    "    # time.sleep(random.random())"
   ]
  },
  {
   "cell_type": "code",
   "execution_count": null,
   "metadata": {},
   "outputs": [],
   "source": [
    "len(zkr_info_list)\n"
   ]
  },
  {
   "cell_type": "code",
   "execution_count": null,
   "metadata": {},
   "outputs": [],
   "source": [
    "df_zkr_info = pd.DataFrame(zkr_info_list)\n",
    "df_zkr_info.head(1)"
   ]
  },
  {
   "cell_type": "code",
   "execution_count": null,
   "metadata": {},
   "outputs": [],
   "source": [
    "# 保存质控人信息\n",
    "df_zkr_info.to_excel(os.path.join(save_path, f'zkr_info_{get_today_date()}_{len(loop_all_point)}.xlsx'), index=False)"
   ]
  },
  {
   "cell_type": "markdown",
   "metadata": {},
   "source": [
    "# 剖面信息"
   ]
  },
  {
   "cell_type": "code",
   "execution_count": null,
   "metadata": {},
   "outputs": [],
   "source": [
    "pm_point_id = pm_list"
   ]
  },
  {
   "cell_type": "code",
   "execution_count": null,
   "metadata": {},
   "outputs": [],
   "source": [
    "# 测试剖面点位的信息\n",
    "pm_info = get_pm_info(pm_point_id[0],headers)\n",
    "pm_info"
   ]
  },
  {
   "cell_type": "code",
   "execution_count": null,
   "metadata": {},
   "outputs": [],
   "source": [
    "# 获取剖面信息\n",
    "# 更新headers\n",
    "headers = update_cookie(headers)\n",
    "pm_info_list = []\n",
    "for one_point in tqdm(pm_point_id):\n",
    "    one_point_pm_info = get_pm_info(one_point,headers)['result']\n",
    "    pm_info_list.append(one_point_pm_info)\n",
    "    # 随机休眠\n",
    "    time.sleep(random.random())"
   ]
  },
  {
   "cell_type": "code",
   "execution_count": null,
   "metadata": {},
   "outputs": [],
   "source": [
    "df_pm_info = pd.DataFrame(pm_info_list)\n",
    "df_pm_info.head(1)"
   ]
  },
  {
   "cell_type": "code",
   "execution_count": null,
   "metadata": {},
   "outputs": [],
   "source": [
    "# 过滤NONE值\n",
    "pm_info_list = [x for x in pm_info_list if x is not None]  # 过滤掉 None 值\n",
    "df_pm_info = pd.DataFrame(pm_info_list)\n",
    "df_pm_info.head(1)\n"
   ]
  },
  {
   "cell_type": "code",
   "execution_count": null,
   "metadata": {},
   "outputs": [],
   "source": [
    "# 保存剖面信息\n",
    "df_pm_info.to_excel(os.path.join(save_path, f'pm_info_{get_today_date()}_{len(pm_point_id)}.xlsx'), index=False)"
   ]
  },
  {
   "cell_type": "code",
   "execution_count": null,
   "metadata": {},
   "outputs": [],
   "source": [
    "# 测试剖面点位发生层信息\n",
    "pm_fc_info = get_pmfc_info(pm_point_id[0],headers)\n",
    "pm_fc_info"
   ]
  },
  {
   "cell_type": "code",
   "execution_count": null,
   "metadata": {},
   "outputs": [],
   "source": [
    "# 获取剖面发生层信息\n",
    "# 更新headers\n",
    "headers = update_cookie(headers)\n",
    "pm_fc_info_list = []\n",
    "for one_point in tqdm(pm_point_id):\n",
    "    one_point_pm_fc_info = get_pmfc_info(one_point,headers)['result']\n",
    "    pm_fc_info_list.extend(one_point_pm_fc_info)\n",
    "    # 随机休眠\n",
    "    time.sleep(random.random())"
   ]
  },
  {
   "cell_type": "code",
   "execution_count": null,
   "metadata": {},
   "outputs": [],
   "source": [
    "df_pm_fc_info = pd.DataFrame(pm_fc_info_list)\n",
    "df_pm_fc_info.head(1)"
   ]
  },
  {
   "cell_type": "code",
   "execution_count": null,
   "metadata": {},
   "outputs": [],
   "source": [
    "# 过滤NONE值\n",
    "pm_fc_info_list = [x for x in pm_fc_info_list if x is not None]  # 过滤掉 None 值\n",
    "df_pm_fc_info = pd.DataFrame(pm_info_list)\n",
    "df_pm_fc_info.head(1)\n"
   ]
  },
  {
   "cell_type": "code",
   "execution_count": null,
   "metadata": {},
   "outputs": [],
   "source": [
    "# 保存剖面发生层信息\n",
    "df_pm_fc_info.to_excel(os.path.join(save_path, f'pm_fc_info_{get_today_date()}_{len(pm_point_id)}.xlsx'), index=False)"
   ]
  }
 ],
 "metadata": {
  "kernelspec": {
   "display_name": ".spidervenv",
   "language": "python",
   "name": "python3"
  },
  "language_info": {
   "codemirror_mode": {
    "name": "ipython",
    "version": 3
   },
   "file_extension": ".py",
   "mimetype": "text/x-python",
   "name": "python",
   "nbconvert_exporter": "python",
   "pygments_lexer": "ipython3",
   "version": "3.10.11"
  }
 },
 "nbformat": 4,
 "nbformat_minor": 2
}
